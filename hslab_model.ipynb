{
 "cells": [
  {
   "cell_type": "markdown",
   "id": "43f98d5b",
   "metadata": {},
   "source": [
    "## Model Architecture"
   ]
  },
  {
   "cell_type": "code",
   "execution_count": null,
   "id": "573d4897",
   "metadata": {},
   "outputs": [],
   "source": [
    "#Version 1\n",
    "def mode():\n",
    "   \n",
    "    model = tf.keras.Sequential([\n",
    "    Conv2D(32, kernel_size=KERNEL_SIZE, activation='relu', padding='same'),\n",
    "    Conv2D(32, kernel_size=KERNEL_SIZE, activation='relu', padding='same', strides=(2, 2)),\n",
    "    BatchNormalization(),\n",
    "\n",
    "    Conv2D(64, kernel_size=KERNEL_SIZE, activation='relu', padding='same'),\n",
    "    Conv2D(64, kernel_size=KERNEL_SIZE, activation='relu', padding='same', strides=(2, 2)),\n",
    "    BatchNormalization(),\n",
    "\n",
    "    Conv2D(128, kernel_size=KERNEL_SIZE, activation='relu', padding='same'),\n",
    "    Conv2D(128, kernel_size=KERNEL_SIZE, activation='relu', padding='same'),\n",
    "    Conv2D(128, kernel_size=KERNEL_SIZE, activation='relu', padding='same', strides=(2, 2)),\n",
    "    BatchNormalization(),\n",
    "\n",
    "    Conv2D(256, kernel_size=KERNEL_SIZE, activation='relu', padding='same'),\n",
    "    Conv2D(256, kernel_size=KERNEL_SIZE, activation='relu', padding='same'),\n",
    "    Conv2D(256, kernel_size=KERNEL_SIZE, activation='relu', padding='same'),\n",
    "    BatchNormalization(),\n",
    "\n",
    "    Conv2D(256, kernel_size=KERNEL_SIZE, activation='relu', padding='same', dilation_rate=2),\n",
    "    Conv2D(256, kernel_size=KERNEL_SIZE, activation='relu', padding='same', dilation_rate=2),\n",
    "    Conv2D(256, kernel_size=KERNEL_SIZE, activation='relu', padding='same', dilation_rate=2),\n",
    "    BatchNormalization(),\n",
    "\n",
    "    Conv2D(256, kernel_size=KERNEL_SIZE, activation='relu', padding='same', dilation_rate=2),\n",
    "    Conv2D(256, kernel_size=KERNEL_SIZE, activation='relu', padding='same', dilation_rate=2),\n",
    "    Conv2D(256, kernel_size=KERNEL_SIZE, activation='relu', padding='same', dilation_rate=2),\n",
    "    BatchNormalization(),\n",
    "\n",
    "    Conv2D(128, kernel_size=KERNEL_SIZE, activation='relu', padding='same'),\n",
    "    Conv2D(128, kernel_size=KERNEL_SIZE, activation='relu', padding='same'),\n",
    "    Conv2D(128, kernel_size=KERNEL_SIZE, activation='relu', padding='same'),\n",
    "    BatchNormalization(),\n",
    "\n",
    "    UpSampling2D(size=(2, 2)),\n",
    "    Conv2D(64, kernel_size=KERNEL_SIZE, activation='relu', padding='same'),\n",
    "    Conv2D(64, kernel_size=KERNEL_SIZE, activation='relu', padding='same'),\n",
    "    Conv2D(64, kernel_size=KERNEL_SIZE, activation='relu', padding='same'),\n",
    "    BatchNormalization(),\n",
    "\n",
    "    Conv2D(NUM_CLASSES, kernel_size=1, padding='same'), UpSampling2D(size=(4, 4))\n",
    "        ])\n",
    "    \n",
    "    model.compile(optimizer =\"adam\", loss = \"CategoricalCrossentropy\", metrics = [\"accuracy\"])\n",
    "    \n",
    "    return model"
   ]
  },
  {
   "cell_type": "code",
   "execution_count": null,
   "id": "d48853bc",
   "metadata": {},
   "outputs": [],
   "source": []
  }
 ],
 "metadata": {
  "kernelspec": {
   "display_name": "Python 3",
   "language": "python",
   "name": "python3"
  },
  "language_info": {
   "codemirror_mode": {
    "name": "ipython",
    "version": 3
   },
   "file_extension": ".py",
   "mimetype": "text/x-python",
   "name": "python",
   "nbconvert_exporter": "python",
   "pygments_lexer": "ipython3",
   "version": "3.8.8"
  }
 },
 "nbformat": 4,
 "nbformat_minor": 5
}
