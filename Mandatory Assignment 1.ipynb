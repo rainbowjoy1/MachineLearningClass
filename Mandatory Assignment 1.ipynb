{
 "cells": [
  {
   "cell_type": "markdown",
   "id": "c1633455",
   "metadata": {},
   "source": [
    "# Part 1: ML Assignment\n",
    "\n",
    "1. Forest fires:\n",
    "•Data: https://raw.githubusercontent.com/nick-edu/dmmldl/master/ForestFires.csv\n",
    "•Description: https://raw.githubusercontent.com/nick-edu/dmmldl/master/ForestFiresColumns.\n",
    "txt\n",
    "2. Mobile price:\n",
    "•Data: https://raw.githubusercontent.com/nick-edu/dmmldl/master/MobilePrice.csv\n",
    "•Description: https://raw.githubusercontent.com/nick-edu/dmmldl/master/MobilePriceColumns.\n",
    "txt\n",
    "Answer the following questions for your chosen dataset.\n",
    "\n",
    "## 1.1 Exploratory Data Analysis\n",
    "Perform exploratory data analysis on your chosen data set covering the following items.\n",
    "1. How many rows and columns are there in your selected dataset? Are there any missing values in any of the columns?\n",
    "2. Choose few columns from your dataset and describe them using various visualizations e.g. histograms, scatterplots etc.\n",
    "\n",
    "## 1.2 Clustering\n",
    "As part of this sub-question you will perform clustering on your chosen dataset from the above links. Choose one of the clustering algorithms that were discussed during the lecture for the application on your chosen dataset. Then choose few columns from your dataset that you think suitable for performing your chosen clustering. Describe and reflect on the clustering results and you are free to use the graphs/images and any other sort of visualizations also."
   ]
  },
  {
   "cell_type": "markdown",
   "id": "72c0ff6c",
   "metadata": {},
   "source": [
    "# Question 2\n",
    "## 2.1 Principal Component Analysis\n",
    "You need to download Olivetti faces dataset for this question and you can get it in one of the following ways.\n",
    "1. Olivetti faces dataset download links\n",
    "•Data: https://cs.nyu.edu/~roweis/data/olivettifaces.mat\n",
    "•Images: https://cs.nyu.edu/~roweis/data/olivettifaces.gif\n",
    "2. Dataset using Scikit-learn [1]: Use the sample code shown in listing 1.\n",
    "\n",
    "a) Consider Olivetti faces dataset and use a classical dimensionality reduction technique (e.g. PCA) while preserving 99% of the variance. Then compute the reconstruction error for each image.\n",
    "\n",
    "b) Next, take some of the images you built using the dimensionality reduction technique and modify/add some noise to some of the images using techniques such as rotate, flip, darken (you can use libraries such as scikit-image [2] etc. to do this) and look at their reconstruction error. You willnotice that how much larger the reconstruction error is.\n",
    "\n",
    "c) Finally, plot all the 3 respective reconstructed images side by side (original image, image after PCA, image after PCA + noise) and compare the results.\n",
    "\n",
    "2.2 Singular Value Decomposition\n",
    "Find the singular values of the matrix Ashown below. The purpose of this assignment is to understand how to calculate the SVD for a given matrix. Therefore use a pen and paper to do the calculations, otherwise, if you are writing your own Python program, make sure to print/produce all the steps, so that we can verify your workings easily."
   ]
  },
  {
   "cell_type": "markdown",
   "id": "4d04c072",
   "metadata": {},
   "source": [
    "# Question 3\n",
    "Write a brief extended abstract (of approximately 2-pages) containing your reflections on the appli-\n",
    "cations of one of the following unsupervised machine learning techniques.\n",
    "1. Dimensionality Reduction\n",
    "2. Clustering\n",
    "\n",
    "In order to answer the above question, you can also do a tiny literature review to find out how your chosen techniques is used across various domains to address/solve which kinds of problems. Also note that these techniques are old, quite popular and have laid foundation for many other machine learning/applied techniques. For example, recommender systems, customer segmentation, image segmentation etc. use internally/got inspired from the clustering technique. Therefore you have a several choices to write/shape your extended abstract and feel free to choose whatever the direction you want to explore. Furthermore, you can also reflect based on your experience in using the chosen techniques in your assignment, on their capabilities and limitations in terms of applying them on various datasets.\n",
    "\n",
    "Finally, we would like to see more of your reflections and critical comments rather than just reproducing/reporting from what you have found in literature review. Your report should confirm to general formatting guidelines and academic standards that is expected for written projects at CBS and therefore also use a proper referencing/citations style (e.g. APA, MLA, Harvard etc. ) for your report."
   ]
  },
  {
   "cell_type": "code",
   "execution_count": null,
   "id": "eaeea220",
   "metadata": {},
   "outputs": [],
   "source": []
  }
 ],
 "metadata": {
  "kernelspec": {
   "display_name": "Python 3",
   "language": "python",
   "name": "python3"
  },
  "language_info": {
   "codemirror_mode": {
    "name": "ipython",
    "version": 3
   },
   "file_extension": ".py",
   "mimetype": "text/x-python",
   "name": "python",
   "nbconvert_exporter": "python",
   "pygments_lexer": "ipython3",
   "version": "3.8.8"
  }
 },
 "nbformat": 4,
 "nbformat_minor": 5
}
