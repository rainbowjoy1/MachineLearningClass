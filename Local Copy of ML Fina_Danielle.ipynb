{
 "cells": [
  {
   "cell_type": "code",
   "execution_count": 8,
   "metadata": {},
   "outputs": [],
   "source": [
    "#def init():\n",
    "    #CHANGE THIS TO YOUR TRAIN FOLDER\n",
    "image_folder = 'C:/Study/Semester2/Machine Learning/ML_images/Training' \n",
    "#image_folder = 'C:/Users/danie/Desktop/Training_ML'\n",
    "\n",
    "TOO_SMALL = 200000\n",
    "SMALL = 500000\n",
    "MEDIUM = 1200000\n",
    "LARGE = 2100000\n",
    "    \n",
    "X_train = []\n",
    "Y_train = []\n",
    "counter = 1\n",
    "    \n",
    "img_height = 1888 #Usually 128. this might change depending on Annaya & Danielle's input \n",
    "img_width = 1888 #Usually 128. this might change depending on Annaya & Danielle's input \n",
    "epochs = 10 #Start with 1, and increase to 10, 100, 500, 1000 and 3000. 11 is the recommended number of runs through the training dataset. We will probably have to tune this. \n",
    "#total_training = total number of training data len()\n",
    "batch_size = 1 #test different ones from 1 to 2, 5, 10, etc\n",
    "total_images = 1"
   ]
  },
  {
   "cell_type": "code",
   "execution_count": 9,
   "metadata": {},
   "outputs": [],
   "source": [
    "#pip install opencv-python"
   ]
  },
  {
   "cell_type": "code",
   "execution_count": 10,
   "metadata": {
    "cell_id": "6ba26cc8e50f49b5b9b751f88421f6cc",
    "deepnote_cell_height": 459,
    "deepnote_cell_type": "code",
    "deepnote_to_be_reexecuted": false,
    "execution_millis": 10265,
    "execution_start": 1652547014086,
    "source_hash": "25a5d69b",
    "tags": []
   },
   "outputs": [],
   "source": [
    "import numpy as np\n",
    "import tensorflow as tf\n",
    "import matplotlib.pyplot as plt\n",
    "import skimage\n",
    "import cv2\n",
    "import glob\n",
    "import pandas as pd\n",
    "import joblib\n",
    "\n",
    "from tensorflow.keras import layers\n",
    "from tensorflow.keras.datasets import mnist\n",
    "from tensorflow.keras.models import Model\n",
    "from tensorflow.keras.models import Sequential\n",
    "from tensorflow.keras.layers import Dense, Conv2D, Flatten, Dropout, UpSampling2D\n",
    "from keras.preprocessing.image import ImageDataGenerator, array_to_img, img_to_array, load_img\n",
    "from skimage import data, io,color\n",
    "from skimage.io import imread_collection #loads a collection of images\n",
    "from skimage.io import imread, imshow\n",
    "from pathlib import Path\n",
    "\n",
    "from sklearn.decomposition import PCA\n",
    "\n",
    "import matplotlib as mpl\n",
    "import matplotlib.pyplot as plt"
   ]
  },
  {
   "cell_type": "code",
   "execution_count": 11,
   "metadata": {
    "cell_id": "5647a315e91e408b8dcdd46d33814f9e",
    "deepnote_cell_height": 477,
    "deepnote_cell_type": "code",
    "deepnote_to_be_reexecuted": false,
    "execution_millis": 1,
    "execution_start": 1652547146694,
    "source_hash": "8fbce57",
    "tags": []
   },
   "outputs": [],
   "source": [
    "#Define sizes of images based on their resolution\n",
    "#Image shape and resolution\n",
    "\n",
    "#TODO make the IMG sizes make sense\n",
    "\n",
    "\n",
    "def shape(img):\n",
    "    size = 0\n",
    "    resolution = img.shape[0] * img.shape[1]\n",
    "    if resolution <= TOO_SMALL:\n",
    "        size = 0\n",
    "    elif resolution <= SMALL:\n",
    "        size = 1\n",
    "    elif resolution <= MEDIUM:\n",
    "        size = 2\n",
    "    elif resolution <= LARGE:\n",
    "        size = 3\n",
    "    else:\n",
    "        size = 6\n",
    "    return size"
   ]
  },
  {
   "cell_type": "code",
   "execution_count": 12,
   "metadata": {},
   "outputs": [],
   "source": [
    "def create_dataframe(image_folder):\n",
    "    images = Path(image_folder).glob('*.jpg')\n",
    "\n",
    "    list_of_files = []\n",
    "    for image in images:\n",
    "        list_of_files.append(str(image))\n",
    "\n",
    "    df = pd. DataFrame(list_of_files, columns = [\"image_path\"])\n",
    "    df_length = len(df.index)\n",
    "    print(\"processing\", df_length, \"photos for training\")\n",
    "    \n",
    "    height= []\n",
    "    width = []\n",
    "    resolution = []\n",
    "    \n",
    "    for image_path in df['image_path']:\n",
    "        img = cv2.imread(str(image_path))\n",
    "        height.append(img.shape[0])\n",
    "        width.append(img.shape[1])\n",
    "        \n",
    "    df[\"height\"] = height\n",
    "    df[\"width\"] = width\n",
    "    df[\"resolution\"] = df[\"height\"] * df[\"width\"]\n",
    "    \n",
    "    df = df[df.resolution < LARGE]\n",
    "    \n",
    "    ll = df_length - len(df.index)\n",
    "    print(\"dropped \", ll, \"photos because they were too large to process\")\n",
    "    \n",
    "    df = df[df.resolution > TOO_SMALL]\n",
    "    \n",
    "    ss = df_length - len(df.index) - ll\n",
    "    print(\"dropped \", ss, \"photos because they were too small to process\")\n",
    "    df.head()\n",
    "    \n",
    "    return df"
   ]
  },
  {
   "cell_type": "code",
   "execution_count": 13,
   "metadata": {
    "cell_id": "284e594fca804177bb7508f8e816bfa2",
    "deepnote_cell_height": 387,
    "deepnote_cell_type": "code",
    "deepnote_to_be_reexecuted": false,
    "execution_millis": 0,
    "execution_start": 1652547146695,
    "source_hash": "4c92008b",
    "tags": []
   },
   "outputs": [],
   "source": [
    "#PCA rgb then pass to prep_img as an rgb image\n",
    "\n",
    "def pca_rgb(imgBGR, size): #imgRGB, size\n",
    "    b,g,r = cv2.split(imgBGR)\n",
    "    list_channels = [b,g,r]\n",
    "    \n",
    "    #check size first\n",
    "    if size ==1:\n",
    "        inverted_img = []\n",
    "        for c in list_channels:            \n",
    "            pca = PCA(n_components = 100)\n",
    "            transformed = pca.fit_transform(c/255) #r_scaled\n",
    "            inverted = pca.inverse_transform(transformed)\n",
    "            inverted_img.append(inverted)\n",
    "        \n",
    "        tuple(inverted_img)\n",
    "        RGB_compressed = cv2.merge(inverted_img)    \n",
    "\n",
    "    elif size == 2:\n",
    "        inverted_img = []\n",
    "        for c in list_channels:            \n",
    "            pca = PCA(n_components = 300)\n",
    "            transformed = pca.fit_transform(c/255) #r_scaled\n",
    "            inverted = pca.inverse_transform(transformed)\n",
    "            inverted_img.append(inverted)\n",
    "        \n",
    "        tuple(inverted_img)\n",
    "        RGB_compressed = cv2.merge(inverted_img)\n",
    "    else:\n",
    "        inverted_img = []\n",
    "        for c in list_channels:            \n",
    "            pca = PCA(n_components = 500)\n",
    "            transformed = pca.fit_transform(c/255) #r_scaled\n",
    "            inverted = pca.inverse_transform(transformed)\n",
    "            inverted_img.append(inverted)\n",
    "        \n",
    "        tuple(inverted_img)\n",
    "        RGB_compressed = cv2.merge(inverted_img)\n",
    "        \n",
    "    RGB_compressed = np.float32(RGB_compressed)\n",
    "        \n",
    "    return RGB_compressed"
   ]
  },
  {
   "cell_type": "code",
   "execution_count": 14,
   "metadata": {},
   "outputs": [],
   "source": [
    "# image padding\n",
    "\n",
    "def rgb_pad(image):\n",
    "    \n",
    "    height = image.shape[0]\n",
    "    width = image.shape[1]\n",
    "\n",
    "    WHITE = [255,255,255] #[255,255,255]  1, 1, 1\n",
    "    MAX = 1888\n",
    "    \n",
    "    if height % 2 == 0:\n",
    "        top = int((MAX - height)/ 2)\n",
    "        bottom = int((MAX - height)/ 2)\n",
    "    else: \n",
    "        top = int((MAX - (height-1))/ 2)\n",
    "        bottom = int(((MAX - (height-1))/ 2)-1)\n",
    "\n",
    "    if width % 2 == 0:\n",
    "        left = int((MAX - width)/ 2)\n",
    "        right = int((MAX - width)/ 2)\n",
    "    else: \n",
    "        left = int((MAX - (width-1))/ 2)\n",
    "        right = int(((MAX - (width-1))/2)-1)\n",
    "    \n",
    "    image = cv2.copyMakeBorder(image, top, bottom, left, right,\n",
    "    cv2.BORDER_CONSTANT,value=WHITE)\n",
    "\n",
    "    return image"
   ]
  },
  {
   "cell_type": "code",
   "execution_count": 15,
   "metadata": {
    "cell_id": "6be9a9aec0ee44dab9bb55d664de627f",
    "deepnote_cell_height": 693,
    "deepnote_cell_type": "code",
    "deepnote_to_be_reexecuted": false,
    "execution_millis": 0,
    "execution_start": 1652547146783,
    "source_hash": "c4f5421",
    "tags": []
   },
   "outputs": [],
   "source": [
    "#Debugged function\n",
    "def prep_img(img_path):\n",
    "    imgRGB = cv2.imread(img_path)\n",
    "    imgBGR = np.flip(imgRGB, -1)\n",
    "    \n",
    "    #check the image category by 'shape' function\n",
    "    image_size_category = shape(imgBGR) #imgRGB\n",
    "    #print(\"image size determined!\")\n",
    "\n",
    "    if image_size_category <1:\n",
    "        raise Exception(\"Your image is too small to be used\")\n",
    "    elif image_size_category >4:\n",
    "        raise Exception(\"Your image is too big to be used\")\n",
    "\n",
    "    #print(\"image PCA started!\")\n",
    "    #image_pca = pca_rgb(imgRGB, image_size_category) \n",
    "    RGB_compressed = pca_rgb(imgBGR, image_size_category) #imgRGB, image_size_category\n",
    "    #RGB_compressed[400][400]\n",
    "    #plt.figure(figsize=(10, 10))\n",
    "    #plt.imshow(RGB_compressed)\n",
    "    \n",
    "    print(\"image is padded\")\n",
    "    padded_image = rgb_pad(RGB_compressed)\n",
    "    #padded_image[1000][1000]\n",
    "    #plt.figure(figsize=(10, 10))\n",
    "    #plt.imshow(padded_image)\n",
    "    \n",
    "    #image_pca = np.float32((1.0/255)*image_pca) # #The rgb_compressed come out in RGB scaled data already\n",
    "    print(\"image converted to LAB\")\n",
    "    padded_LAB = cv2.cvtColor(padded_image, cv2.COLOR_RGB2Lab) #convert padded RGB compressed to LAB\n",
    "    padded_LAB = padded_LAB/np.amax(padded_LAB) #scaled to -1/1\n",
    "    #imgLAB = np.clip(imgLAB, 0, 1)\n",
    "\n",
    "    \n",
    "    #separate L and AB color channels\n",
    "    Y = padded_LAB[:, :,1:]\n",
    "    #Y = Y / 128 #comment out when show predicted\n",
    "    #Y = Y.tolist()\n",
    "    X = padded_LAB[:, :, 0] #.tolist()\n",
    "    #print(X[1000])\n",
    "    #plt.figure(figsize=(10, 10))\n",
    "    #plt.imshow(X)\n",
    "    \n",
    "    #this is in sample code and idk why\n",
    "    \n",
    "    X = X.reshape(1, 1888, 1888, 1) #comment out when show predicted\n",
    "    Y = Y.reshape(1, 1888, 1888, 2) #comment out when show predicted\n",
    "    \n",
    "    print(\"image processed\")\n",
    "\n",
    "    return Y, X "
   ]
  },
  {
   "cell_type": "code",
   "execution_count": 16,
   "metadata": {},
   "outputs": [],
   "source": [
    "def prep_dataframe(df):\n",
    "    for index, row in df.iterrows():\n",
    "        Y, X = prep_img(row[\"image_path\"])\n",
    "        Y_train.append(Y)\n",
    "        X_train.append(X)"
   ]
  },
  {
   "cell_type": "markdown",
   "metadata": {},
   "source": [
    "# Use the code below to process ALL photos and feed them to the model!!!"
   ]
  },
  {
   "cell_type": "code",
   "execution_count": 17,
   "metadata": {
    "scrolled": false
   },
   "outputs": [
    {
     "name": "stdout",
     "output_type": "stream",
     "text": [
      "processing 151 photos for training\n",
      "dropped  9 photos because they were too large to process\n",
      "dropped  5 photos because they were too small to process\n",
      "image is padded\n",
      "image converted to LAB\n",
      "image processed\n",
      "image is padded\n",
      "image converted to LAB\n",
      "image processed\n",
      "image is padded\n",
      "image converted to LAB\n",
      "image processed\n",
      "image is padded\n",
      "image converted to LAB\n",
      "image processed\n",
      "image is padded\n",
      "image converted to LAB\n",
      "image processed\n",
      "image is padded\n",
      "image converted to LAB\n",
      "image processed\n",
      "image is padded\n",
      "image converted to LAB\n",
      "image processed\n",
      "image is padded\n",
      "image converted to LAB\n",
      "image processed\n",
      "image is padded\n",
      "image converted to LAB\n",
      "image processed\n",
      "image is padded\n",
      "image converted to LAB\n",
      "image processed\n",
      "image is padded\n",
      "image converted to LAB\n",
      "image processed\n",
      "image is padded\n",
      "image converted to LAB\n",
      "image processed\n",
      "image is padded\n",
      "image converted to LAB\n",
      "image processed\n",
      "image is padded\n",
      "image converted to LAB\n",
      "image processed\n",
      "image is padded\n",
      "image converted to LAB\n",
      "image processed\n",
      "image is padded\n",
      "image converted to LAB\n",
      "image processed\n",
      "image is padded\n",
      "image converted to LAB\n",
      "image processed\n",
      "image is padded\n",
      "image converted to LAB\n",
      "image processed\n",
      "image is padded\n",
      "image converted to LAB\n",
      "image processed\n",
      "image is padded\n",
      "image converted to LAB\n",
      "image processed\n",
      "image is padded\n",
      "image converted to LAB\n",
      "image processed\n",
      "image is padded\n",
      "image converted to LAB\n",
      "image processed\n",
      "image is padded\n",
      "image converted to LAB\n",
      "image processed\n",
      "image is padded\n",
      "image converted to LAB\n",
      "image processed\n",
      "image is padded\n",
      "image converted to LAB\n",
      "image processed\n",
      "image is padded\n",
      "image converted to LAB\n",
      "image processed\n",
      "image is padded\n",
      "image converted to LAB\n",
      "image processed\n",
      "image is padded\n",
      "image converted to LAB\n",
      "image processed\n",
      "image is padded\n",
      "image converted to LAB\n",
      "image processed\n",
      "image is padded\n",
      "image converted to LAB\n",
      "image processed\n",
      "image is padded\n",
      "image converted to LAB\n",
      "image processed\n",
      "image is padded\n",
      "image converted to LAB\n",
      "image processed\n",
      "image is padded\n",
      "image converted to LAB\n",
      "image processed\n",
      "image is padded\n",
      "image converted to LAB\n",
      "image processed\n",
      "image is padded\n",
      "image converted to LAB\n",
      "image processed\n",
      "image is padded\n",
      "image converted to LAB\n",
      "image processed\n",
      "image is padded\n",
      "image converted to LAB\n",
      "image processed\n",
      "image is padded\n",
      "image converted to LAB\n",
      "image processed\n",
      "image is padded\n",
      "image converted to LAB\n",
      "image processed\n",
      "image is padded\n",
      "image converted to LAB\n",
      "image processed\n",
      "image is padded\n",
      "image converted to LAB\n",
      "image processed\n",
      "image is padded\n",
      "image converted to LAB\n",
      "image processed\n",
      "image is padded\n",
      "image converted to LAB\n",
      "image processed\n",
      "image is padded\n",
      "image converted to LAB\n",
      "image processed\n",
      "image is padded\n",
      "image converted to LAB\n",
      "image processed\n",
      "image is padded\n",
      "image converted to LAB\n",
      "image processed\n",
      "image is padded\n",
      "image converted to LAB\n",
      "image processed\n",
      "image is padded\n",
      "image converted to LAB\n",
      "image processed\n",
      "image is padded\n",
      "image converted to LAB\n",
      "image processed\n",
      "image is padded\n",
      "image converted to LAB\n",
      "image processed\n",
      "image is padded\n",
      "image converted to LAB\n",
      "image processed\n",
      "image is padded\n",
      "image converted to LAB\n",
      "image processed\n",
      "image is padded\n",
      "image converted to LAB\n",
      "image processed\n",
      "image is padded\n",
      "image converted to LAB\n",
      "image processed\n",
      "image is padded\n",
      "image converted to LAB\n",
      "image processed\n",
      "image is padded\n",
      "image converted to LAB\n",
      "image processed\n",
      "image is padded\n",
      "image converted to LAB\n",
      "image processed\n",
      "image is padded\n",
      "image converted to LAB\n",
      "image processed\n",
      "image is padded\n",
      "image converted to LAB\n",
      "image processed\n",
      "image is padded\n",
      "image converted to LAB\n",
      "image processed\n",
      "image is padded\n",
      "image converted to LAB\n",
      "image processed\n",
      "image is padded\n",
      "image converted to LAB\n",
      "image processed\n",
      "image is padded\n",
      "image converted to LAB\n",
      "image processed\n",
      "image is padded\n",
      "image converted to LAB\n",
      "image processed\n",
      "image is padded\n",
      "image converted to LAB\n",
      "image processed\n",
      "image is padded\n",
      "image converted to LAB\n",
      "image processed\n",
      "image is padded\n",
      "image converted to LAB\n",
      "image processed\n",
      "image is padded\n",
      "image converted to LAB\n",
      "image processed\n",
      "image is padded\n",
      "image converted to LAB\n",
      "image processed\n",
      "image is padded\n",
      "image converted to LAB\n",
      "image processed\n",
      "image is padded\n",
      "image converted to LAB\n",
      "image processed\n",
      "image is padded\n",
      "image converted to LAB\n",
      "image processed\n",
      "image is padded\n",
      "image converted to LAB\n",
      "image processed\n",
      "image is padded\n",
      "image converted to LAB\n",
      "image processed\n",
      "image is padded\n",
      "image converted to LAB\n",
      "image processed\n",
      "image is padded\n",
      "image converted to LAB\n",
      "image processed\n",
      "image is padded\n",
      "image converted to LAB\n",
      "image processed\n",
      "image is padded\n",
      "image converted to LAB\n",
      "image processed\n",
      "image is padded\n",
      "image converted to LAB\n",
      "image processed\n",
      "image is padded\n",
      "image converted to LAB\n",
      "image processed\n",
      "image is padded\n",
      "image converted to LAB\n",
      "image processed\n",
      "image is padded\n",
      "image converted to LAB\n",
      "image processed\n",
      "image is padded\n",
      "image converted to LAB\n",
      "image processed\n",
      "image is padded\n",
      "image converted to LAB\n",
      "image processed\n",
      "image is padded\n",
      "image converted to LAB\n",
      "image processed\n",
      "image is padded\n",
      "image converted to LAB\n",
      "image processed\n",
      "image is padded\n",
      "image converted to LAB\n",
      "image processed\n",
      "image is padded\n",
      "image converted to LAB\n",
      "image processed\n",
      "image is padded\n",
      "image converted to LAB\n",
      "image processed\n",
      "image is padded\n",
      "image converted to LAB\n",
      "image processed\n",
      "image is padded\n",
      "image converted to LAB\n",
      "image processed\n",
      "image is padded\n",
      "image converted to LAB\n",
      "image processed\n",
      "image is padded\n",
      "image converted to LAB\n",
      "image processed\n",
      "image is padded\n",
      "image converted to LAB\n",
      "image processed\n",
      "image is padded\n",
      "image converted to LAB\n",
      "image processed\n",
      "image is padded\n",
      "image converted to LAB\n",
      "image processed\n",
      "image is padded\n",
      "image converted to LAB\n",
      "image processed\n",
      "image is padded\n",
      "image converted to LAB\n",
      "image processed\n",
      "image is padded\n",
      "image converted to LAB\n",
      "image processed\n",
      "image is padded\n",
      "image converted to LAB\n",
      "image processed\n",
      "image is padded\n",
      "image converted to LAB\n",
      "image processed\n",
      "image is padded\n",
      "image converted to LAB\n",
      "image processed\n",
      "image is padded\n",
      "image converted to LAB\n",
      "image processed\n",
      "image is padded\n",
      "image converted to LAB\n",
      "image processed\n",
      "image is padded\n",
      "image converted to LAB\n",
      "image processed\n",
      "image is padded\n",
      "image converted to LAB\n",
      "image processed\n",
      "image is padded\n",
      "image converted to LAB\n",
      "image processed\n",
      "image is padded\n",
      "image converted to LAB\n",
      "image processed\n",
      "image is padded\n",
      "image converted to LAB\n",
      "image processed\n",
      "image is padded\n",
      "image converted to LAB\n",
      "image processed\n",
      "image is padded\n",
      "image converted to LAB\n",
      "image processed\n",
      "image is padded\n",
      "image converted to LAB\n",
      "image processed\n",
      "image is padded\n",
      "image converted to LAB\n",
      "image processed\n",
      "image is padded\n",
      "image converted to LAB\n",
      "image processed\n",
      "image is padded\n",
      "image converted to LAB\n",
      "image processed\n",
      "image is padded\n",
      "image converted to LAB\n",
      "image processed\n",
      "image is padded\n",
      "image converted to LAB\n",
      "image processed\n",
      "image is padded\n",
      "image converted to LAB\n",
      "image processed\n",
      "image is padded\n",
      "image converted to LAB\n",
      "image processed\n",
      "image is padded\n",
      "image converted to LAB\n",
      "image processed\n",
      "image is padded\n",
      "image converted to LAB\n",
      "image processed\n",
      "image is padded\n",
      "image converted to LAB\n",
      "image processed\n",
      "image is padded\n",
      "image converted to LAB\n",
      "image processed\n",
      "image is padded\n",
      "image converted to LAB\n",
      "image processed\n",
      "image is padded\n",
      "image converted to LAB\n",
      "image processed\n",
      "image is padded\n",
      "image converted to LAB\n",
      "image processed\n",
      "image is padded\n",
      "image converted to LAB\n",
      "image processed\n",
      "image is padded\n",
      "image converted to LAB\n",
      "image processed\n",
      "image is padded\n",
      "image converted to LAB\n",
      "image processed\n",
      "image is padded\n",
      "image converted to LAB\n",
      "image processed\n",
      "image is padded\n",
      "image converted to LAB\n",
      "image processed\n",
      "image is padded\n",
      "image converted to LAB\n",
      "image processed\n",
      "image is padded\n",
      "image converted to LAB\n",
      "image processed\n",
      "image is padded\n",
      "image converted to LAB\n",
      "image processed\n",
      "image is padded\n",
      "image converted to LAB\n",
      "image processed\n",
      "image is padded\n",
      "image converted to LAB\n",
      "image processed\n",
      "image is padded\n",
      "image converted to LAB\n",
      "image processed\n"
     ]
    }
   ],
   "source": [
    "df = create_dataframe(image_folder)\n",
    "prep_dataframe(df)\n",
    "\n",
    "#add padd(image).tolist()\n",
    "#caused TypeError: unsupported operand type(s) for /: 'list' and 'int'\n"
   ]
  },
  {
   "cell_type": "code",
   "execution_count": 18,
   "metadata": {},
   "outputs": [],
   "source": [
    "def mode(): \n",
    "    model1 = Sequential([\n",
    "        #encoder\n",
    "        Conv2D(128, 2, strides = 2, padding = \"same\", activation = \"relu\", input_shape= (1888, 1888, 1)), #testing shape changes\n",
    "        Conv2D(256, 2, strides = 2, padding = \"same\", activation = \"relu\"), \n",
    "        Conv2D(256, 2, strides = 2, padding = \"same\", activation = \"relu\"), \n",
    "\n",
    "        #decoder\n",
    "        Conv2D(256, 2, padding = \"same\", activation = \"relu\"), \n",
    "        UpSampling2D(2),\n",
    "        Conv2D(128, 2, padding = \"same\", activation = \"relu\"), \n",
    "        UpSampling2D(2), \n",
    "        Conv2D(2, 2, padding = \"same\", activation = \"tanh\"),\n",
    "        UpSampling2D(2),\n",
    "    ])\n",
    "    model1.compile(optimizer =\"adam\", loss = \"mse\", metrics = [\"accuracy\"])\n",
    "    return model1"
   ]
  },
  {
   "cell_type": "code",
   "execution_count": 23,
   "metadata": {
    "scrolled": true
   },
   "outputs": [
    {
     "name": "stdout",
     "output_type": "stream",
     "text": [
      "Model: \"sequential\"\n",
      "_________________________________________________________________\n",
      " Layer (type)                Output Shape              Param #   \n",
      "=================================================================\n",
      " conv2d (Conv2D)             (None, 944, 944, 128)     640       \n",
      "                                                                 \n",
      " conv2d_1 (Conv2D)           (None, 472, 472, 256)     131328    \n",
      "                                                                 \n",
      " conv2d_2 (Conv2D)           (None, 236, 236, 256)     262400    \n",
      "                                                                 \n",
      " conv2d_3 (Conv2D)           (None, 236, 236, 256)     262400    \n",
      "                                                                 \n",
      " up_sampling2d (UpSampling2D  (None, 472, 472, 256)    0         \n",
      " )                                                               \n",
      "                                                                 \n",
      " conv2d_4 (Conv2D)           (None, 472, 472, 128)     131200    \n",
      "                                                                 \n",
      " up_sampling2d_1 (UpSampling  (None, 944, 944, 128)    0         \n",
      " 2D)                                                             \n",
      "                                                                 \n",
      " conv2d_5 (Conv2D)           (None, 944, 944, 2)       1026      \n",
      "                                                                 \n",
      " up_sampling2d_2 (UpSampling  (None, 1888, 1888, 2)    0         \n",
      " 2D)                                                             \n",
      "                                                                 \n",
      "=================================================================\n",
      "Total params: 788,994\n",
      "Trainable params: 788,994\n",
      "Non-trainable params: 0\n",
      "_________________________________________________________________\n"
     ]
    }
   ],
   "source": [
    "model1 = mode()\n",
    "model1.summary()"
   ]
  },
  {
   "cell_type": "code",
   "execution_count": 19,
   "metadata": {
    "scrolled": true
   },
   "outputs": [
    {
     "data": {
      "text/plain": [
       "137"
      ]
     },
     "execution_count": 19,
     "metadata": {},
     "output_type": "execute_result"
    }
   ],
   "source": [
    "len(X_train)"
   ]
  },
  {
   "cell_type": "code",
   "execution_count": 20,
   "metadata": {},
   "outputs": [
    {
     "data": {
      "text/plain": [
       "137"
      ]
     },
     "execution_count": 20,
     "metadata": {},
     "output_type": "execute_result"
    }
   ],
   "source": [
    "len(Y_train)"
   ]
  },
  {
   "cell_type": "code",
   "execution_count": 21,
   "metadata": {},
   "outputs": [],
   "source": [
    "train_data = tf.data.Dataset.from_tensor_slices((X_train, Y_train))"
   ]
  },
  {
   "cell_type": "code",
   "execution_count": 24,
   "metadata": {
    "scrolled": true
   },
   "outputs": [
    {
     "name": "stdout",
     "output_type": "stream",
     "text": [
      "137/137 - 438s - loss: 0.0029 - accuracy: 0.3929 - 438s/epoch - 3s/step\n"
     ]
    }
   ],
   "source": [
    "epochs = 1\n",
    "history = model1.fit(train_data, batch_size = batch_size, epochs = epochs, verbose = 2)  # add validation_split = 0.2"
   ]
  },
  {
   "cell_type": "code",
   "execution_count": 26,
   "metadata": {},
   "outputs": [
    {
     "name": "stdout",
     "output_type": "stream",
     "text": [
      "INFO:tensorflow:Assets written to: my_model_tf\\assets\n"
     ]
    }
   ],
   "source": [
    "filename = 'my_model_tf'\n",
    "model1.save(filename)"
   ]
  },
  {
   "cell_type": "markdown",
   "metadata": {},
   "source": [
    "## Test one image"
   ]
  },
  {
   "cell_type": "code",
   "execution_count": null,
   "metadata": {},
   "outputs": [],
   "source": [
    "#import model"
   ]
  },
  {
   "cell_type": "code",
   "execution_count": 27,
   "metadata": {},
   "outputs": [],
   "source": [
    "# load the model from disk\n",
    "#reconstructed_model = keras.models.load_model(\"my_model_tf\")"
   ]
  },
  {
   "cell_type": "code",
   "execution_count": 28,
   "metadata": {},
   "outputs": [],
   "source": [
    "test_path = \"C:/Study/Semester2/Machine Learning/ML - Yes Photos/1900s_loose_bw_0036_mom.jpg\""
   ]
  },
  {
   "cell_type": "code",
   "execution_count": 29,
   "metadata": {},
   "outputs": [],
   "source": [
    "def prep_img_test(img_path):\n",
    "    imgRGB = cv2.imread(img_path)\n",
    "    imgBGR = np.flip(imgRGB, -1)\n",
    "    \n",
    "    #check the image category by 'shape' function\n",
    "    image_size_category = shape(imgBGR) #imgRGB\n",
    "    #print(\"image size determined!\")\n",
    "\n",
    "    if image_size_category <1:\n",
    "        raise Exception(\"Your image is too small to be used\")\n",
    "    elif image_size_category >4:\n",
    "        raise Exception(\"Your image is too big to be used\")\n",
    "\n",
    "    #print(\"image PCA started!\")\n",
    "    #image_pca = pca_rgb(imgRGB, image_size_category) \n",
    "    RGB_compressed = pca_rgb(imgBGR, image_size_category) #imgRGB, image_size_category\n",
    "    #RGB_compressed[400][400]\n",
    "    #plt.figure(figsize=(10, 10))\n",
    "    #plt.imshow(RGB_compressed)\n",
    "    \n",
    "    print(\"image is padded\")\n",
    "    padded_image = rgb_pad(RGB_compressed)\n",
    "    #padded_image[1000][1000]\n",
    "    #plt.figure(figsize=(10, 10))\n",
    "    #plt.imshow(padded_image)\n",
    "    \n",
    "    #image_pca = np.float32((1.0/255)*image_pca) # #The rgb_compressed come out in RGB scaled data already\n",
    "    print(\"image converted to LAB\")\n",
    "    padded_LAB = cv2.cvtColor(padded_image, cv2.COLOR_RGB2Lab) #convert padded RGB compressed to LAB\n",
    "    padded_LAB = padded_LAB/np.amax(padded_LAB) #scaled to -1/1\n",
    "    #imgLAB = np.clip(imgLAB, 0, 1)\n",
    "\n",
    "    \n",
    "    #separate L and AB color channels\n",
    "    Y = padded_LAB[:, :,1:]\n",
    "    #Y = Y / 128 #comment out when show predicted\n",
    "    #Y = Y.tolist()\n",
    "    X = padded_LAB[:, :, 0] #.tolist()\n",
    "    #print(X[1000])\n",
    "    #plt.figure(figsize=(10, 10))\n",
    "    #plt.imshow(X)\n",
    "    \n",
    "    #this is in sample code and idk why\n",
    "    \n",
    "    X = X.reshape(1, 1888, 1888, 1) #comment out when show predicted\n",
    "    Y = Y.reshape(1, 1888, 1888, 2) #comment out when show predicted\n",
    "    \n",
    "    print(\"image processed\")\n",
    "\n",
    "    return Y, X "
   ]
  },
  {
   "cell_type": "code",
   "execution_count": 30,
   "metadata": {
    "scrolled": false
   },
   "outputs": [
    {
     "name": "stdout",
     "output_type": "stream",
     "text": [
      "image is padded\n",
      "image converted to LAB\n",
      "image processed\n"
     ]
    }
   ],
   "source": [
    "CL, BW = prep_img_test(test_path)\n",
    "#test_data = tf.data.Dataset.from_tensor_slices(BW)\n",
    "test_predict = model1.predict(BW) #what shape does the prediction takes?"
   ]
  },
  {
   "cell_type": "code",
   "execution_count": 31,
   "metadata": {},
   "outputs": [
    {
     "data": {
      "text/plain": [
       "numpy.ndarray"
      ]
     },
     "execution_count": 31,
     "metadata": {},
     "output_type": "execute_result"
    }
   ],
   "source": [
    "type(test_predict)"
   ]
  },
  {
   "cell_type": "code",
   "execution_count": 32,
   "metadata": {
    "scrolled": true
   },
   "outputs": [
    {
     "data": {
      "text/plain": [
       "(1, 1888, 1888, 2)"
      ]
     },
     "execution_count": 32,
     "metadata": {},
     "output_type": "execute_result"
    }
   ],
   "source": [
    "test_predict.shape # use this to merge"
   ]
  },
  {
   "cell_type": "code",
   "execution_count": 33,
   "metadata": {},
   "outputs": [
    {
     "data": {
      "text/plain": [
       "(1, 1888, 1888, 1)"
      ]
     },
     "execution_count": 33,
     "metadata": {},
     "output_type": "execute_result"
    }
   ],
   "source": [
    "BW.shape # use this to merge"
   ]
  },
  {
   "cell_type": "code",
   "execution_count": 34,
   "metadata": {},
   "outputs": [
    {
     "data": {
      "text/plain": [
       "(1, 1888, 1888, 2)"
      ]
     },
     "execution_count": 34,
     "metadata": {},
     "output_type": "execute_result"
    }
   ],
   "source": [
    "CL.shape"
   ]
  },
  {
   "cell_type": "markdown",
   "metadata": {},
   "source": [
    "#### merge with d stack"
   ]
  },
  {
   "cell_type": "code",
   "execution_count": 35,
   "metadata": {},
   "outputs": [],
   "source": [
    "test_predict_reshaped = test_predict[0,:,:,:]"
   ]
  },
  {
   "cell_type": "code",
   "execution_count": 36,
   "metadata": {
    "scrolled": true
   },
   "outputs": [
    {
     "data": {
      "text/plain": [
       "(1888, 1888, 2)"
      ]
     },
     "execution_count": 36,
     "metadata": {},
     "output_type": "execute_result"
    }
   ],
   "source": [
    "test_predict_reshaped.shape"
   ]
  },
  {
   "cell_type": "code",
   "execution_count": 37,
   "metadata": {},
   "outputs": [
    {
     "data": {
      "text/plain": [
       "array([-0.00875675,  0.01105275], dtype=float32)"
      ]
     },
     "execution_count": 37,
     "metadata": {},
     "output_type": "execute_result"
    }
   ],
   "source": [
    "test_predict_reshaped[0][0]"
   ]
  },
  {
   "cell_type": "code",
   "execution_count": 38,
   "metadata": {
    "scrolled": false
   },
   "outputs": [
    {
     "data": {
      "text/plain": [
       "<matplotlib.image.AxesImage at 0x2a6114a0af0>"
      ]
     },
     "execution_count": 38,
     "metadata": {},
     "output_type": "execute_result"
    },
    {
     "data": {
      "image/png": "[encoded data removed]",
      "text/plain": [
       "<Figure size 432x288 with 1 Axes>"
      ]
     },
     "metadata": {
      "needs_background": "light"
     },
     "output_type": "display_data"
    }
   ],
   "source": [
    "plt.imshow(test_predict_reshaped[:,:,0])"
   ]
  },
  {
   "cell_type": "code",
   "execution_count": 39,
   "metadata": {},
   "outputs": [
    {
     "data": {
      "text/plain": [
       "<matplotlib.image.AxesImage at 0x2a613babfd0>"
      ]
     },
     "execution_count": 39,
     "metadata": {},
     "output_type": "execute_result"
    },
    {
     "data": {
      "image/png": "[encoded data removed]",
      "text/plain": [
       "<Figure size 432x288 with 1 Axes>"
      ]
     },
     "metadata": {
      "needs_background": "light"
     },
     "output_type": "display_data"
    }
   ],
   "source": [
    "plt.imshow(test_predict_reshaped[:,:,1])"
   ]
  },
  {
   "cell_type": "code",
   "execution_count": 40,
   "metadata": {},
   "outputs": [],
   "source": [
    "BW_reshaped  = BW[0,:,:,:]"
   ]
  },
  {
   "cell_type": "code",
   "execution_count": 41,
   "metadata": {},
   "outputs": [
    {
     "data": {
      "text/plain": [
       "(1888, 1888, 1)"
      ]
     },
     "execution_count": 41,
     "metadata": {},
     "output_type": "execute_result"
    }
   ],
   "source": [
    "BW_reshaped.shape"
   ]
  },
  {
   "cell_type": "code",
   "execution_count": 42,
   "metadata": {
    "scrolled": true
   },
   "outputs": [
    {
     "data": {
      "text/plain": [
       "<matplotlib.image.AxesImage at 0x2a613d443d0>"
      ]
     },
     "execution_count": 42,
     "metadata": {},
     "output_type": "execute_result"
    },
    {
     "data": {
      "image/png": "[encoded data removed]",
      "text/plain": [
       "<Figure size 432x288 with 1 Axes>"
      ]
     },
     "metadata": {
      "needs_background": "light"
     },
     "output_type": "display_data"
    }
   ],
   "source": [
    "plt.imshow(BW_reshaped)"
   ]
  },
  {
   "cell_type": "code",
   "execution_count": 43,
   "metadata": {},
   "outputs": [],
   "source": [
    "test_merged = np.dstack((test_predict_reshaped, BW_reshaped))"
   ]
  },
  {
   "cell_type": "code",
   "execution_count": 44,
   "metadata": {},
   "outputs": [
    {
     "data": {
      "text/plain": [
       "(1888, 1888, 3)"
      ]
     },
     "execution_count": 44,
     "metadata": {},
     "output_type": "execute_result"
    }
   ],
   "source": [
    "test_merged.shape"
   ]
  },
  {
   "cell_type": "code",
   "execution_count": 45,
   "metadata": {
    "scrolled": false
   },
   "outputs": [
    {
     "data": {
      "text/plain": [
       "array([-0.00875675,  0.01105275,  1.        ], dtype=float32)"
      ]
     },
     "execution_count": 45,
     "metadata": {},
     "output_type": "execute_result"
    }
   ],
   "source": [
    "test_merged[0][0]"
   ]
  },
  {
   "cell_type": "code",
   "execution_count": 46,
   "metadata": {},
   "outputs": [
    {
     "name": "stderr",
     "output_type": "stream",
     "text": [
      "Clipping input data to the valid range for imshow with RGB data ([0..1] for floats or [0..255] for integers).\n"
     ]
    },
    {
     "data": {
      "text/plain": [
       "<matplotlib.image.AxesImage at 0x2a613b293d0>"
      ]
     },
     "execution_count": 46,
     "metadata": {},
     "output_type": "execute_result"
    },
    {
     "data": {
      "image/png": "[encoded data removed]",
      "text/plain": [
       "<Figure size 432x288 with 1 Axes>"
      ]
     },
     "metadata": {
      "needs_background": "light"
     },
     "output_type": "display_data"
    }
   ],
   "source": [
    "plt.imshow(test_merged)"
   ]
  },
  {
   "cell_type": "code",
   "execution_count": 47,
   "metadata": {},
   "outputs": [],
   "source": [
    "#test_merged_converted = color.Lab2rgb(test_merged)"
   ]
  },
  {
   "cell_type": "code",
   "execution_count": 48,
   "metadata": {},
   "outputs": [],
   "source": [
    "test_merged_rgb = cv2.cvtColor(test_merged, cv2.COLOR_RGB2Lab) "
   ]
  },
  {
   "cell_type": "code",
   "execution_count": 49,
   "metadata": {
    "scrolled": true
   },
   "outputs": [
    {
     "data": {
      "text/plain": [
       "array([  32.41577,   78.8125 , -107.65625], dtype=float32)"
      ]
     },
     "execution_count": 49,
     "metadata": {},
     "output_type": "execute_result"
    }
   ],
   "source": [
    "test_merged_rgb[0][0] # this is weird"
   ]
  },
  {
   "cell_type": "code",
   "execution_count": 50,
   "metadata": {},
   "outputs": [],
   "source": [
    "test_merged_rgb_scaled = (test_merged_rgb/255).astype('float32')"
   ]
  },
  {
   "cell_type": "code",
   "execution_count": null,
   "metadata": {},
   "outputs": [],
   "source": []
  },
  {
   "cell_type": "code",
   "execution_count": 51,
   "metadata": {
    "scrolled": true
   },
   "outputs": [
    {
     "name": "stderr",
     "output_type": "stream",
     "text": [
      "Clipping input data to the valid range for imshow with RGB data ([0..1] for floats or [0..255] for integers).\n"
     ]
    },
    {
     "data": {
      "text/plain": [
       "<matplotlib.image.AxesImage at 0x2a613e83640>"
      ]
     },
     "execution_count": 51,
     "metadata": {},
     "output_type": "execute_result"
    },
    {
     "data": {
      "image/png": "[encoded data removed]",
      "text/plain": [
       "<Figure size 432x288 with 1 Axes>"
      ]
     },
     "metadata": {
      "needs_background": "light"
     },
     "output_type": "display_data"
    }
   ],
   "source": [
    "#plt.imshow(test_merged_rgb)\n",
    "plt.imshow(test_merged_rgb_scaled )"
   ]
  },
  {
   "cell_type": "code",
   "execution_count": 53,
   "metadata": {},
   "outputs": [
    {
     "ename": "ValueError",
     "evalue": "Floating point image RGB values must be in the 0..1 range.",
     "output_type": "error",
     "traceback": [
      "\u001b[1;31m---------------------------------------------------------------------------\u001b[0m",
      "\u001b[1;31mValueError\u001b[0m                                Traceback (most recent call last)",
      "\u001b[1;32m<ipython-input-53-e1c65708aef6>\u001b[0m in \u001b[0;36m<module>\u001b[1;34m\u001b[0m\n\u001b[1;32m----> 1\u001b[1;33m \u001b[0mplt\u001b[0m\u001b[1;33m.\u001b[0m\u001b[0mimsave\u001b[0m\u001b[1;33m(\u001b[0m\u001b[1;34m'result1.jpg'\u001b[0m\u001b[1;33m,\u001b[0m \u001b[0mtest_merged_rgb\u001b[0m\u001b[1;33m)\u001b[0m\u001b[1;33m\u001b[0m\u001b[1;33m\u001b[0m\u001b[0m\n\u001b[0m",
      "\u001b[1;32m~\\anaconda3\\lib\\site-packages\\matplotlib\\pyplot.py\u001b[0m in \u001b[0;36mimsave\u001b[1;34m(fname, arr, **kwargs)\u001b[0m\n\u001b[0;32m   2249\u001b[0m \u001b[1;33m@\u001b[0m\u001b[0m_copy_docstring_and_deprecators\u001b[0m\u001b[1;33m(\u001b[0m\u001b[0mmatplotlib\u001b[0m\u001b[1;33m.\u001b[0m\u001b[0mimage\u001b[0m\u001b[1;33m.\u001b[0m\u001b[0mimsave\u001b[0m\u001b[1;33m)\u001b[0m\u001b[1;33m\u001b[0m\u001b[1;33m\u001b[0m\u001b[0m\n\u001b[0;32m   2250\u001b[0m \u001b[1;32mdef\u001b[0m \u001b[0mimsave\u001b[0m\u001b[1;33m(\u001b[0m\u001b[0mfname\u001b[0m\u001b[1;33m,\u001b[0m \u001b[0marr\u001b[0m\u001b[1;33m,\u001b[0m \u001b[1;33m**\u001b[0m\u001b[0mkwargs\u001b[0m\u001b[1;33m)\u001b[0m\u001b[1;33m:\u001b[0m\u001b[1;33m\u001b[0m\u001b[1;33m\u001b[0m\u001b[0m\n\u001b[1;32m-> 2251\u001b[1;33m     \u001b[1;32mreturn\u001b[0m \u001b[0mmatplotlib\u001b[0m\u001b[1;33m.\u001b[0m\u001b[0mimage\u001b[0m\u001b[1;33m.\u001b[0m\u001b[0mimsave\u001b[0m\u001b[1;33m(\u001b[0m\u001b[0mfname\u001b[0m\u001b[1;33m,\u001b[0m \u001b[0marr\u001b[0m\u001b[1;33m,\u001b[0m \u001b[1;33m**\u001b[0m\u001b[0mkwargs\u001b[0m\u001b[1;33m)\u001b[0m\u001b[1;33m\u001b[0m\u001b[1;33m\u001b[0m\u001b[0m\n\u001b[0m\u001b[0;32m   2252\u001b[0m \u001b[1;33m\u001b[0m\u001b[0m\n\u001b[0;32m   2253\u001b[0m \u001b[1;33m\u001b[0m\u001b[0m\n",
      "\u001b[1;32m~\\anaconda3\\lib\\site-packages\\matplotlib\\image.py\u001b[0m in \u001b[0;36mimsave\u001b[1;34m(fname, arr, vmin, vmax, cmap, format, origin, dpi, metadata, pil_kwargs)\u001b[0m\n\u001b[0;32m   1575\u001b[0m             \u001b[0mrgba\u001b[0m \u001b[1;33m=\u001b[0m \u001b[0marr\u001b[0m\u001b[1;33m\u001b[0m\u001b[1;33m\u001b[0m\u001b[0m\n\u001b[0;32m   1576\u001b[0m         \u001b[1;32melse\u001b[0m\u001b[1;33m:\u001b[0m\u001b[1;33m\u001b[0m\u001b[1;33m\u001b[0m\u001b[0m\n\u001b[1;32m-> 1577\u001b[1;33m             \u001b[0mrgba\u001b[0m \u001b[1;33m=\u001b[0m \u001b[0msm\u001b[0m\u001b[1;33m.\u001b[0m\u001b[0mto_rgba\u001b[0m\u001b[1;33m(\u001b[0m\u001b[0marr\u001b[0m\u001b[1;33m,\u001b[0m \u001b[0mbytes\u001b[0m\u001b[1;33m=\u001b[0m\u001b[1;32mTrue\u001b[0m\u001b[1;33m)\u001b[0m\u001b[1;33m\u001b[0m\u001b[1;33m\u001b[0m\u001b[0m\n\u001b[0m\u001b[0;32m   1578\u001b[0m         \u001b[1;32mif\u001b[0m \u001b[0mpil_kwargs\u001b[0m \u001b[1;32mis\u001b[0m \u001b[1;32mNone\u001b[0m\u001b[1;33m:\u001b[0m\u001b[1;33m\u001b[0m\u001b[1;33m\u001b[0m\u001b[0m\n\u001b[0;32m   1579\u001b[0m             \u001b[0mpil_kwargs\u001b[0m \u001b[1;33m=\u001b[0m \u001b[1;33m{\u001b[0m\u001b[1;33m}\u001b[0m\u001b[1;33m\u001b[0m\u001b[1;33m\u001b[0m\u001b[0m\n",
      "\u001b[1;32m~\\anaconda3\\lib\\site-packages\\matplotlib\\cm.py\u001b[0m in \u001b[0;36mto_rgba\u001b[1;34m(self, x, alpha, bytes, norm)\u001b[0m\n\u001b[0;32m    312\u001b[0m                 \u001b[1;32mif\u001b[0m \u001b[0mxx\u001b[0m\u001b[1;33m.\u001b[0m\u001b[0mdtype\u001b[0m\u001b[1;33m.\u001b[0m\u001b[0mkind\u001b[0m \u001b[1;33m==\u001b[0m \u001b[1;34m'f'\u001b[0m\u001b[1;33m:\u001b[0m\u001b[1;33m\u001b[0m\u001b[1;33m\u001b[0m\u001b[0m\n\u001b[0;32m    313\u001b[0m                     \u001b[1;32mif\u001b[0m \u001b[0mnorm\u001b[0m \u001b[1;32mand\u001b[0m \u001b[1;33m(\u001b[0m\u001b[0mxx\u001b[0m\u001b[1;33m.\u001b[0m\u001b[0mmax\u001b[0m\u001b[1;33m(\u001b[0m\u001b[1;33m)\u001b[0m \u001b[1;33m>\u001b[0m \u001b[1;36m1\u001b[0m \u001b[1;32mor\u001b[0m \u001b[0mxx\u001b[0m\u001b[1;33m.\u001b[0m\u001b[0mmin\u001b[0m\u001b[1;33m(\u001b[0m\u001b[1;33m)\u001b[0m \u001b[1;33m<\u001b[0m \u001b[1;36m0\u001b[0m\u001b[1;33m)\u001b[0m\u001b[1;33m:\u001b[0m\u001b[1;33m\u001b[0m\u001b[1;33m\u001b[0m\u001b[0m\n\u001b[1;32m--> 314\u001b[1;33m                         raise ValueError(\"Floating point image RGB values \"\n\u001b[0m\u001b[0;32m    315\u001b[0m                                          \"must be in the 0..1 range.\")\n\u001b[0;32m    316\u001b[0m                     \u001b[1;32mif\u001b[0m \u001b[0mbytes\u001b[0m\u001b[1;33m:\u001b[0m\u001b[1;33m\u001b[0m\u001b[1;33m\u001b[0m\u001b[0m\n",
      "\u001b[1;31mValueError\u001b[0m: Floating point image RGB values must be in the 0..1 range."
     ]
    }
   ],
   "source": [
    "plt.imsave('result1.jpg', test_merged_rgb)"
   ]
  },
  {
   "cell_type": "markdown",
   "metadata": {},
   "source": [
    "##### a way to merge the prediction"
   ]
  },
  {
   "cell_type": "code",
   "execution_count": 69,
   "metadata": {},
   "outputs": [],
   "source": [
    "#pastes predicted AB to RGB blank canvas\n",
    "canvas = np.zeros((1888,1888,3))\n",
    "canvas[:,:,0] = BW[0][:,:,0]\n",
    "canvas[:,:,1:] =test_predict[0]"
   ]
  },
  {
   "cell_type": "code",
   "execution_count": 74,
   "metadata": {
    "scrolled": true
   },
   "outputs": [],
   "source": [
    "#convert AB (in RGB space) to rgb photo\n",
    "rgb_converted = color.lab2rgb(canvas)"
   ]
  },
  {
   "cell_type": "code",
   "execution_count": 75,
   "metadata": {},
   "outputs": [
    {
     "data": {
      "text/plain": [
       "<matplotlib.image.AxesImage at 0x284854a3af0>"
      ]
     },
     "execution_count": 75,
     "metadata": {},
     "output_type": "execute_result"
    },
    {
     "data": {
      "image/png": "[encoded data removed]",
      "text/plain": [
       "<Figure size 432x288 with 1 Axes>"
      ]
     },
     "metadata": {
      "needs_background": "light"
     },
     "output_type": "display_data"
    }
   ],
   "source": [
    "plt.imshow(rgb_converted)"
   ]
  },
  {
   "cell_type": "code",
   "execution_count": null,
   "metadata": {},
   "outputs": [],
   "source": [
    "lab_2rgb = cv2.cvtColor(canvas, cv2.COLOR_RGB2Lab)"
   ]
  },
  {
   "cell_type": "code",
   "execution_count": 58,
   "metadata": {},
   "outputs": [],
   "source": [
    "lab_to = "
   ]
  },
  {
   "cell_type": "code",
   "execution_count": 59,
   "metadata": {},
   "outputs": [
    {
     "data": {
      "text/plain": [
       "(1888, 1888, 2)"
      ]
     },
     "execution_count": 59,
     "metadata": {},
     "output_type": "execute_result"
    }
   ],
   "source": [
    "lab_merge.shape"
   ]
  },
  {
   "cell_type": "code",
   "execution_count": 64,
   "metadata": {},
   "outputs": [
    {
     "name": "stderr",
     "output_type": "stream",
     "text": [
      "Clipping input data to the valid range for imshow with RGB data ([0..1] for floats or [0..255] for integers).\n"
     ]
    },
    {
     "data": {
      "text/plain": [
       "<matplotlib.image.AxesImage at 0x284854f1250>"
      ]
     },
     "execution_count": 64,
     "metadata": {},
     "output_type": "execute_result"
    },
    {
     "data": {
      "image/png": "[encoded data removed]",
      "text/plain": [
       "<Figure size 432x288 with 1 Axes>"
      ]
     },
     "metadata": {
      "needs_background": "light"
     },
     "output_type": "display_data"
    }
   ],
   "source": [
    "plt.imshow(canvas)"
   ]
  },
  {
   "cell_type": "code",
   "execution_count": null,
   "metadata": {},
   "outputs": [],
   "source": [
    "#Test input array"
   ]
  },
  {
   "cell_type": "code",
   "execution_count": 156,
   "metadata": {
    "scrolled": false
   },
   "outputs": [
    {
     "name": "stdout",
     "output_type": "stream",
     "text": [
      "image converted to LAB\n",
      "image processed\n"
     ]
    }
   ],
   "source": [
    "img_path1 = 'C:/Study/Semester2/Machine Learning/ML - Yes Photos/1900s_loose_bw_0036_mom.jpg'\n",
    "Y01, X01 = prep_img(img_path1)"
   ]
  },
  {
   "cell_type": "code",
   "execution_count": 161,
   "metadata": {},
   "outputs": [
    {
     "data": {
      "text/plain": [
       "list"
      ]
     },
     "execution_count": 161,
     "metadata": {},
     "output_type": "execute_result"
    }
   ],
   "source": [
    "type(X01[0])"
   ]
  },
  {
   "cell_type": "code",
   "execution_count": 157,
   "metadata": {
    "scrolled": true
   },
   "outputs": [
    {
     "data": {
      "text/plain": [
       "<matplotlib.image.AxesImage at 0x284824da340>"
      ]
     },
     "execution_count": 157,
     "metadata": {},
     "output_type": "execute_result"
    },
    {
     "data": {
      "image/png": "[encoded data removed]",
      "text/plain": [
       "<Figure size 432x288 with 1 Axes>"
      ]
     },
     "metadata": {
      "needs_background": "light"
     },
     "output_type": "display_data"
    }
   ],
   "source": [
    "#show AB channel of the image\n",
    "plt.imshow(X01) #X01[0,:,:,0]"
   ]
  },
  {
   "cell_type": "code",
   "execution_count": 130,
   "metadata": {},
   "outputs": [],
   "source": [
    "df_X01 = pd.DataFrame(X01[0,:,:,0])"
   ]
  },
  {
   "cell_type": "code",
   "execution_count": 120,
   "metadata": {},
   "outputs": [],
   "source": [
    "df_Y01 = pd.DataFrame(Y01[0,:,:,0])"
   ]
  },
  {
   "cell_type": "code",
   "execution_count": 121,
   "metadata": {},
   "outputs": [
    {
     "data": {
      "text/html": [
       "<div>\n",
       "<style scoped>\n",
       "    .dataframe tbody tr th:only-of-type {\n",
       "        vertical-align: middle;\n",
       "    }\n",
       "\n",
       "    .dataframe tbody tr th {\n",
       "        vertical-align: top;\n",
       "    }\n",
       "\n",
       "    .dataframe thead th {\n",
       "        text-align: right;\n",
       "    }\n",
       "</style>\n",
       "<table border=\"1\" class=\"dataframe\">\n",
       "  <thead>\n",
       "    <tr style=\"text-align: right;\">\n",
       "      <th></th>\n",
       "      <th>0</th>\n",
       "      <th>1</th>\n",
       "      <th>2</th>\n",
       "      <th>3</th>\n",
       "      <th>4</th>\n",
       "      <th>5</th>\n",
       "      <th>6</th>\n",
       "      <th>7</th>\n",
       "      <th>8</th>\n",
       "      <th>9</th>\n",
       "      <th>...</th>\n",
       "      <th>1878</th>\n",
       "      <th>1879</th>\n",
       "      <th>1880</th>\n",
       "      <th>1881</th>\n",
       "      <th>1882</th>\n",
       "      <th>1883</th>\n",
       "      <th>1884</th>\n",
       "      <th>1885</th>\n",
       "      <th>1886</th>\n",
       "      <th>1887</th>\n",
       "    </tr>\n",
       "  </thead>\n",
       "  <tbody>\n",
       "    <tr>\n",
       "      <th>count</th>\n",
       "      <td>1888.000000</td>\n",
       "      <td>1888.000000</td>\n",
       "      <td>1888.000000</td>\n",
       "      <td>1888.000000</td>\n",
       "      <td>1888.000000</td>\n",
       "      <td>1888.000000</td>\n",
       "      <td>1888.000000</td>\n",
       "      <td>1888.000000</td>\n",
       "      <td>1888.000000</td>\n",
       "      <td>1888.000000</td>\n",
       "      <td>...</td>\n",
       "      <td>1888.000000</td>\n",
       "      <td>1888.000000</td>\n",
       "      <td>1888.000000</td>\n",
       "      <td>1888.000000</td>\n",
       "      <td>1888.000000</td>\n",
       "      <td>1888.000000</td>\n",
       "      <td>1888.000000</td>\n",
       "      <td>1888.000000</td>\n",
       "      <td>1888.000000</td>\n",
       "      <td>1888.000000</td>\n",
       "    </tr>\n",
       "    <tr>\n",
       "      <th>mean</th>\n",
       "      <td>1.992188</td>\n",
       "      <td>1.992188</td>\n",
       "      <td>1.992188</td>\n",
       "      <td>1.992188</td>\n",
       "      <td>1.992188</td>\n",
       "      <td>1.992188</td>\n",
       "      <td>1.992188</td>\n",
       "      <td>1.992188</td>\n",
       "      <td>1.992188</td>\n",
       "      <td>1.992188</td>\n",
       "      <td>...</td>\n",
       "      <td>1.992188</td>\n",
       "      <td>1.992188</td>\n",
       "      <td>1.992188</td>\n",
       "      <td>1.992188</td>\n",
       "      <td>1.992188</td>\n",
       "      <td>1.992188</td>\n",
       "      <td>1.992188</td>\n",
       "      <td>1.992188</td>\n",
       "      <td>1.992188</td>\n",
       "      <td>1.992188</td>\n",
       "    </tr>\n",
       "    <tr>\n",
       "      <th>std</th>\n",
       "      <td>0.000000</td>\n",
       "      <td>0.000000</td>\n",
       "      <td>0.000000</td>\n",
       "      <td>0.000000</td>\n",
       "      <td>0.000000</td>\n",
       "      <td>0.000000</td>\n",
       "      <td>0.000000</td>\n",
       "      <td>0.000000</td>\n",
       "      <td>0.000000</td>\n",
       "      <td>0.000000</td>\n",
       "      <td>...</td>\n",
       "      <td>0.000000</td>\n",
       "      <td>0.000000</td>\n",
       "      <td>0.000000</td>\n",
       "      <td>0.000000</td>\n",
       "      <td>0.000000</td>\n",
       "      <td>0.000000</td>\n",
       "      <td>0.000000</td>\n",
       "      <td>0.000000</td>\n",
       "      <td>0.000000</td>\n",
       "      <td>0.000000</td>\n",
       "    </tr>\n",
       "    <tr>\n",
       "      <th>min</th>\n",
       "      <td>1.992188</td>\n",
       "      <td>1.992188</td>\n",
       "      <td>1.992188</td>\n",
       "      <td>1.992188</td>\n",
       "      <td>1.992188</td>\n",
       "      <td>1.992188</td>\n",
       "      <td>1.992188</td>\n",
       "      <td>1.992188</td>\n",
       "      <td>1.992188</td>\n",
       "      <td>1.992188</td>\n",
       "      <td>...</td>\n",
       "      <td>1.992188</td>\n",
       "      <td>1.992188</td>\n",
       "      <td>1.992188</td>\n",
       "      <td>1.992188</td>\n",
       "      <td>1.992188</td>\n",
       "      <td>1.992188</td>\n",
       "      <td>1.992188</td>\n",
       "      <td>1.992188</td>\n",
       "      <td>1.992188</td>\n",
       "      <td>1.992188</td>\n",
       "    </tr>\n",
       "    <tr>\n",
       "      <th>25%</th>\n",
       "      <td>1.992188</td>\n",
       "      <td>1.992188</td>\n",
       "      <td>1.992188</td>\n",
       "      <td>1.992188</td>\n",
       "      <td>1.992188</td>\n",
       "      <td>1.992188</td>\n",
       "      <td>1.992188</td>\n",
       "      <td>1.992188</td>\n",
       "      <td>1.992188</td>\n",
       "      <td>1.992188</td>\n",
       "      <td>...</td>\n",
       "      <td>1.992188</td>\n",
       "      <td>1.992188</td>\n",
       "      <td>1.992188</td>\n",
       "      <td>1.992188</td>\n",
       "      <td>1.992188</td>\n",
       "      <td>1.992188</td>\n",
       "      <td>1.992188</td>\n",
       "      <td>1.992188</td>\n",
       "      <td>1.992188</td>\n",
       "      <td>1.992188</td>\n",
       "    </tr>\n",
       "    <tr>\n",
       "      <th>50%</th>\n",
       "      <td>1.992188</td>\n",
       "      <td>1.992188</td>\n",
       "      <td>1.992188</td>\n",
       "      <td>1.992188</td>\n",
       "      <td>1.992188</td>\n",
       "      <td>1.992188</td>\n",
       "      <td>1.992188</td>\n",
       "      <td>1.992188</td>\n",
       "      <td>1.992188</td>\n",
       "      <td>1.992188</td>\n",
       "      <td>...</td>\n",
       "      <td>1.992188</td>\n",
       "      <td>1.992188</td>\n",
       "      <td>1.992188</td>\n",
       "      <td>1.992188</td>\n",
       "      <td>1.992188</td>\n",
       "      <td>1.992188</td>\n",
       "      <td>1.992188</td>\n",
       "      <td>1.992188</td>\n",
       "      <td>1.992188</td>\n",
       "      <td>1.992188</td>\n",
       "    </tr>\n",
       "    <tr>\n",
       "      <th>75%</th>\n",
       "      <td>1.992188</td>\n",
       "      <td>1.992188</td>\n",
       "      <td>1.992188</td>\n",
       "      <td>1.992188</td>\n",
       "      <td>1.992188</td>\n",
       "      <td>1.992188</td>\n",
       "      <td>1.992188</td>\n",
       "      <td>1.992188</td>\n",
       "      <td>1.992188</td>\n",
       "      <td>1.992188</td>\n",
       "      <td>...</td>\n",
       "      <td>1.992188</td>\n",
       "      <td>1.992188</td>\n",
       "      <td>1.992188</td>\n",
       "      <td>1.992188</td>\n",
       "      <td>1.992188</td>\n",
       "      <td>1.992188</td>\n",
       "      <td>1.992188</td>\n",
       "      <td>1.992188</td>\n",
       "      <td>1.992188</td>\n",
       "      <td>1.992188</td>\n",
       "    </tr>\n",
       "    <tr>\n",
       "      <th>max</th>\n",
       "      <td>1.992188</td>\n",
       "      <td>1.992188</td>\n",
       "      <td>1.992188</td>\n",
       "      <td>1.992188</td>\n",
       "      <td>1.992188</td>\n",
       "      <td>1.992188</td>\n",
       "      <td>1.992188</td>\n",
       "      <td>1.992188</td>\n",
       "      <td>1.992188</td>\n",
       "      <td>1.992188</td>\n",
       "      <td>...</td>\n",
       "      <td>1.992188</td>\n",
       "      <td>1.992188</td>\n",
       "      <td>1.992188</td>\n",
       "      <td>1.992188</td>\n",
       "      <td>1.992188</td>\n",
       "      <td>1.992188</td>\n",
       "      <td>1.992188</td>\n",
       "      <td>1.992188</td>\n",
       "      <td>1.992188</td>\n",
       "      <td>1.992188</td>\n",
       "    </tr>\n",
       "  </tbody>\n",
       "</table>\n",
       "<p>8 rows × 1888 columns</p>\n",
       "</div>"
      ],
      "text/plain": [
       "              0            1            2            3            4     \\\n",
       "count  1888.000000  1888.000000  1888.000000  1888.000000  1888.000000   \n",
       "mean      1.992188     1.992188     1.992188     1.992188     1.992188   \n",
       "std       0.000000     0.000000     0.000000     0.000000     0.000000   \n",
       "min       1.992188     1.992188     1.992188     1.992188     1.992188   \n",
       "25%       1.992188     1.992188     1.992188     1.992188     1.992188   \n",
       "50%       1.992188     1.992188     1.992188     1.992188     1.992188   \n",
       "75%       1.992188     1.992188     1.992188     1.992188     1.992188   \n",
       "max       1.992188     1.992188     1.992188     1.992188     1.992188   \n",
       "\n",
       "              5            6            7            8            9     ...  \\\n",
       "count  1888.000000  1888.000000  1888.000000  1888.000000  1888.000000  ...   \n",
       "mean      1.992188     1.992188     1.992188     1.992188     1.992188  ...   \n",
       "std       0.000000     0.000000     0.000000     0.000000     0.000000  ...   \n",
       "min       1.992188     1.992188     1.992188     1.992188     1.992188  ...   \n",
       "25%       1.992188     1.992188     1.992188     1.992188     1.992188  ...   \n",
       "50%       1.992188     1.992188     1.992188     1.992188     1.992188  ...   \n",
       "75%       1.992188     1.992188     1.992188     1.992188     1.992188  ...   \n",
       "max       1.992188     1.992188     1.992188     1.992188     1.992188  ...   \n",
       "\n",
       "              1878         1879         1880         1881         1882  \\\n",
       "count  1888.000000  1888.000000  1888.000000  1888.000000  1888.000000   \n",
       "mean      1.992188     1.992188     1.992188     1.992188     1.992188   \n",
       "std       0.000000     0.000000     0.000000     0.000000     0.000000   \n",
       "min       1.992188     1.992188     1.992188     1.992188     1.992188   \n",
       "25%       1.992188     1.992188     1.992188     1.992188     1.992188   \n",
       "50%       1.992188     1.992188     1.992188     1.992188     1.992188   \n",
       "75%       1.992188     1.992188     1.992188     1.992188     1.992188   \n",
       "max       1.992188     1.992188     1.992188     1.992188     1.992188   \n",
       "\n",
       "              1883         1884         1885         1886         1887  \n",
       "count  1888.000000  1888.000000  1888.000000  1888.000000  1888.000000  \n",
       "mean      1.992188     1.992188     1.992188     1.992188     1.992188  \n",
       "std       0.000000     0.000000     0.000000     0.000000     0.000000  \n",
       "min       1.992188     1.992188     1.992188     1.992188     1.992188  \n",
       "25%       1.992188     1.992188     1.992188     1.992188     1.992188  \n",
       "50%       1.992188     1.992188     1.992188     1.992188     1.992188  \n",
       "75%       1.992188     1.992188     1.992188     1.992188     1.992188  \n",
       "max       1.992188     1.992188     1.992188     1.992188     1.992188  \n",
       "\n",
       "[8 rows x 1888 columns]"
      ]
     },
     "execution_count": 121,
     "metadata": {},
     "output_type": "execute_result"
    }
   ],
   "source": [
    "df_Y01.describe()"
   ]
  },
  {
   "cell_type": "code",
   "execution_count": null,
   "metadata": {},
   "outputs": [],
   "source": []
  }
 ],
 "metadata": {
  "deepnote": {},
  "deepnote_execution_queue": [],
  "deepnote_notebook_id": "db6bc5cd-12ac-4fa4-b95f-4604d6441ef4",
  "kernelspec": {
   "display_name": "Python 3",
   "language": "python",
   "name": "python3"
  },
  "language_info": {
   "codemirror_mode": {
    "name": "ipython",
    "version": 3
   },
   "file_extension": ".py",
   "mimetype": "text/x-python",
   "name": "python",
   "nbconvert_exporter": "python",
   "pygments_lexer": "ipython3",
   "version": "3.8.8"
  }
 },
 "nbformat": 4,
 "nbformat_minor": 2
}
