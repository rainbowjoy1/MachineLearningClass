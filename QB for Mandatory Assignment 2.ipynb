{
 "cells": [
  {
   "cell_type": "markdown",
   "id": "4ef47b1c",
   "metadata": {},
   "source": [
    "# Question B "
   ]
  },
  {
   "cell_type": "markdown",
   "id": "e9a61002",
   "metadata": {},
   "source": [
    "## Import Data\n",
    "\n",
    "#### Below are our steps for importing and initial data transformations. We removed unneeded features from the dataset, introduced a \"true\" or \"false\" labeing class, combined the two data series and added the title into the main text. "
   ]
  },
  {
   "cell_type": "code",
   "execution_count": 238,
   "id": "9d3ecb2f",
   "metadata": {},
   "outputs": [
    {
     "data": {
      "text/html": [
       "<div>\n",
       "<style scoped>\n",
       "    .dataframe tbody tr th:only-of-type {\n",
       "        vertical-align: middle;\n",
       "    }\n",
       "\n",
       "    .dataframe tbody tr th {\n",
       "        vertical-align: top;\n",
       "    }\n",
       "\n",
       "    .dataframe thead th {\n",
       "        text-align: right;\n",
       "    }\n",
       "</style>\n",
       "<table border=\"1\" class=\"dataframe\">\n",
       "  <thead>\n",
       "    <tr style=\"text-align: right;\">\n",
       "      <th></th>\n",
       "      <th>title</th>\n",
       "      <th>text</th>\n",
       "      <th>subject</th>\n",
       "      <th>date</th>\n",
       "    </tr>\n",
       "  </thead>\n",
       "  <tbody>\n",
       "    <tr>\n",
       "      <th>0</th>\n",
       "      <td>As U.S. budget fight looms, Republicans flip t...</td>\n",
       "      <td>WASHINGTON (Reuters) - The head of a conservat...</td>\n",
       "      <td>politicsNews</td>\n",
       "      <td>December 31, 2017</td>\n",
       "    </tr>\n",
       "    <tr>\n",
       "      <th>1</th>\n",
       "      <td>U.S. military to accept transgender recruits o...</td>\n",
       "      <td>WASHINGTON (Reuters) - Transgender people will...</td>\n",
       "      <td>politicsNews</td>\n",
       "      <td>December 29, 2017</td>\n",
       "    </tr>\n",
       "    <tr>\n",
       "      <th>2</th>\n",
       "      <td>Senior U.S. Republican senator: 'Let Mr. Muell...</td>\n",
       "      <td>WASHINGTON (Reuters) - The special counsel inv...</td>\n",
       "      <td>politicsNews</td>\n",
       "      <td>December 31, 2017</td>\n",
       "    </tr>\n",
       "    <tr>\n",
       "      <th>3</th>\n",
       "      <td>FBI Russia probe helped by Australian diplomat...</td>\n",
       "      <td>WASHINGTON (Reuters) - Trump campaign adviser ...</td>\n",
       "      <td>politicsNews</td>\n",
       "      <td>December 30, 2017</td>\n",
       "    </tr>\n",
       "    <tr>\n",
       "      <th>4</th>\n",
       "      <td>Trump wants Postal Service to charge 'much mor...</td>\n",
       "      <td>SEATTLE/WASHINGTON (Reuters) - President Donal...</td>\n",
       "      <td>politicsNews</td>\n",
       "      <td>December 29, 2017</td>\n",
       "    </tr>\n",
       "  </tbody>\n",
       "</table>\n",
       "</div>"
      ],
      "text/plain": [
       "                                               title  \\\n",
       "0  As U.S. budget fight looms, Republicans flip t...   \n",
       "1  U.S. military to accept transgender recruits o...   \n",
       "2  Senior U.S. Republican senator: 'Let Mr. Muell...   \n",
       "3  FBI Russia probe helped by Australian diplomat...   \n",
       "4  Trump wants Postal Service to charge 'much mor...   \n",
       "\n",
       "                                                text       subject  \\\n",
       "0  WASHINGTON (Reuters) - The head of a conservat...  politicsNews   \n",
       "1  WASHINGTON (Reuters) - Transgender people will...  politicsNews   \n",
       "2  WASHINGTON (Reuters) - The special counsel inv...  politicsNews   \n",
       "3  WASHINGTON (Reuters) - Trump campaign adviser ...  politicsNews   \n",
       "4  SEATTLE/WASHINGTON (Reuters) - President Donal...  politicsNews   \n",
       "\n",
       "                 date  \n",
       "0  December 31, 2017   \n",
       "1  December 29, 2017   \n",
       "2  December 31, 2017   \n",
       "3  December 30, 2017   \n",
       "4  December 29, 2017   "
      ]
     },
     "execution_count": 238,
     "metadata": {},
     "output_type": "execute_result"
    }
   ],
   "source": [
    "import pandas as pd\n",
    "import matplotlib.pyplot as plt\n",
    "import numpy as np\n",
    "\n",
    "true = pd.read_csv(\"True.csv\")\n",
    "fake = pd.read_csv(\"Fake.csv\")\n",
    "true.head() #there is a lot of unneeded info - such as subject & date"
   ]
  },
  {
   "cell_type": "code",
   "execution_count": 239,
   "id": "9f6a98cc",
   "metadata": {
    "scrolled": false
   },
   "outputs": [
    {
     "data": {
      "text/html": [
       "<div>\n",
       "<style scoped>\n",
       "    .dataframe tbody tr th:only-of-type {\n",
       "        vertical-align: middle;\n",
       "    }\n",
       "\n",
       "    .dataframe tbody tr th {\n",
       "        vertical-align: top;\n",
       "    }\n",
       "\n",
       "    .dataframe thead th {\n",
       "        text-align: right;\n",
       "    }\n",
       "</style>\n",
       "<table border=\"1\" class=\"dataframe\">\n",
       "  <thead>\n",
       "    <tr style=\"text-align: right;\">\n",
       "      <th></th>\n",
       "      <th>title</th>\n",
       "      <th>text</th>\n",
       "    </tr>\n",
       "  </thead>\n",
       "  <tbody>\n",
       "    <tr>\n",
       "      <th>0</th>\n",
       "      <td>Donald Trump Sends Out Embarrassing New Year’...</td>\n",
       "      <td>Donald Trump just couldn t wish all Americans ...</td>\n",
       "    </tr>\n",
       "    <tr>\n",
       "      <th>1</th>\n",
       "      <td>Drunk Bragging Trump Staffer Started Russian ...</td>\n",
       "      <td>House Intelligence Committee Chairman Devin Nu...</td>\n",
       "    </tr>\n",
       "    <tr>\n",
       "      <th>2</th>\n",
       "      <td>Sheriff David Clarke Becomes An Internet Joke...</td>\n",
       "      <td>On Friday, it was revealed that former Milwauk...</td>\n",
       "    </tr>\n",
       "    <tr>\n",
       "      <th>3</th>\n",
       "      <td>Trump Is So Obsessed He Even Has Obama’s Name...</td>\n",
       "      <td>On Christmas day, Donald Trump announced that ...</td>\n",
       "    </tr>\n",
       "    <tr>\n",
       "      <th>4</th>\n",
       "      <td>Pope Francis Just Called Out Donald Trump Dur...</td>\n",
       "      <td>Pope Francis used his annual Christmas Day mes...</td>\n",
       "    </tr>\n",
       "  </tbody>\n",
       "</table>\n",
       "</div>"
      ],
      "text/plain": [
       "                                               title  \\\n",
       "0   Donald Trump Sends Out Embarrassing New Year’...   \n",
       "1   Drunk Bragging Trump Staffer Started Russian ...   \n",
       "2   Sheriff David Clarke Becomes An Internet Joke...   \n",
       "3   Trump Is So Obsessed He Even Has Obama’s Name...   \n",
       "4   Pope Francis Just Called Out Donald Trump Dur...   \n",
       "\n",
       "                                                text  \n",
       "0  Donald Trump just couldn t wish all Americans ...  \n",
       "1  House Intelligence Committee Chairman Devin Nu...  \n",
       "2  On Friday, it was revealed that former Milwauk...  \n",
       "3  On Christmas day, Donald Trump announced that ...  \n",
       "4  Pope Francis used his annual Christmas Day mes...  "
      ]
     },
     "execution_count": 239,
     "metadata": {},
     "output_type": "execute_result"
    }
   ],
   "source": [
    "#keep only the title and text columns \n",
    "true_1 = true[[\"title\", \"text\"]]\n",
    "fake_1 = fake[[\"title\", \"text\"]]\n",
    "fake_1.head() "
   ]
  },
  {
   "cell_type": "code",
   "execution_count": 240,
   "id": "3e956048",
   "metadata": {
    "scrolled": true
   },
   "outputs": [],
   "source": [
    "# Assign labels based on the truth/fakeness of the text\n",
    "#assign real news a label of 1\n",
    "list_1 = []\n",
    "for i in range(true_1.shape[0]):\n",
    "    list_1.append(1)\n",
    "true_1.insert(2, \"class\", list_1) \n",
    "#assign real news a label of 0\n",
    "list_0 = []\n",
    "for i in range(fake_1.shape[0]):\n",
    "    list_0.append(0)\n",
    "fake_1.insert(2,\"class\", list_0) \n"
   ]
  },
  {
   "cell_type": "code",
   "execution_count": 241,
   "id": "cec6c092",
   "metadata": {},
   "outputs": [
    {
     "data": {
      "text/html": [
       "<div>\n",
       "<style scoped>\n",
       "    .dataframe tbody tr th:only-of-type {\n",
       "        vertical-align: middle;\n",
       "    }\n",
       "\n",
       "    .dataframe tbody tr th {\n",
       "        vertical-align: top;\n",
       "    }\n",
       "\n",
       "    .dataframe thead th {\n",
       "        text-align: right;\n",
       "    }\n",
       "</style>\n",
       "<table border=\"1\" class=\"dataframe\">\n",
       "  <thead>\n",
       "    <tr style=\"text-align: right;\">\n",
       "      <th></th>\n",
       "      <th>class</th>\n",
       "      <th>article</th>\n",
       "    </tr>\n",
       "  </thead>\n",
       "  <tbody>\n",
       "    <tr>\n",
       "      <th>0</th>\n",
       "      <td>1</td>\n",
       "      <td>As U.S. budget fight looms, Republicans flip t...</td>\n",
       "    </tr>\n",
       "    <tr>\n",
       "      <th>1</th>\n",
       "      <td>1</td>\n",
       "      <td>U.S. military to accept transgender recruits o...</td>\n",
       "    </tr>\n",
       "    <tr>\n",
       "      <th>2</th>\n",
       "      <td>1</td>\n",
       "      <td>Senior U.S. Republican senator: 'Let Mr. Muell...</td>\n",
       "    </tr>\n",
       "    <tr>\n",
       "      <th>3</th>\n",
       "      <td>1</td>\n",
       "      <td>FBI Russia probe helped by Australian diplomat...</td>\n",
       "    </tr>\n",
       "    <tr>\n",
       "      <th>4</th>\n",
       "      <td>1</td>\n",
       "      <td>Trump wants Postal Service to charge 'much mor...</td>\n",
       "    </tr>\n",
       "    <tr>\n",
       "      <th>...</th>\n",
       "      <td>...</td>\n",
       "      <td>...</td>\n",
       "    </tr>\n",
       "    <tr>\n",
       "      <th>23476</th>\n",
       "      <td>0</td>\n",
       "      <td>McPain: John McCain Furious That Iran Treated ...</td>\n",
       "    </tr>\n",
       "    <tr>\n",
       "      <th>23477</th>\n",
       "      <td>0</td>\n",
       "      <td>JUSTICE? Yahoo Settles E-mail Privacy Class-ac...</td>\n",
       "    </tr>\n",
       "    <tr>\n",
       "      <th>23478</th>\n",
       "      <td>0</td>\n",
       "      <td>Sunnistan: US and Allied ‘Safe Zone’ Plan to T...</td>\n",
       "    </tr>\n",
       "    <tr>\n",
       "      <th>23479</th>\n",
       "      <td>0</td>\n",
       "      <td>How to Blow $700 Million: Al Jazeera America F...</td>\n",
       "    </tr>\n",
       "    <tr>\n",
       "      <th>23480</th>\n",
       "      <td>0</td>\n",
       "      <td>10 U.S. Navy Sailors Held by Iranian Military ...</td>\n",
       "    </tr>\n",
       "  </tbody>\n",
       "</table>\n",
       "<p>44898 rows × 2 columns</p>\n",
       "</div>"
      ],
      "text/plain": [
       "       class                                            article\n",
       "0          1  As U.S. budget fight looms, Republicans flip t...\n",
       "1          1  U.S. military to accept transgender recruits o...\n",
       "2          1  Senior U.S. Republican senator: 'Let Mr. Muell...\n",
       "3          1  FBI Russia probe helped by Australian diplomat...\n",
       "4          1  Trump wants Postal Service to charge 'much mor...\n",
       "...      ...                                                ...\n",
       "23476      0  McPain: John McCain Furious That Iran Treated ...\n",
       "23477      0  JUSTICE? Yahoo Settles E-mail Privacy Class-ac...\n",
       "23478      0  Sunnistan: US and Allied ‘Safe Zone’ Plan to T...\n",
       "23479      0  How to Blow $700 Million: Al Jazeera America F...\n",
       "23480      0  10 U.S. Navy Sailors Held by Iranian Military ...\n",
       "\n",
       "[44898 rows x 2 columns]"
      ]
     },
     "execution_count": 241,
     "metadata": {},
     "output_type": "execute_result"
    }
   ],
   "source": [
    "# Concatenate both dataframes into 1 \n",
    "frames= [true_1, fake_1]\n",
    "df = pd.concat(frames)\n",
    "\n",
    "# make the title & text a single column \n",
    "df[\"article\"] = df[\"title\"] + \" \"+ df[\"text\"]\n",
    "df.drop([\"title\", \"text\"], axis=1)"
   ]
  },
  {
   "cell_type": "markdown",
   "id": "791a77a1",
   "metadata": {},
   "source": [
    "## Text Processing"
   ]
  },
  {
   "cell_type": "markdown",
   "id": "ed02c56e",
   "metadata": {},
   "source": [
    "#### We used nltk to remove the stopwords in the dataset, all words with 2 or fewer charecters, removed punctuation, and changed all the text to lower-case. "
   ]
  },
  {
   "cell_type": "code",
   "execution_count": 323,
   "id": "8bb7b898",
   "metadata": {
    "scrolled": true
   },
   "outputs": [
    {
     "data": {
      "text/html": [
       "<div>\n",
       "<style scoped>\n",
       "    .dataframe tbody tr th:only-of-type {\n",
       "        vertical-align: middle;\n",
       "    }\n",
       "\n",
       "    .dataframe tbody tr th {\n",
       "        vertical-align: top;\n",
       "    }\n",
       "\n",
       "    .dataframe thead th {\n",
       "        text-align: right;\n",
       "    }\n",
       "</style>\n",
       "<table border=\"1\" class=\"dataframe\">\n",
       "  <thead>\n",
       "    <tr style=\"text-align: right;\">\n",
       "      <th></th>\n",
       "      <th>article</th>\n",
       "      <th>article_wo_stopwords</th>\n",
       "    </tr>\n",
       "  </thead>\n",
       "  <tbody>\n",
       "    <tr>\n",
       "      <th>0</th>\n",
       "      <td>As U.S. budget fight looms, Republicans flip t...</td>\n",
       "      <td>As U.S. budget fight looms, Republicans flip f...</td>\n",
       "    </tr>\n",
       "    <tr>\n",
       "      <th>1</th>\n",
       "      <td>U.S. military to accept transgender recruits o...</td>\n",
       "      <td>U.S. military accept transgender recruits Mond...</td>\n",
       "    </tr>\n",
       "    <tr>\n",
       "      <th>2</th>\n",
       "      <td>Senior U.S. Republican senator: 'Let Mr. Muell...</td>\n",
       "      <td>Senior U.S. Republican senator: 'Let Mr. Muell...</td>\n",
       "    </tr>\n",
       "    <tr>\n",
       "      <th>3</th>\n",
       "      <td>FBI Russia probe helped by Australian diplomat...</td>\n",
       "      <td>FBI Russia probe helped Australian diplomat ti...</td>\n",
       "    </tr>\n",
       "    <tr>\n",
       "      <th>4</th>\n",
       "      <td>Trump wants Postal Service to charge 'much mor...</td>\n",
       "      <td>Trump wants Postal Service charge 'much more' ...</td>\n",
       "    </tr>\n",
       "  </tbody>\n",
       "</table>\n",
       "</div>"
      ],
      "text/plain": [
       "                                             article  \\\n",
       "0  As U.S. budget fight looms, Republicans flip t...   \n",
       "1  U.S. military to accept transgender recruits o...   \n",
       "2  Senior U.S. Republican senator: 'Let Mr. Muell...   \n",
       "3  FBI Russia probe helped by Australian diplomat...   \n",
       "4  Trump wants Postal Service to charge 'much mor...   \n",
       "\n",
       "                                article_wo_stopwords  \n",
       "0  As U.S. budget fight looms, Republicans flip f...  \n",
       "1  U.S. military accept transgender recruits Mond...  \n",
       "2  Senior U.S. Republican senator: 'Let Mr. Muell...  \n",
       "3  FBI Russia probe helped Australian diplomat ti...  \n",
       "4  Trump wants Postal Service charge 'much more' ...  "
      ]
     },
     "execution_count": 323,
     "metadata": {},
     "output_type": "execute_result"
    }
   ],
   "source": [
    "import nltk.corpus\n",
    "#nltk.download('stopwords')\n",
    "from nltk.corpus import stopwords\n",
    "\n",
    "stop_words = stopwords.words(\"english\")\n",
    "df[\"article_wo_stopwords\"] = df[\"article\"].apply(lambda x: \" \".join([word for word in x.split() if word not in (stop_words)]))\n",
    "df[[\"article\", \"article_wo_stopwords\"]].head(5)"
   ]
  },
  {
   "cell_type": "code",
   "execution_count": 324,
   "id": "1ce8c34c",
   "metadata": {
    "scrolled": true
   },
   "outputs": [
    {
     "data": {
      "text/html": [
       "<div>\n",
       "<style scoped>\n",
       "    .dataframe tbody tr th:only-of-type {\n",
       "        vertical-align: middle;\n",
       "    }\n",
       "\n",
       "    .dataframe tbody tr th {\n",
       "        vertical-align: top;\n",
       "    }\n",
       "\n",
       "    .dataframe thead th {\n",
       "        text-align: right;\n",
       "    }\n",
       "</style>\n",
       "<table border=\"1\" class=\"dataframe\">\n",
       "  <thead>\n",
       "    <tr style=\"text-align: right;\">\n",
       "      <th></th>\n",
       "      <th>title</th>\n",
       "      <th>text</th>\n",
       "      <th>class</th>\n",
       "      <th>article</th>\n",
       "      <th>article_wo_stopwords</th>\n",
       "      <th>article_wo_smallword</th>\n",
       "      <th>clean_articles</th>\n",
       "    </tr>\n",
       "  </thead>\n",
       "  <tbody>\n",
       "    <tr>\n",
       "      <th>0</th>\n",
       "      <td>As U.S. budget fight looms, Republicans flip t...</td>\n",
       "      <td>WASHINGTON (Reuters) - The head of a conservat...</td>\n",
       "      <td>1</td>\n",
       "      <td>As U.S. budget fight looms, Republicans flip t...</td>\n",
       "      <td>As U.S. budget fight looms, Republicans flip f...</td>\n",
       "      <td>U.S. budget fight looms, Republicans flip fisc...</td>\n",
       "      <td>us budget fight looms republicans flip fiscal ...</td>\n",
       "    </tr>\n",
       "    <tr>\n",
       "      <th>1</th>\n",
       "      <td>U.S. military to accept transgender recruits o...</td>\n",
       "      <td>WASHINGTON (Reuters) - Transgender people will...</td>\n",
       "      <td>1</td>\n",
       "      <td>U.S. military to accept transgender recruits o...</td>\n",
       "      <td>U.S. military accept transgender recruits Mond...</td>\n",
       "      <td>U.S. military accept transgender recruits Mond...</td>\n",
       "      <td>us military accept transgender recruits monday...</td>\n",
       "    </tr>\n",
       "    <tr>\n",
       "      <th>2</th>\n",
       "      <td>Senior U.S. Republican senator: 'Let Mr. Muell...</td>\n",
       "      <td>WASHINGTON (Reuters) - The special counsel inv...</td>\n",
       "      <td>1</td>\n",
       "      <td>Senior U.S. Republican senator: 'Let Mr. Muell...</td>\n",
       "      <td>Senior U.S. Republican senator: 'Let Mr. Muell...</td>\n",
       "      <td>Senior U.S. Republican senator: 'Let Mr. Muell...</td>\n",
       "      <td>senior us republican senator let mr mueller jo...</td>\n",
       "    </tr>\n",
       "    <tr>\n",
       "      <th>3</th>\n",
       "      <td>FBI Russia probe helped by Australian diplomat...</td>\n",
       "      <td>WASHINGTON (Reuters) - Trump campaign adviser ...</td>\n",
       "      <td>1</td>\n",
       "      <td>FBI Russia probe helped by Australian diplomat...</td>\n",
       "      <td>FBI Russia probe helped Australian diplomat ti...</td>\n",
       "      <td>FBI Russia probe helped Australian diplomat ti...</td>\n",
       "      <td>fbi russia probe helped australian diplomat ti...</td>\n",
       "    </tr>\n",
       "    <tr>\n",
       "      <th>4</th>\n",
       "      <td>Trump wants Postal Service to charge 'much mor...</td>\n",
       "      <td>SEATTLE/WASHINGTON (Reuters) - President Donal...</td>\n",
       "      <td>1</td>\n",
       "      <td>Trump wants Postal Service to charge 'much mor...</td>\n",
       "      <td>Trump wants Postal Service charge 'much more' ...</td>\n",
       "      <td>Trump wants Postal Service charge 'much more' ...</td>\n",
       "      <td>trump wants postal service charge much more am...</td>\n",
       "    </tr>\n",
       "    <tr>\n",
       "      <th>...</th>\n",
       "      <td>...</td>\n",
       "      <td>...</td>\n",
       "      <td>...</td>\n",
       "      <td>...</td>\n",
       "      <td>...</td>\n",
       "      <td>...</td>\n",
       "      <td>...</td>\n",
       "    </tr>\n",
       "    <tr>\n",
       "      <th>23476</th>\n",
       "      <td>McPain: John McCain Furious That Iran Treated ...</td>\n",
       "      <td>21st Century Wire says As 21WIRE reported earl...</td>\n",
       "      <td>0</td>\n",
       "      <td>McPain: John McCain Furious That Iran Treated ...</td>\n",
       "      <td>McPain: John McCain Furious That Iran Treated ...</td>\n",
       "      <td>McPain: John McCain Furious That Iran Treated ...</td>\n",
       "      <td>mcpain john mccain furious that iran treated s...</td>\n",
       "    </tr>\n",
       "    <tr>\n",
       "      <th>23477</th>\n",
       "      <td>JUSTICE? Yahoo Settles E-mail Privacy Class-ac...</td>\n",
       "      <td>21st Century Wire says It s a familiar theme. ...</td>\n",
       "      <td>0</td>\n",
       "      <td>JUSTICE? Yahoo Settles E-mail Privacy Class-ac...</td>\n",
       "      <td>JUSTICE? Yahoo Settles E-mail Privacy Class-ac...</td>\n",
       "      <td>JUSTICE? Yahoo Settles E-mail Privacy Class-ac...</td>\n",
       "      <td>justice yahoo settles email privacy classactio...</td>\n",
       "    </tr>\n",
       "    <tr>\n",
       "      <th>23478</th>\n",
       "      <td>Sunnistan: US and Allied ‘Safe Zone’ Plan to T...</td>\n",
       "      <td>Patrick Henningsen  21st Century WireRemember ...</td>\n",
       "      <td>0</td>\n",
       "      <td>Sunnistan: US and Allied ‘Safe Zone’ Plan to T...</td>\n",
       "      <td>Sunnistan: US Allied ‘Safe Zone’ Plan Take Ter...</td>\n",
       "      <td>Sunnistan: Allied ‘Safe Zone’ Plan Take Territ...</td>\n",
       "      <td>sunnistan allied safe zone plan take territori...</td>\n",
       "    </tr>\n",
       "    <tr>\n",
       "      <th>23479</th>\n",
       "      <td>How to Blow $700 Million: Al Jazeera America F...</td>\n",
       "      <td>21st Century Wire says Al Jazeera America will...</td>\n",
       "      <td>0</td>\n",
       "      <td>How to Blow $700 Million: Al Jazeera America F...</td>\n",
       "      <td>How Blow $700 Million: Al Jazeera America Fina...</td>\n",
       "      <td>How Blow $700 Million: Jazeera America Finally...</td>\n",
       "      <td>how blow 700 million jazeera america finally c...</td>\n",
       "    </tr>\n",
       "    <tr>\n",
       "      <th>23480</th>\n",
       "      <td>10 U.S. Navy Sailors Held by Iranian Military ...</td>\n",
       "      <td>21st Century Wire says As 21WIRE predicted in ...</td>\n",
       "      <td>0</td>\n",
       "      <td>10 U.S. Navy Sailors Held by Iranian Military ...</td>\n",
       "      <td>10 U.S. Navy Sailors Held Iranian Military – S...</td>\n",
       "      <td>U.S. Navy Sailors Held Iranian Military Signs ...</td>\n",
       "      <td>us navy sailors held iranian military signs ne...</td>\n",
       "    </tr>\n",
       "  </tbody>\n",
       "</table>\n",
       "<p>44898 rows × 7 columns</p>\n",
       "</div>"
      ],
      "text/plain": [
       "                                                   title  \\\n",
       "0      As U.S. budget fight looms, Republicans flip t...   \n",
       "1      U.S. military to accept transgender recruits o...   \n",
       "2      Senior U.S. Republican senator: 'Let Mr. Muell...   \n",
       "3      FBI Russia probe helped by Australian diplomat...   \n",
       "4      Trump wants Postal Service to charge 'much mor...   \n",
       "...                                                  ...   \n",
       "23476  McPain: John McCain Furious That Iran Treated ...   \n",
       "23477  JUSTICE? Yahoo Settles E-mail Privacy Class-ac...   \n",
       "23478  Sunnistan: US and Allied ‘Safe Zone’ Plan to T...   \n",
       "23479  How to Blow $700 Million: Al Jazeera America F...   \n",
       "23480  10 U.S. Navy Sailors Held by Iranian Military ...   \n",
       "\n",
       "                                                    text  class  \\\n",
       "0      WASHINGTON (Reuters) - The head of a conservat...      1   \n",
       "1      WASHINGTON (Reuters) - Transgender people will...      1   \n",
       "2      WASHINGTON (Reuters) - The special counsel inv...      1   \n",
       "3      WASHINGTON (Reuters) - Trump campaign adviser ...      1   \n",
       "4      SEATTLE/WASHINGTON (Reuters) - President Donal...      1   \n",
       "...                                                  ...    ...   \n",
       "23476  21st Century Wire says As 21WIRE reported earl...      0   \n",
       "23477  21st Century Wire says It s a familiar theme. ...      0   \n",
       "23478  Patrick Henningsen  21st Century WireRemember ...      0   \n",
       "23479  21st Century Wire says Al Jazeera America will...      0   \n",
       "23480  21st Century Wire says As 21WIRE predicted in ...      0   \n",
       "\n",
       "                                                 article  \\\n",
       "0      As U.S. budget fight looms, Republicans flip t...   \n",
       "1      U.S. military to accept transgender recruits o...   \n",
       "2      Senior U.S. Republican senator: 'Let Mr. Muell...   \n",
       "3      FBI Russia probe helped by Australian diplomat...   \n",
       "4      Trump wants Postal Service to charge 'much mor...   \n",
       "...                                                  ...   \n",
       "23476  McPain: John McCain Furious That Iran Treated ...   \n",
       "23477  JUSTICE? Yahoo Settles E-mail Privacy Class-ac...   \n",
       "23478  Sunnistan: US and Allied ‘Safe Zone’ Plan to T...   \n",
       "23479  How to Blow $700 Million: Al Jazeera America F...   \n",
       "23480  10 U.S. Navy Sailors Held by Iranian Military ...   \n",
       "\n",
       "                                    article_wo_stopwords  \\\n",
       "0      As U.S. budget fight looms, Republicans flip f...   \n",
       "1      U.S. military accept transgender recruits Mond...   \n",
       "2      Senior U.S. Republican senator: 'Let Mr. Muell...   \n",
       "3      FBI Russia probe helped Australian diplomat ti...   \n",
       "4      Trump wants Postal Service charge 'much more' ...   \n",
       "...                                                  ...   \n",
       "23476  McPain: John McCain Furious That Iran Treated ...   \n",
       "23477  JUSTICE? Yahoo Settles E-mail Privacy Class-ac...   \n",
       "23478  Sunnistan: US Allied ‘Safe Zone’ Plan Take Ter...   \n",
       "23479  How Blow $700 Million: Al Jazeera America Fina...   \n",
       "23480  10 U.S. Navy Sailors Held Iranian Military – S...   \n",
       "\n",
       "                                    article_wo_smallword  \\\n",
       "0      U.S. budget fight looms, Republicans flip fisc...   \n",
       "1      U.S. military accept transgender recruits Mond...   \n",
       "2      Senior U.S. Republican senator: 'Let Mr. Muell...   \n",
       "3      FBI Russia probe helped Australian diplomat ti...   \n",
       "4      Trump wants Postal Service charge 'much more' ...   \n",
       "...                                                  ...   \n",
       "23476  McPain: John McCain Furious That Iran Treated ...   \n",
       "23477  JUSTICE? Yahoo Settles E-mail Privacy Class-ac...   \n",
       "23478  Sunnistan: Allied ‘Safe Zone’ Plan Take Territ...   \n",
       "23479  How Blow $700 Million: Jazeera America Finally...   \n",
       "23480  U.S. Navy Sailors Held Iranian Military Signs ...   \n",
       "\n",
       "                                          clean_articles  \n",
       "0      us budget fight looms republicans flip fiscal ...  \n",
       "1      us military accept transgender recruits monday...  \n",
       "2      senior us republican senator let mr mueller jo...  \n",
       "3      fbi russia probe helped australian diplomat ti...  \n",
       "4      trump wants postal service charge much more am...  \n",
       "...                                                  ...  \n",
       "23476  mcpain john mccain furious that iran treated s...  \n",
       "23477  justice yahoo settles email privacy classactio...  \n",
       "23478  sunnistan allied safe zone plan take territori...  \n",
       "23479  how blow 700 million jazeera america finally c...  \n",
       "23480  us navy sailors held iranian military signs ne...  \n",
       "\n",
       "[44898 rows x 7 columns]"
      ]
     },
     "execution_count": 324,
     "metadata": {},
     "output_type": "execute_result"
    }
   ],
   "source": [
    "df[\"article_wo_smallword\"] = df[\"article_wo_stopwords\"].apply(lambda x: \" \".join([word for word in x.split() if len(word) > 2]))\n",
    "df[[\"article\", \"article_wo_stopwords\", \"article_wo_smallword\"]].head(-5)\n",
    "df"
   ]
  },
  {
   "cell_type": "code",
   "execution_count": 342,
   "id": "ebabc899",
   "metadata": {},
   "outputs": [
    {
     "data": {
      "text/plain": [
       "0        us budget fight looms republicans flip fiscal ...\n",
       "1        us military accept transgender recruits monday...\n",
       "2        senior us republican senator let mr mueller jo...\n",
       "3        fbi russia probe helped australian diplomat ti...\n",
       "4        trump wants postal service charge much more am...\n",
       "                               ...                        \n",
       "23476    mcpain john mccain furious that iran treated s...\n",
       "23477    justice yahoo settles email privacy classactio...\n",
       "23478    sunnistan allied safe zone plan take territori...\n",
       "23479    how blow 700 million jazeera america finally c...\n",
       "23480    us navy sailors held iranian military signs ne...\n",
       "Name: clean_articles, Length: 44898, dtype: object"
      ]
     },
     "execution_count": 342,
     "metadata": {},
     "output_type": "execute_result"
    }
   ],
   "source": [
    "import re\n",
    "def preprocessing(text):\n",
    "    text = re.sub(\"<[^>]*>\", \"\", text)\n",
    "    text = re.sub(r\"[^\\w\\s]\", \"\", text)\n",
    "    text=text.lower()\n",
    "    return text \n",
    "\n",
    "df[\"clean_articles\"] = df[\"article_wo_smallword\"].apply(preprocessing)\n",
    "df[\"clean_articles\"] #check if changes have been applied "
   ]
  },
  {
   "cell_type": "markdown",
   "id": "9fb20aef",
   "metadata": {},
   "source": [
    "## Split and tokenize the text\n",
    "\n",
    "#### We split the data into a train and test set in order to train our model. We also used a tokenizer to tokenize the top 10,000 most common words. Because we are using a Bi-LSTM model our words need to be padded to create vectors of the same size as inputs into the model. By using the OOV token and padding we did not have to manually vectorize our text."
   ]
  },
  {
   "cell_type": "code",
   "execution_count": 343,
   "id": "aed65941",
   "metadata": {},
   "outputs": [],
   "source": [
    "most_common_size = 10000 #take most common 10,000 words \n",
    "max_len = 256 #256 characters per sequence \n",
    "unrecognized_words = \"OOV\" #where OOV stands for \"out of vocabulary\", used for words that aren't in word index \n",
    "padding = \"post\" #pad article length to 256 (adding 56 zeros)\n",
    "truncation = \"post\""
   ]
  },
  {
   "cell_type": "code",
   "execution_count": 344,
   "id": "b417fcca",
   "metadata": {},
   "outputs": [],
   "source": [
    "#Set the tokenizer \n",
    "import tensorflow as tf\n",
    "from tensorflow import keras \n",
    "from tensorflow.keras.preprocessing.text import Tokenizer\n",
    "\n",
    "tokenizer = Tokenizer(num_words = most_common_size, oov_token = unrecognized_words) #specify 10,000 most frequent words \n",
    "tokens = tokenizer.fit_on_texts(df[\"clean_articles\"]) #method that goes through text, creating dictionary "
   ]
  },
  {
   "cell_type": "code",
   "execution_count": 345,
   "id": "a5f82fff",
   "metadata": {},
   "outputs": [],
   "source": [
    "from sklearn.model_selection import train_test_split\n",
    "\n",
    "X = df[\"clean_articles\"]\n",
    "y = df[\"class\"]\n",
    "\n",
    "X_train, X_test, y_train, y_test = train_test_split(X,y, test_size = 0.2, random_state = 99)"
   ]
  },
  {
   "cell_type": "code",
   "execution_count": 346,
   "id": "84e58f3a",
   "metadata": {},
   "outputs": [],
   "source": [
    "X_train = tokenizer.texts_to_sequences(X_train) #converts tokens of text corpus to sequence of integers (which is the index of a token in a dictionary)\n",
    "X_test = tokenizer.texts_to_sequences(X_test)"
   ]
  },
  {
   "cell_type": "code",
   "execution_count": 347,
   "id": "c0b3c7aa",
   "metadata": {},
   "outputs": [],
   "source": [
    "X_train= tf.keras.preprocessing.sequence.pad_sequences(X_train, padding = padding, truncating = truncation, maxlen = max_len)\n",
    "X_test= tf.keras.preprocessing.sequence.pad_sequences(X_test, padding = padding, truncating = truncation, maxlen = max_len)"
   ]
  },
  {
   "cell_type": "markdown",
   "id": "060cc84c",
   "metadata": {},
   "source": [
    "## Building Out the Model "
   ]
  },
  {
   "cell_type": "markdown",
   "id": "e7358b77",
   "metadata": {},
   "source": [
    "You can call Bi-Directional LSTM from Keras and where fitting set Sigmoid and ReLU as activation function, adam as the optimizer, and binary cross-entropy loss function should be used. \n",
    "\n",
    "#### To build out our model we used a sequential model with the following layers\n",
    "\n",
    "- Embedding layer to transform our inputs in our input layer into fixed size vectors of 50. \n",
    "\n",
    "We wanted a size that was large enough to represent our data but not too large to allow for faster processing. We tested different values and found that our loss and accuracy did not change very much from 50-100 so we went with the smaller value in favor of processing speed\n",
    "\n",
    "- Our first bidirectional layer\n",
    "\n",
    "The first hidden layer in our network. This layer we kept to a larger size of 64 to allow for more information to be tranfered inwards to the next layers. \n",
    "\n",
    "- A dropout layer\n",
    "\n",
    "The droput layer is there to drop nodes in an attempt to reduce overfitting. The .5 value is the fraction of nodes to drop. \n",
    "\n",
    "- Our second bidirectional layer\n",
    "\n",
    "For our second layer we reduced the size of our layers to gradually reduce the information loss when going into the final layer. When we made this layer 64 as well out accuracy went down almost 35%. \n",
    "- A second dropout layer\n",
    "- a dense layer with the ReLu activation layer\n",
    "\n",
    "The assignment asked us to apply two different activation layers. We found that by placing the sigmoid function first our accuracy increased. This makes sense because the sigmoid function has a tendency to apply a very small level of differintiation between values that can cause gradient decent to be very slow and leads to the vanishing gradient problem. By applying ReLu after (where ReLu only applies 1s and 0s to given values) the activation function benefits from the activation of sigmoid and allows for more simple gradient decent. \n",
    "\n",
    "- A dense layer with the sigmoid activation\n",
    "\n",
    "But we ended up using the sigmoid function last because we are trying to generate a binary classifier and sigmoid is the correct application for that function.\n",
    "\n",
    "- Dense layer with a shape of one\n",
    "\n",
    "this layer allows for an output shape of 1 indicating a T/F statement for answering the question of if the news is fake or true\n",
    "\n",
    "- after the model is developed the model is comiled with binary crossentropy function \n",
    "\n",
    "From_logits is set to True because we have not applied the SoftMax function and therefore our values produced by our model are not normalized. \n",
    "\n",
    "- The Adam optimizer is used because it is works best to train a neural network efficiently and in little time. These two characteristics were important to us in our choice of an optimizer "
   ]
  },
  {
   "cell_type": "code",
   "execution_count": 348,
   "id": "1a9da630",
   "metadata": {},
   "outputs": [
    {
     "name": "stdout",
     "output_type": "stream",
     "text": [
      "Model: \"sequential_13\"\n",
      "_________________________________________________________________\n",
      " Layer (type)                Output Shape              Param #   \n",
      "=================================================================\n",
      " embedding_13 (Embedding)    (None, None, 50)          500000    \n",
      "                                                                 \n",
      " bidirectional_26 (Bidirecti  (None, None, 128)        58880     \n",
      " onal)                                                           \n",
      "                                                                 \n",
      " dropout_26 (Dropout)        (None, None, 128)         0         \n",
      "                                                                 \n",
      " bidirectional_27 (Bidirecti  (None, 32)               18560     \n",
      " onal)                                                           \n",
      "                                                                 \n",
      " dropout_27 (Dropout)        (None, 32)                0         \n",
      "                                                                 \n",
      " dense_39 (Dense)            (None, 64)                2112      \n",
      "                                                                 \n",
      " dense_40 (Dense)            (None, 1)                 65        \n",
      "                                                                 \n",
      " dense_41 (Dense)            (None, 1)                 2         \n",
      "                                                                 \n",
      "=================================================================\n",
      "Total params: 579,619\n",
      "Trainable params: 579,619\n",
      "Non-trainable params: 0\n",
      "_________________________________________________________________\n"
     ]
    }
   ],
   "source": [
    "dim = 50\n",
    "bd_out = 64\n",
    "bd_out2 = 16\n",
    "\n",
    "model_lstm = tf.keras.Sequential([\n",
    "    tf.keras.layers.Embedding(most_common_size, dim), \n",
    "    tf.keras.layers.Bidirectional(tf.keras.layers.LSTM(bd_out, return_sequences = True)),\n",
    "    tf.keras.layers.Dropout(0.5), \n",
    "    tf.keras.layers.Bidirectional(tf.keras.layers.LSTM(bd_out2)), \n",
    "    tf.keras.layers.Dropout(0.5), \n",
    "    tf.keras.layers.Dense(64, activation=\"relu\"),\n",
    "    tf.keras.layers.Dense(1, activation= 'sigmoid'),\n",
    "    tf.keras.layers.Dense(1)\n",
    "])\n",
    "\n",
    "model_lstm.summary()\n"
   ]
  },
  {
   "cell_type": "code",
   "execution_count": 349,
   "id": "71074b5f",
   "metadata": {},
   "outputs": [],
   "source": [
    "model_lstm.compile(loss=tf.keras.losses.BinaryCrossentropy(from_logits=True), \n",
    "             optimizer=tf.keras.optimizers.Adam(1e-2), \n",
    "             metrics=[\"accuracy\"])"
   ]
  },
  {
   "cell_type": "markdown",
   "id": "ba8a2cd3",
   "metadata": {},
   "source": [
    "## Batch Size & Epochs"
   ]
  },
  {
   "cell_type": "markdown",
   "id": "621384e4",
   "metadata": {},
   "source": [
    "Our neural network uses early stopping in order to avoid overfitting. We do so by monitoring the validation loss. Specifically, making the stop when the validation loss - our preferred metric to assess the performance of the model on the validation set - no longer improves. We then proceed to fit the model to the training data using 2 epochs and 10% of the available data for validation testing. Epochs are loosely defined as an entire pass over the training dataset, which is used to separate the latter into distinct phases. By using two epochs, we are doing this entire process twice."
   ]
  },
  {
   "cell_type": "code",
   "execution_count": 350,
   "id": "d47aa421",
   "metadata": {},
   "outputs": [
    {
     "name": "stdout",
     "output_type": "stream",
     "text": [
      "Epoch 1/2\n",
      "506/506 [==============================] - 101s 192ms/step - loss: 0.3080 - accuracy: 0.8736 - val_loss: 0.1378 - val_accuracy: 0.9827\n",
      "Epoch 2/2\n",
      "506/506 [==============================] - 104s 206ms/step - loss: 0.1223 - accuracy: 0.9783 - val_loss: 0.1376 - val_accuracy: 0.9710\n"
     ]
    }
   ],
   "source": [
    "early_stop =tf.keras.callbacks.EarlyStopping(monitor=\"val_loss\", patience = 2, restore_best_weights=True)\n",
    "\n",
    "history = model_lstm.fit(X_train, y_train, epochs = 2, validation_split= 0.1, batch_size = 64, callbacks=[early_stop])"
   ]
  },
  {
   "cell_type": "code",
   "execution_count": 351,
   "id": "c886bec9",
   "metadata": {},
   "outputs": [
    {
     "data": {
      "text/plain": [
       "<keras.callbacks.History at 0x220d6325ee0>"
      ]
     },
     "execution_count": 351,
     "metadata": {},
     "output_type": "execute_result"
    }
   ],
   "source": [
    "history"
   ]
  },
  {
   "cell_type": "code",
   "execution_count": 352,
   "id": "5c5187ee",
   "metadata": {},
   "outputs": [
    {
     "name": "stdout",
     "output_type": "stream",
     "text": [
      "{'loss': [0.3079693019390106, 0.12229647487401962], 'accuracy': [0.8735692501068115, 0.9783146977424622], 'val_loss': [0.13784973323345184, 0.1376437395811081], 'val_accuracy': [0.9827394485473633, 0.9710467457771301]}\n"
     ]
    }
   ],
   "source": [
    "print(history.history)"
   ]
  },
  {
   "cell_type": "markdown",
   "id": "4514c484",
   "metadata": {},
   "source": [
    "## Accuracy Measures\n",
    "\n",
    "Line Graphs - Accuracy & Loss \n",
    "The line graphs above showcase three different relationships. First, we take a look at model accuracy: what we can see is the validation accuracy is higher than the training accuracy. This is the result of using dropout layers. However, it ensures that the test accuracy will be more robust. \n",
    "\n",
    "Next, we see that the loss in the training data is decreasing while that of the validation data is increasing. This suggests that the model may be overfitting and learning more so the training data rather the model itself. \n",
    "\n",
    "Lastly, the last line graph shows that the loss is larger than the accuracy in the model. While the two metrics are unrelated, a larger loss shows bigger errors were made. However, we need to think of the nature of the data which is binary: 0 or 1. Therefore, a loss of 0.5 is relatively big, while it wouldn’t be the case for other datasets where the range of values is bigger. "
   ]
  },
  {
   "cell_type": "code",
   "execution_count": 353,
   "id": "e48567f0",
   "metadata": {},
   "outputs": [],
   "source": [
    "#something is weird here\n",
    "def plot_graphs(history, title):\n",
    "  plt.plot(history.history[title])\n",
    "  plt.plot(history.history['val_'+title], '')\n",
    "  plt.xlabel(\"Epochs\")\n",
    "  plt.ylabel(title)\n",
    "  plt.legend([title, 'val_'+title])\n",
    "  plt.show()"
   ]
  },
  {
   "cell_type": "code",
   "execution_count": 354,
   "id": "9d4edd7b",
   "metadata": {},
   "outputs": [
    {
     "data": {
      "image/png": "[encoded data removed]",
      "text/plain": [
       "<Figure size 432x288 with 1 Axes>"
      ]
     },
     "metadata": {
      "needs_background": "light"
     },
     "output_type": "display_data"
    },
    {
     "data": {
      "image/png": "[encoded data removed]",
      "text/plain": [
       "<Figure size 432x288 with 1 Axes>"
      ]
     },
     "metadata": {
      "needs_background": "light"
     },
     "output_type": "display_data"
    }
   ],
   "source": [
    "plot_graphs(history, 'accuracy')\n",
    "plot_graphs(history, 'loss')"
   ]
  },
  {
   "cell_type": "code",
   "execution_count": 355,
   "id": "f8aa22d8",
   "metadata": {},
   "outputs": [
    {
     "data": {
      "image/png": "[encoded data removed]",
      "text/plain": [
       "<Figure size 432x288 with 1 Axes>"
      ]
     },
     "metadata": {
      "needs_background": "light"
     },
     "output_type": "display_data"
    }
   ],
   "source": [
    " from matplotlib import pyplot\n",
    " \n",
    "pyplot.plot(history.history['loss'])\n",
    "pyplot.plot(history.history['accuracy'])\n",
    "pyplot.title('model loss vs accuracy')\n",
    "pyplot.xlabel('epoch')\n",
    "pyplot.legend(['loss', 'accuracy'], loc='upper right')\n",
    "pyplot.show()"
   ]
  },
  {
   "cell_type": "code",
   "execution_count": 356,
   "id": "f86410b4",
   "metadata": {},
   "outputs": [],
   "source": [
    "from sklearn.preprocessing import LabelEncoder\n",
    "from sklearn.metrics import matthews_corrcoef, confusion_matrix, classification_report"
   ]
  },
  {
   "cell_type": "code",
   "execution_count": 357,
   "id": "093f8b8e",
   "metadata": {},
   "outputs": [],
   "source": [
    "predictions = model_lstm.predict(X_test)"
   ]
  },
  {
   "cell_type": "markdown",
   "id": "dd8ea3e1",
   "metadata": {},
   "source": [
    "The confusion matrix shows that the model predicts most of true positives and true negatives right. There are very small number of false negatives and false positive"
   ]
  },
  {
   "cell_type": "code",
   "execution_count": 372,
   "id": "06585723",
   "metadata": {
    "scrolled": false
   },
   "outputs": [
    {
     "data": {
      "image/png": "[encoded data removed]",
      "text/plain": [
       "<Figure size 432x288 with 2 Axes>"
      ]
     },
     "metadata": {
      "needs_background": "light"
     },
     "output_type": "display_data"
    }
   ],
   "source": [
    "from sklearn.metrics import ConfusionMatrixDisplay\n",
    "from sklearn.metrics import confusion_matrix\n",
    "\n",
    "#y_predic = np.argmax(predictions, axis=1)\n",
    "y_pred = []\n",
    "for item in predictions:\n",
    "    if item <= 0:\n",
    "        y_pred.append(0)\n",
    "    else:\n",
    "        y_pred.append(1)\n",
    "\n",
    "labels = [\"Fake\", \"True\"]\n",
    "\n",
    "cm = confusion_matrix(y_test, y_pred)\n",
    "\n",
    "disp = ConfusionMatrixDisplay(confusion_matrix=cm, display_labels=labels)\n",
    "\n",
    "disp.plot(cmap=plt.cm.Blues)\n",
    "plt.show()"
   ]
  },
  {
   "cell_type": "code",
   "execution_count": 373,
   "id": "3cb0cf27",
   "metadata": {},
   "outputs": [
    {
     "name": "stdout",
     "output_type": "stream",
     "text": [
      "71/71 [==============================] - 8s 109ms/step - loss: 0.1352 - accuracy: 0.9716\n",
      "test loss, test accuracy: [0.13520453870296478, 0.9716035723686218]\n"
     ]
    }
   ],
   "source": [
    "results = model_lstm.evaluate(X_test, y_test, batch_size=128)\n",
    "print(\"test loss, test accuracy:\", results)"
   ]
  }
 ],
 "metadata": {
  "kernelspec": {
   "display_name": "Python 3 (ipykernel)",
   "language": "python",
   "name": "python3"
  },
  "language_info": {
   "codemirror_mode": {
    "name": "ipython",
    "version": 3
   },
   "file_extension": ".py",
   "mimetype": "text/x-python",
   "name": "python",
   "nbconvert_exporter": "python",
   "pygments_lexer": "ipython3",
   "version": "3.9.7"
  },
  "toc": {
   "base_numbering": 1,
   "nav_menu": {},
   "number_sections": true,
   "sideBar": true,
   "skip_h1_title": false,
   "title_cell": "Table of Contents",
   "title_sidebar": "Contents",
   "toc_cell": false,
   "toc_position": {},
   "toc_section_display": true,
   "toc_window_display": false
  }
 },
 "nbformat": 4,
 "nbformat_minor": 5
}
