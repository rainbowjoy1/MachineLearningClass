{
 "cells": [
  {
   "cell_type": "code",
   "execution_count": 2,
   "id": "b70091e6",
   "metadata": {},
   "outputs": [],
   "source": [
    "import numpy as np\n",
    "import tensorflow as tf\n",
    "import matplotlib.pyplot as plt\n",
    "import skimage\n",
    "import cv2\n",
    "import glob\n",
    "import pandas as pd\n",
    "import joblib\n",
    "\n",
    "from tensorflow.keras import layers\n",
    "from tensorflow.keras.datasets import mnist\n",
    "from tensorflow.keras.models import Model\n",
    "from tensorflow.keras.models import Sequential\n",
    "from tensorflow.keras.models import load_model\n",
    "from tensorflow.keras.layers import Dense, Conv2D, Flatten, Dropout, UpSampling2D\n",
    "from keras.preprocessing.image import ImageDataGenerator, array_to_img, img_to_array, load_img\n",
    "from skimage import data, io,color\n",
    "from skimage.io import imread_collection #loads a collection of images\n",
    "from skimage.io import imread, imshow\n",
    "from pathlib import Path\n",
    "\n",
    "from sklearn.decomposition import PCA\n",
    "\n",
    "import matplotlib as mpl\n",
    "import matplotlib.pyplot as plt\n",
    "\n",
    "import sys"
   ]
  },
  {
   "cell_type": "markdown",
   "id": "ba6e2b70",
   "metadata": {},
   "source": [
    "### Load model1"
   ]
  },
  {
   "cell_type": "code",
   "execution_count": 3,
   "id": "c4d22aef",
   "metadata": {},
   "outputs": [],
   "source": [
    "reconstructed_model = load_model(\"my_model_tf_Y\")"
   ]
  },
  {
   "cell_type": "code",
   "execution_count": 4,
   "id": "7fbf77b4",
   "metadata": {},
   "outputs": [],
   "source": [
    "#def init():\n",
    "    #CHANGE THIS TO YOUR TRAIN FOLDER\n",
    "image_folder = 'C:/Study/Semester2/Machine Learning/ML_images/Training' \n",
    "#image_folder = 'C:/Users/danie/Desktop/Training_ML'\n",
    "TOO_SMALL = 200000\n",
    "SMALL = 500000\n",
    "MEDIUM = 1200000\n",
    "LARGE = 2100000\n",
    "    \n",
    "X_train = []\n",
    "Y_train = []\n",
    "counter = 1\n",
    "    \n",
    "img_height = 1888 #Usually 128. this might change depending on Annaya & Danielle's input \n",
    "img_width = 1888 #Usually 128. this might change depending on Annaya & Danielle's input \n",
    "epochs = 10 #Start with 1, and increase to 10, 100, 500, 1000 and 3000. 11 is the recommended number of runs through the training dataset. We will probably have to tune this. \n",
    "#total_training = total number of training data len()\n",
    "batch_size = 1 #test different ones from 1 to 2, 5, 10, etc\n",
    "total_images = 1"
   ]
  },
  {
   "cell_type": "code",
   "execution_count": 5,
   "id": "02e5c384",
   "metadata": {},
   "outputs": [],
   "source": [
    "#Define sizes of images based on their resolution\n",
    "#Image shape and resolution\n",
    "\n",
    "#TODO make the IMG sizes make sense\n",
    "\n",
    "\n",
    "def shape(img):\n",
    "    size = 0\n",
    "    resolution = img.shape[0] * img.shape[1]\n",
    "    if resolution <= TOO_SMALL:\n",
    "        size = 0\n",
    "    elif resolution <= SMALL:\n",
    "        size = 1\n",
    "    elif resolution <= MEDIUM:\n",
    "        size = 2\n",
    "    elif resolution <= LARGE:\n",
    "        size = 3\n",
    "    else:\n",
    "        size = 6\n",
    "    return size\n",
    "def create_dataframe(image_folder):\n",
    "    images = Path(image_folder).glob('*.jpg')\n",
    "\n",
    "    list_of_files = []\n",
    "    for image in images:\n",
    "        list_of_files.append(str(image))\n",
    "\n",
    "    df = pd. DataFrame(list_of_files, columns = [\"image_path\"])\n",
    "    df_length = len(df.index)\n",
    "    print(\"processing\", df_length, \"photos for training\")\n",
    "    \n",
    "    height= []\n",
    "    width = []\n",
    "    resolution = []\n",
    "    \n",
    "    for image_path in df['image_path']:\n",
    "        img = cv2.imread(str(image_path))\n",
    "        height.append(img.shape[0])\n",
    "        width.append(img.shape[1])\n",
    "        \n",
    "    df[\"height\"] = height\n",
    "    df[\"width\"] = width\n",
    "    df[\"resolution\"] = df[\"height\"] * df[\"width\"]\n",
    "    \n",
    "    df = df[df.resolution < LARGE]\n",
    "    \n",
    "    ll = df_length - len(df.index)\n",
    "    print(\"dropped \", ll, \"photos because they were too large to process\")\n",
    "    \n",
    "    df = df[df.resolution > TOO_SMALL]\n",
    "    \n",
    "    ss = df_length - len(df.index) - ll\n",
    "    print(\"dropped \", ss, \"photos because they were too small to process\")\n",
    "    df.head()\n",
    "    \n",
    "    return df\n",
    "#PCA rgb then pass to prep_img as an rgb image\n",
    "\n",
    "def pca_rgb(imgBGR, size): #imgRGB, size\n",
    "    b,g,r = cv2.split(imgBGR)\n",
    "    list_channels = [b,g,r]\n",
    "    \n",
    "    #check size first\n",
    "    if size ==1:\n",
    "        inverted_img = []\n",
    "        for c in list_channels:            \n",
    "            pca = PCA(n_components = 300)\n",
    "            transformed = pca.fit_transform(c/255) #r_scaled\n",
    "            inverted = pca.inverse_transform(transformed)\n",
    "            inverted_img.append(inverted)\n",
    "        \n",
    "        tuple(inverted_img)\n",
    "        RGB_compressed = cv2.merge(inverted_img)    \n",
    "\n",
    "    elif size == 2:\n",
    "        inverted_img = []\n",
    "        for c in list_channels:            \n",
    "            pca = PCA(n_components = 400)\n",
    "            transformed = pca.fit_transform(c/255) #r_scaled\n",
    "            inverted = pca.inverse_transform(transformed)\n",
    "            inverted_img.append(inverted)\n",
    "        \n",
    "        tuple(inverted_img)\n",
    "        RGB_compressed = cv2.merge(inverted_img)\n",
    "    else:\n",
    "        inverted_img = []\n",
    "        for c in list_channels:            \n",
    "            pca = PCA(n_components = 500)\n",
    "            transformed = pca.fit_transform(c/255) #r_scaled\n",
    "            inverted = pca.inverse_transform(transformed)\n",
    "            inverted_img.append(inverted)\n",
    "        \n",
    "        tuple(inverted_img)\n",
    "        RGB_compressed = cv2.merge(inverted_img)\n",
    "        \n",
    "    RGB_compressed = np.float32(RGB_compressed)\n",
    "        \n",
    "    return RGB_compressed\n",
    "\n",
    "# image padding\n",
    "\n",
    "def rgb_pad(image):\n",
    "    \n",
    "    height = image.shape[0]\n",
    "    width = image.shape[1]\n",
    "\n",
    "    WHITE = [255,255,255] #[255,255,255]  1, 1, 1\n",
    "    MAX = 1888\n",
    "    \n",
    "    if height % 2 == 0:\n",
    "        top = int((MAX - height)/ 2)\n",
    "        bottom = int((MAX - height)/ 2)\n",
    "    else: \n",
    "        top = int((MAX - (height-1))/ 2)\n",
    "        bottom = int(((MAX - (height-1))/ 2)-1)\n",
    "\n",
    "    if width % 2 == 0:\n",
    "        left = int((MAX - width)/ 2)\n",
    "        right = int((MAX - width)/ 2)\n",
    "    else: \n",
    "        left = int((MAX - (width-1))/ 2)\n",
    "        right = int(((MAX - (width-1))/2)-1)\n",
    "    \n",
    "    image = cv2.copyMakeBorder(image, top, bottom, left, right,\n",
    "    cv2.BORDER_CONSTANT,value=WHITE)\n",
    "\n",
    "    return image\n",
    "def prep_img(img_path):\n",
    "    imgRGB = cv2.imread(img_path)\n",
    "    imgBGR = np.flip(imgRGB, -1)\n",
    "    \n",
    "    #check the image category by 'shape' function\n",
    "    image_size_category = shape(imgBGR) #imgRGB\n",
    "    #print(\"image size determined!\")\n",
    "\n",
    "    if image_size_category <1:\n",
    "        raise Exception(\"Your image is too small to be used\")\n",
    "    elif image_size_category >4:\n",
    "        raise Exception(\"Your image is too big to be used\")\n",
    "\n",
    "    #print(\"image PCA started!\")\n",
    "    #image_pca = pca_rgb(imgRGB, image_size_category) \n",
    "    RGB_compressed = pca_rgb(imgBGR, image_size_category) #imgRGB, image_size_category\n",
    "    #RGB_compressed[400][400]\n",
    "    #plt.figure(figsize=(10, 10))\n",
    "    #plt.imshow(RGB_compressed)\n",
    "    \n",
    "    print(\"image is padded\")\n",
    "    padded_image = rgb_pad(RGB_compressed)\n",
    "    #padded_image[1000][1000]\n",
    "    #plt.figure(figsize=(10, 10))\n",
    "    #plt.imshow(padded_image)\n",
    "    \n",
    "    #image_pca = np.float32((1.0/255)*image_pca) # #The rgb_compressed come out in RGB scaled data already\n",
    "    print(\"image converted to LAB\")\n",
    "    padded_LAB = cv2.cvtColor(padded_image, cv2.COLOR_RGB2Lab) #convert padded RGB compressed to LAB\n",
    "    padded_LAB = padded_LAB/np.amax(padded_LAB) #scaled to -1/1\n",
    "    #imgLAB = np.clip(imgLAB, 0, 1)\n",
    "\n",
    "    \n",
    "    #separate L and AB color channels\n",
    "    Y = padded_LAB[:, :,1:]\n",
    "    #Y = Y / 128 #comment out when show predicted\n",
    "    #Y = Y.tolist()\n",
    "    X = padded_LAB[:, :, 0] #.tolist()\n",
    "    #print(X[1000])\n",
    "    #plt.figure(figsize=(10, 10))\n",
    "    #plt.imshow(X)\n",
    "    \n",
    "    #this is in sample code and idk why\n",
    "    \n",
    "    X = X.reshape(1, 1888, 1888, 1) #comment out when show predicted\n",
    "    Y = Y.reshape(1, 1888, 1888, 2) #comment out when show predicted\n",
    "    \n",
    "    print(\"image processed\")\n",
    "\n",
    "    return Y, X \n",
    "#Debugged function\n",
    "def prep_img(img_path):\n",
    "    imgRGB = cv2.imread(img_path)\n",
    "    imgBGR = np.flip(imgRGB, -1)\n",
    "    \n",
    "    #check the image category by 'shape' function\n",
    "    image_size_category = shape(imgBGR) #imgRGB\n",
    "    #print(\"image size determined!\")\n",
    "\n",
    "    if image_size_category <1:\n",
    "        raise Exception(\"Your image is too small to be used\")\n",
    "    elif image_size_category >4:\n",
    "        raise Exception(\"Your image is too big to be used\")\n",
    "\n",
    "    #print(\"image PCA started!\")\n",
    "    #image_pca = pca_rgb(imgRGB, image_size_category) \n",
    "    RGB_compressed = pca_rgb(imgBGR, image_size_category) #imgRGB, image_size_category\n",
    "    #RGB_compressed[400][400]\n",
    "    #plt.figure(figsize=(10, 10))\n",
    "    #plt.imshow(RGB_compressed)\n",
    "    \n",
    "    print(\"image is padded\")\n",
    "    padded_image = rgb_pad(RGB_compressed)\n",
    "    #padded_image[1000][1000]\n",
    "    #plt.figure(figsize=(10, 10))\n",
    "    #plt.imshow(padded_image)\n",
    "    \n",
    "    #image_pca = np.float32((1.0/255)*image_pca) # #The rgb_compressed come out in RGB scaled data already\n",
    "    print(\"image converted to LAB\")\n",
    "    padded_LAB = cv2.cvtColor(padded_image, cv2.COLOR_RGB2Lab) #convert padded RGB compressed to LAB\n",
    "    padded_LAB = padded_LAB/np.amax(padded_LAB) #scaled to -1/1\n",
    "    #imgLAB = np.clip(imgLAB, 0, 1)\n",
    "\n",
    "    \n",
    "    #separate L and AB color channels\n",
    "    Y = padded_LAB[:, :,1:]\n",
    "    #Y = Y / 128 #comment out when show predicted\n",
    "    #Y = Y.tolist()\n",
    "    X = padded_LAB[:, :, 0] #.tolist()\n",
    "    #print(X[1000])\n",
    "    #plt.figure(figsize=(10, 10))\n",
    "    #plt.imshow(X)\n",
    "    \n",
    "    #this is in sample code and idk why\n",
    "    \n",
    "    X = X.reshape(1, 1888, 1888, 1) #comment out when show predicted\n",
    "    Y = Y.reshape(1, 1888, 1888, 2) #comment out when show predicted\n",
    "    \n",
    "    print(\"image processed\")\n",
    "\n",
    "    return Y, X \n"
   ]
  },
  {
   "cell_type": "markdown",
   "id": "2fff2376",
   "metadata": {},
   "source": [
    "### Start testing"
   ]
  },
  {
   "cell_type": "code",
   "execution_count": 6,
   "id": "28d37c52",
   "metadata": {},
   "outputs": [],
   "source": [
    "test_path = \"C:/Study/Semester2/Machine Learning/ML_images/gray/g41.jpg\""
   ]
  },
  {
   "cell_type": "code",
   "execution_count": 7,
   "id": "9611d4f6",
   "metadata": {},
   "outputs": [],
   "source": [
    "def prep_img_test(img_path):\n",
    "    imgRGB = cv2.imread(img_path)\n",
    "    imgBGR = np.flip(imgRGB, -1)\n",
    "    \n",
    "    #check the image category by 'shape' function\n",
    "    image_size_category = shape(imgBGR) #imgRGB\n",
    "    #print(\"image size determined!\")\n",
    "\n",
    "    if image_size_category <1:\n",
    "        raise Exception(\"Your image is too small to be used\")\n",
    "    elif image_size_category >4:\n",
    "        raise Exception(\"Your image is too big to be used\")\n",
    "\n",
    "    #print(\"image PCA started!\")\n",
    "    #image_pca = pca_rgb(imgRGB, image_size_category) \n",
    "    RGB_compressed = pca_rgb(imgBGR, image_size_category)\n",
    "    RGB_compressed = np.clip(RGB_compressed, 0, 1)\n",
    "    print('RGB compressed :',np.min(RGB_compressed),np.max(RGB_compressed))\n",
    "    #plt.figure(figsize=(10, 10))\n",
    "    #plt.imshow(RGB_compressed)\n",
    "    \n",
    "    print(\"image is padded\")\n",
    "    padded_RGB = rgb_pad(RGB_compressed)\n",
    "    print(padded_RGB.shape)\n",
    "    padded_RGB = np.float32(padded_RGB*(1/255))\n",
    "    print('padded_RGB:', np.min(padded_RGB),np.max(padded_RGB))\n",
    "   \n",
    "    plt.figure(figsize=(10, 10))\n",
    "    plt.imshow(padded_RGB*255)\n",
    "    \n",
    "    print(\"image converted to LAB\")\n",
    "    #padded_LAB = cv2.cvtColor(padded_RGB, cv2.COLOR_RGB2Lab) #convert padded RGB compressed to L\n",
    "    \n",
    "    padded_LAB = color.rgb2lab(padded_RGB)\n",
    "    #padded_LAB = padded_LAB/128\n",
    "    print('padded_LAB:', np.min(padded_LAB),np.max(padded_LAB))\n",
    "    print(padded_LAB.shape)\n",
    "    #padded_LAB = padded_LAB/np.amax(padded_LAB) #scaled to -1/1\n",
    "   \n",
    "\n",
    "    \n",
    "    #separate L and AB color channels\n",
    "    Y = padded_LAB[:, :,1:]\n",
    "    #Y = Y /128\n",
    "    print('A :',np.min(Y[:,:,0]), np.max(Y[:,:,0]))\n",
    "    print('B :',np.min(Y[:,:,1]), np.max(Y[:,:,1]))\n",
    "    \n",
    "    X = padded_LAB[:, :, 0] #X is in a color scale 0 to 100\n",
    "    print('X :',np.min(X), np.max(X))\n",
    "    \n",
    "    #this is in sample code and idk why\n",
    "    \n",
    "    X = X.reshape(1, 1888, 1888, 1) #comment out when show predicted\n",
    "    Y = Y.reshape(1, 1888, 1888, 2) #comment out when show predicted\n",
    "    \n",
    "    print(\"image processed\")\n",
    "\n",
    "    return Y, X "
   ]
  },
  {
   "cell_type": "code",
   "execution_count": 8,
   "id": "5e0360ce",
   "metadata": {
    "scrolled": true
   },
   "outputs": [
    {
     "name": "stderr",
     "output_type": "stream",
     "text": [
      "Clipping input data to the valid range for imshow with RGB data ([0..1] for floats or [0..255] for integers).\n"
     ]
    },
    {
     "name": "stdout",
     "output_type": "stream",
     "text": [
      "RGB compressed : 0.003177696 1.0\n",
      "image is padded\n",
      "(1888, 1888, 3)\n",
      "padded_RGB: 1.24615535e-05 1.0\n",
      "image converted to LAB\n",
      "padded_LAB: -0.009447336 100.0\n",
      "(1888, 1888, 3)\n",
      "A : -0.009447336 0.015333295\n",
      "B : -0.007033348 0.03363788\n",
      "X : 0.0018043518 100.0\n",
      "image processed\n"
     ]
    },
    {
     "data": {
      "image/png": "[encoded data removed]",
      "text/plain": [
       "<Figure size 720x720 with 1 Axes>"
      ]
     },
     "metadata": {
      "needs_background": "light"
     },
     "output_type": "display_data"
    }
   ],
   "source": [
    "CL, BW = prep_img_test(test_path)\n",
    "#test_data = tf.data.Dataset.from_tensor_slices(BW)\n",
    "test_predict = reconstructed_model.predict(BW) #what shape does the prediction takes?"
   ]
  },
  {
   "cell_type": "code",
   "execution_count": 9,
   "id": "302d8ddb",
   "metadata": {
    "scrolled": true
   },
   "outputs": [
    {
     "data": {
      "text/plain": [
       "(1, 1888, 1888, 2)"
      ]
     },
     "execution_count": 9,
     "metadata": {},
     "output_type": "execute_result"
    }
   ],
   "source": [
    "test_predict.shape"
   ]
  },
  {
   "cell_type": "code",
   "execution_count": 10,
   "id": "952b650d",
   "metadata": {
    "scrolled": true
   },
   "outputs": [],
   "source": [
    "test_predict_reshaped= test_predict[0,:,:,:]"
   ]
  },
  {
   "cell_type": "code",
   "execution_count": 11,
   "id": "adcc89ba",
   "metadata": {},
   "outputs": [
    {
     "data": {
      "text/plain": [
       "(1888, 1888, 2)"
      ]
     },
     "execution_count": 11,
     "metadata": {},
     "output_type": "execute_result"
    }
   ],
   "source": [
    "test_predict_reshaped.shape"
   ]
  },
  {
   "cell_type": "code",
   "execution_count": 12,
   "id": "6fdfcfaa",
   "metadata": {
    "scrolled": false
   },
   "outputs": [
    {
     "name": "stdout",
     "output_type": "stream",
     "text": [
      "-1.0 1.0\n"
     ]
    }
   ],
   "source": [
    "print(np.min(test_predict_reshaped), np.max(test_predict_reshaped)) #it predict a little bit of colors"
   ]
  },
  {
   "cell_type": "code",
   "execution_count": 13,
   "id": "0abf5b9e",
   "metadata": {},
   "outputs": [
    {
     "data": {
      "text/html": [
       "<div>\n",
       "<style scoped>\n",
       "    .dataframe tbody tr th:only-of-type {\n",
       "        vertical-align: middle;\n",
       "    }\n",
       "\n",
       "    .dataframe tbody tr th {\n",
       "        vertical-align: top;\n",
       "    }\n",
       "\n",
       "    .dataframe thead th {\n",
       "        text-align: right;\n",
       "    }\n",
       "</style>\n",
       "<table border=\"1\" class=\"dataframe\">\n",
       "  <thead>\n",
       "    <tr style=\"text-align: right;\">\n",
       "      <th></th>\n",
       "      <th>0</th>\n",
       "      <th>1</th>\n",
       "      <th>2</th>\n",
       "      <th>3</th>\n",
       "      <th>4</th>\n",
       "      <th>5</th>\n",
       "      <th>6</th>\n",
       "      <th>7</th>\n",
       "      <th>8</th>\n",
       "      <th>9</th>\n",
       "      <th>...</th>\n",
       "      <th>1878</th>\n",
       "      <th>1879</th>\n",
       "      <th>1880</th>\n",
       "      <th>1881</th>\n",
       "      <th>1882</th>\n",
       "      <th>1883</th>\n",
       "      <th>1884</th>\n",
       "      <th>1885</th>\n",
       "      <th>1886</th>\n",
       "      <th>1887</th>\n",
       "    </tr>\n",
       "  </thead>\n",
       "  <tbody>\n",
       "    <tr>\n",
       "      <th>count</th>\n",
       "      <td>1888.0</td>\n",
       "      <td>1888.0</td>\n",
       "      <td>1888.0</td>\n",
       "      <td>1888.0</td>\n",
       "      <td>1888.0</td>\n",
       "      <td>1888.0</td>\n",
       "      <td>1888.0</td>\n",
       "      <td>1888.0</td>\n",
       "      <td>1888.0</td>\n",
       "      <td>1888.0</td>\n",
       "      <td>...</td>\n",
       "      <td>1888.0</td>\n",
       "      <td>1888.0</td>\n",
       "      <td>1888.0</td>\n",
       "      <td>1888.0</td>\n",
       "      <td>1888.0</td>\n",
       "      <td>1888.0</td>\n",
       "      <td>1888.0</td>\n",
       "      <td>1888.0</td>\n",
       "      <td>1888.0</td>\n",
       "      <td>1888.0</td>\n",
       "    </tr>\n",
       "    <tr>\n",
       "      <th>mean</th>\n",
       "      <td>-1.0</td>\n",
       "      <td>-1.0</td>\n",
       "      <td>-1.0</td>\n",
       "      <td>-1.0</td>\n",
       "      <td>-1.0</td>\n",
       "      <td>-1.0</td>\n",
       "      <td>-1.0</td>\n",
       "      <td>-1.0</td>\n",
       "      <td>-1.0</td>\n",
       "      <td>-1.0</td>\n",
       "      <td>...</td>\n",
       "      <td>-1.0</td>\n",
       "      <td>-1.0</td>\n",
       "      <td>-1.0</td>\n",
       "      <td>-1.0</td>\n",
       "      <td>-1.0</td>\n",
       "      <td>-1.0</td>\n",
       "      <td>-1.0</td>\n",
       "      <td>-1.0</td>\n",
       "      <td>-1.0</td>\n",
       "      <td>-1.0</td>\n",
       "    </tr>\n",
       "    <tr>\n",
       "      <th>std</th>\n",
       "      <td>0.0</td>\n",
       "      <td>0.0</td>\n",
       "      <td>0.0</td>\n",
       "      <td>0.0</td>\n",
       "      <td>0.0</td>\n",
       "      <td>0.0</td>\n",
       "      <td>0.0</td>\n",
       "      <td>0.0</td>\n",
       "      <td>0.0</td>\n",
       "      <td>0.0</td>\n",
       "      <td>...</td>\n",
       "      <td>0.0</td>\n",
       "      <td>0.0</td>\n",
       "      <td>0.0</td>\n",
       "      <td>0.0</td>\n",
       "      <td>0.0</td>\n",
       "      <td>0.0</td>\n",
       "      <td>0.0</td>\n",
       "      <td>0.0</td>\n",
       "      <td>0.0</td>\n",
       "      <td>0.0</td>\n",
       "    </tr>\n",
       "    <tr>\n",
       "      <th>min</th>\n",
       "      <td>-1.0</td>\n",
       "      <td>-1.0</td>\n",
       "      <td>-1.0</td>\n",
       "      <td>-1.0</td>\n",
       "      <td>-1.0</td>\n",
       "      <td>-1.0</td>\n",
       "      <td>-1.0</td>\n",
       "      <td>-1.0</td>\n",
       "      <td>-1.0</td>\n",
       "      <td>-1.0</td>\n",
       "      <td>...</td>\n",
       "      <td>-1.0</td>\n",
       "      <td>-1.0</td>\n",
       "      <td>-1.0</td>\n",
       "      <td>-1.0</td>\n",
       "      <td>-1.0</td>\n",
       "      <td>-1.0</td>\n",
       "      <td>-1.0</td>\n",
       "      <td>-1.0</td>\n",
       "      <td>-1.0</td>\n",
       "      <td>-1.0</td>\n",
       "    </tr>\n",
       "    <tr>\n",
       "      <th>25%</th>\n",
       "      <td>-1.0</td>\n",
       "      <td>-1.0</td>\n",
       "      <td>-1.0</td>\n",
       "      <td>-1.0</td>\n",
       "      <td>-1.0</td>\n",
       "      <td>-1.0</td>\n",
       "      <td>-1.0</td>\n",
       "      <td>-1.0</td>\n",
       "      <td>-1.0</td>\n",
       "      <td>-1.0</td>\n",
       "      <td>...</td>\n",
       "      <td>-1.0</td>\n",
       "      <td>-1.0</td>\n",
       "      <td>-1.0</td>\n",
       "      <td>-1.0</td>\n",
       "      <td>-1.0</td>\n",
       "      <td>-1.0</td>\n",
       "      <td>-1.0</td>\n",
       "      <td>-1.0</td>\n",
       "      <td>-1.0</td>\n",
       "      <td>-1.0</td>\n",
       "    </tr>\n",
       "    <tr>\n",
       "      <th>50%</th>\n",
       "      <td>-1.0</td>\n",
       "      <td>-1.0</td>\n",
       "      <td>-1.0</td>\n",
       "      <td>-1.0</td>\n",
       "      <td>-1.0</td>\n",
       "      <td>-1.0</td>\n",
       "      <td>-1.0</td>\n",
       "      <td>-1.0</td>\n",
       "      <td>-1.0</td>\n",
       "      <td>-1.0</td>\n",
       "      <td>...</td>\n",
       "      <td>-1.0</td>\n",
       "      <td>-1.0</td>\n",
       "      <td>-1.0</td>\n",
       "      <td>-1.0</td>\n",
       "      <td>-1.0</td>\n",
       "      <td>-1.0</td>\n",
       "      <td>-1.0</td>\n",
       "      <td>-1.0</td>\n",
       "      <td>-1.0</td>\n",
       "      <td>-1.0</td>\n",
       "    </tr>\n",
       "    <tr>\n",
       "      <th>75%</th>\n",
       "      <td>-1.0</td>\n",
       "      <td>-1.0</td>\n",
       "      <td>-1.0</td>\n",
       "      <td>-1.0</td>\n",
       "      <td>-1.0</td>\n",
       "      <td>-1.0</td>\n",
       "      <td>-1.0</td>\n",
       "      <td>-1.0</td>\n",
       "      <td>-1.0</td>\n",
       "      <td>-1.0</td>\n",
       "      <td>...</td>\n",
       "      <td>-1.0</td>\n",
       "      <td>-1.0</td>\n",
       "      <td>-1.0</td>\n",
       "      <td>-1.0</td>\n",
       "      <td>-1.0</td>\n",
       "      <td>-1.0</td>\n",
       "      <td>-1.0</td>\n",
       "      <td>-1.0</td>\n",
       "      <td>-1.0</td>\n",
       "      <td>-1.0</td>\n",
       "    </tr>\n",
       "    <tr>\n",
       "      <th>max</th>\n",
       "      <td>-1.0</td>\n",
       "      <td>-1.0</td>\n",
       "      <td>-1.0</td>\n",
       "      <td>-1.0</td>\n",
       "      <td>-1.0</td>\n",
       "      <td>-1.0</td>\n",
       "      <td>-1.0</td>\n",
       "      <td>-1.0</td>\n",
       "      <td>-1.0</td>\n",
       "      <td>-1.0</td>\n",
       "      <td>...</td>\n",
       "      <td>-1.0</td>\n",
       "      <td>-1.0</td>\n",
       "      <td>-1.0</td>\n",
       "      <td>-1.0</td>\n",
       "      <td>-1.0</td>\n",
       "      <td>-1.0</td>\n",
       "      <td>-1.0</td>\n",
       "      <td>-1.0</td>\n",
       "      <td>-1.0</td>\n",
       "      <td>-1.0</td>\n",
       "    </tr>\n",
       "  </tbody>\n",
       "</table>\n",
       "<p>8 rows × 1888 columns</p>\n",
       "</div>"
      ],
      "text/plain": [
       "         0       1       2       3       4       5       6       7       8     \\\n",
       "count  1888.0  1888.0  1888.0  1888.0  1888.0  1888.0  1888.0  1888.0  1888.0   \n",
       "mean     -1.0    -1.0    -1.0    -1.0    -1.0    -1.0    -1.0    -1.0    -1.0   \n",
       "std       0.0     0.0     0.0     0.0     0.0     0.0     0.0     0.0     0.0   \n",
       "min      -1.0    -1.0    -1.0    -1.0    -1.0    -1.0    -1.0    -1.0    -1.0   \n",
       "25%      -1.0    -1.0    -1.0    -1.0    -1.0    -1.0    -1.0    -1.0    -1.0   \n",
       "50%      -1.0    -1.0    -1.0    -1.0    -1.0    -1.0    -1.0    -1.0    -1.0   \n",
       "75%      -1.0    -1.0    -1.0    -1.0    -1.0    -1.0    -1.0    -1.0    -1.0   \n",
       "max      -1.0    -1.0    -1.0    -1.0    -1.0    -1.0    -1.0    -1.0    -1.0   \n",
       "\n",
       "         9     ...    1878    1879    1880    1881    1882    1883    1884  \\\n",
       "count  1888.0  ...  1888.0  1888.0  1888.0  1888.0  1888.0  1888.0  1888.0   \n",
       "mean     -1.0  ...    -1.0    -1.0    -1.0    -1.0    -1.0    -1.0    -1.0   \n",
       "std       0.0  ...     0.0     0.0     0.0     0.0     0.0     0.0     0.0   \n",
       "min      -1.0  ...    -1.0    -1.0    -1.0    -1.0    -1.0    -1.0    -1.0   \n",
       "25%      -1.0  ...    -1.0    -1.0    -1.0    -1.0    -1.0    -1.0    -1.0   \n",
       "50%      -1.0  ...    -1.0    -1.0    -1.0    -1.0    -1.0    -1.0    -1.0   \n",
       "75%      -1.0  ...    -1.0    -1.0    -1.0    -1.0    -1.0    -1.0    -1.0   \n",
       "max      -1.0  ...    -1.0    -1.0    -1.0    -1.0    -1.0    -1.0    -1.0   \n",
       "\n",
       "         1885    1886    1887  \n",
       "count  1888.0  1888.0  1888.0  \n",
       "mean     -1.0    -1.0    -1.0  \n",
       "std       0.0     0.0     0.0  \n",
       "min      -1.0    -1.0    -1.0  \n",
       "25%      -1.0    -1.0    -1.0  \n",
       "50%      -1.0    -1.0    -1.0  \n",
       "75%      -1.0    -1.0    -1.0  \n",
       "max      -1.0    -1.0    -1.0  \n",
       "\n",
       "[8 rows x 1888 columns]"
      ]
     },
     "execution_count": 13,
     "metadata": {},
     "output_type": "execute_result"
    }
   ],
   "source": [
    "#DF channel A\n",
    "df_A = pd.DataFrame(test_predict_reshaped[:,:,0]) \n",
    "df_A.describe()"
   ]
  },
  {
   "cell_type": "code",
   "execution_count": 14,
   "id": "9ce6532e",
   "metadata": {
    "scrolled": true
   },
   "outputs": [
    {
     "data": {
      "text/html": [
       "<div>\n",
       "<style scoped>\n",
       "    .dataframe tbody tr th:only-of-type {\n",
       "        vertical-align: middle;\n",
       "    }\n",
       "\n",
       "    .dataframe tbody tr th {\n",
       "        vertical-align: top;\n",
       "    }\n",
       "\n",
       "    .dataframe thead th {\n",
       "        text-align: right;\n",
       "    }\n",
       "</style>\n",
       "<table border=\"1\" class=\"dataframe\">\n",
       "  <thead>\n",
       "    <tr style=\"text-align: right;\">\n",
       "      <th></th>\n",
       "      <th>0</th>\n",
       "      <th>1</th>\n",
       "      <th>2</th>\n",
       "      <th>3</th>\n",
       "      <th>4</th>\n",
       "      <th>5</th>\n",
       "      <th>6</th>\n",
       "      <th>7</th>\n",
       "      <th>8</th>\n",
       "      <th>9</th>\n",
       "      <th>...</th>\n",
       "      <th>1878</th>\n",
       "      <th>1879</th>\n",
       "      <th>1880</th>\n",
       "      <th>1881</th>\n",
       "      <th>1882</th>\n",
       "      <th>1883</th>\n",
       "      <th>1884</th>\n",
       "      <th>1885</th>\n",
       "      <th>1886</th>\n",
       "      <th>1887</th>\n",
       "    </tr>\n",
       "  </thead>\n",
       "  <tbody>\n",
       "    <tr>\n",
       "      <th>count</th>\n",
       "      <td>1888.0</td>\n",
       "      <td>1888.0</td>\n",
       "      <td>1888.0</td>\n",
       "      <td>1888.0</td>\n",
       "      <td>1888.0</td>\n",
       "      <td>1888.0</td>\n",
       "      <td>1888.0</td>\n",
       "      <td>1888.0</td>\n",
       "      <td>1888.0</td>\n",
       "      <td>1888.0</td>\n",
       "      <td>...</td>\n",
       "      <td>1888.0</td>\n",
       "      <td>1888.0</td>\n",
       "      <td>1888.0</td>\n",
       "      <td>1888.0</td>\n",
       "      <td>1888.0</td>\n",
       "      <td>1888.0</td>\n",
       "      <td>1888.0</td>\n",
       "      <td>1888.0</td>\n",
       "      <td>1888.0</td>\n",
       "      <td>1888.0</td>\n",
       "    </tr>\n",
       "    <tr>\n",
       "      <th>mean</th>\n",
       "      <td>1.0</td>\n",
       "      <td>1.0</td>\n",
       "      <td>1.0</td>\n",
       "      <td>1.0</td>\n",
       "      <td>1.0</td>\n",
       "      <td>1.0</td>\n",
       "      <td>1.0</td>\n",
       "      <td>1.0</td>\n",
       "      <td>1.0</td>\n",
       "      <td>1.0</td>\n",
       "      <td>...</td>\n",
       "      <td>1.0</td>\n",
       "      <td>1.0</td>\n",
       "      <td>1.0</td>\n",
       "      <td>1.0</td>\n",
       "      <td>1.0</td>\n",
       "      <td>1.0</td>\n",
       "      <td>1.0</td>\n",
       "      <td>1.0</td>\n",
       "      <td>1.0</td>\n",
       "      <td>1.0</td>\n",
       "    </tr>\n",
       "    <tr>\n",
       "      <th>std</th>\n",
       "      <td>0.0</td>\n",
       "      <td>0.0</td>\n",
       "      <td>0.0</td>\n",
       "      <td>0.0</td>\n",
       "      <td>0.0</td>\n",
       "      <td>0.0</td>\n",
       "      <td>0.0</td>\n",
       "      <td>0.0</td>\n",
       "      <td>0.0</td>\n",
       "      <td>0.0</td>\n",
       "      <td>...</td>\n",
       "      <td>0.0</td>\n",
       "      <td>0.0</td>\n",
       "      <td>0.0</td>\n",
       "      <td>0.0</td>\n",
       "      <td>0.0</td>\n",
       "      <td>0.0</td>\n",
       "      <td>0.0</td>\n",
       "      <td>0.0</td>\n",
       "      <td>0.0</td>\n",
       "      <td>0.0</td>\n",
       "    </tr>\n",
       "    <tr>\n",
       "      <th>min</th>\n",
       "      <td>1.0</td>\n",
       "      <td>1.0</td>\n",
       "      <td>1.0</td>\n",
       "      <td>1.0</td>\n",
       "      <td>1.0</td>\n",
       "      <td>1.0</td>\n",
       "      <td>1.0</td>\n",
       "      <td>1.0</td>\n",
       "      <td>1.0</td>\n",
       "      <td>1.0</td>\n",
       "      <td>...</td>\n",
       "      <td>1.0</td>\n",
       "      <td>1.0</td>\n",
       "      <td>1.0</td>\n",
       "      <td>1.0</td>\n",
       "      <td>1.0</td>\n",
       "      <td>1.0</td>\n",
       "      <td>1.0</td>\n",
       "      <td>1.0</td>\n",
       "      <td>1.0</td>\n",
       "      <td>1.0</td>\n",
       "    </tr>\n",
       "    <tr>\n",
       "      <th>25%</th>\n",
       "      <td>1.0</td>\n",
       "      <td>1.0</td>\n",
       "      <td>1.0</td>\n",
       "      <td>1.0</td>\n",
       "      <td>1.0</td>\n",
       "      <td>1.0</td>\n",
       "      <td>1.0</td>\n",
       "      <td>1.0</td>\n",
       "      <td>1.0</td>\n",
       "      <td>1.0</td>\n",
       "      <td>...</td>\n",
       "      <td>1.0</td>\n",
       "      <td>1.0</td>\n",
       "      <td>1.0</td>\n",
       "      <td>1.0</td>\n",
       "      <td>1.0</td>\n",
       "      <td>1.0</td>\n",
       "      <td>1.0</td>\n",
       "      <td>1.0</td>\n",
       "      <td>1.0</td>\n",
       "      <td>1.0</td>\n",
       "    </tr>\n",
       "    <tr>\n",
       "      <th>50%</th>\n",
       "      <td>1.0</td>\n",
       "      <td>1.0</td>\n",
       "      <td>1.0</td>\n",
       "      <td>1.0</td>\n",
       "      <td>1.0</td>\n",
       "      <td>1.0</td>\n",
       "      <td>1.0</td>\n",
       "      <td>1.0</td>\n",
       "      <td>1.0</td>\n",
       "      <td>1.0</td>\n",
       "      <td>...</td>\n",
       "      <td>1.0</td>\n",
       "      <td>1.0</td>\n",
       "      <td>1.0</td>\n",
       "      <td>1.0</td>\n",
       "      <td>1.0</td>\n",
       "      <td>1.0</td>\n",
       "      <td>1.0</td>\n",
       "      <td>1.0</td>\n",
       "      <td>1.0</td>\n",
       "      <td>1.0</td>\n",
       "    </tr>\n",
       "    <tr>\n",
       "      <th>75%</th>\n",
       "      <td>1.0</td>\n",
       "      <td>1.0</td>\n",
       "      <td>1.0</td>\n",
       "      <td>1.0</td>\n",
       "      <td>1.0</td>\n",
       "      <td>1.0</td>\n",
       "      <td>1.0</td>\n",
       "      <td>1.0</td>\n",
       "      <td>1.0</td>\n",
       "      <td>1.0</td>\n",
       "      <td>...</td>\n",
       "      <td>1.0</td>\n",
       "      <td>1.0</td>\n",
       "      <td>1.0</td>\n",
       "      <td>1.0</td>\n",
       "      <td>1.0</td>\n",
       "      <td>1.0</td>\n",
       "      <td>1.0</td>\n",
       "      <td>1.0</td>\n",
       "      <td>1.0</td>\n",
       "      <td>1.0</td>\n",
       "    </tr>\n",
       "    <tr>\n",
       "      <th>max</th>\n",
       "      <td>1.0</td>\n",
       "      <td>1.0</td>\n",
       "      <td>1.0</td>\n",
       "      <td>1.0</td>\n",
       "      <td>1.0</td>\n",
       "      <td>1.0</td>\n",
       "      <td>1.0</td>\n",
       "      <td>1.0</td>\n",
       "      <td>1.0</td>\n",
       "      <td>1.0</td>\n",
       "      <td>...</td>\n",
       "      <td>1.0</td>\n",
       "      <td>1.0</td>\n",
       "      <td>1.0</td>\n",
       "      <td>1.0</td>\n",
       "      <td>1.0</td>\n",
       "      <td>1.0</td>\n",
       "      <td>1.0</td>\n",
       "      <td>1.0</td>\n",
       "      <td>1.0</td>\n",
       "      <td>1.0</td>\n",
       "    </tr>\n",
       "  </tbody>\n",
       "</table>\n",
       "<p>8 rows × 1888 columns</p>\n",
       "</div>"
      ],
      "text/plain": [
       "         0       1       2       3       4       5       6       7       8     \\\n",
       "count  1888.0  1888.0  1888.0  1888.0  1888.0  1888.0  1888.0  1888.0  1888.0   \n",
       "mean      1.0     1.0     1.0     1.0     1.0     1.0     1.0     1.0     1.0   \n",
       "std       0.0     0.0     0.0     0.0     0.0     0.0     0.0     0.0     0.0   \n",
       "min       1.0     1.0     1.0     1.0     1.0     1.0     1.0     1.0     1.0   \n",
       "25%       1.0     1.0     1.0     1.0     1.0     1.0     1.0     1.0     1.0   \n",
       "50%       1.0     1.0     1.0     1.0     1.0     1.0     1.0     1.0     1.0   \n",
       "75%       1.0     1.0     1.0     1.0     1.0     1.0     1.0     1.0     1.0   \n",
       "max       1.0     1.0     1.0     1.0     1.0     1.0     1.0     1.0     1.0   \n",
       "\n",
       "         9     ...    1878    1879    1880    1881    1882    1883    1884  \\\n",
       "count  1888.0  ...  1888.0  1888.0  1888.0  1888.0  1888.0  1888.0  1888.0   \n",
       "mean      1.0  ...     1.0     1.0     1.0     1.0     1.0     1.0     1.0   \n",
       "std       0.0  ...     0.0     0.0     0.0     0.0     0.0     0.0     0.0   \n",
       "min       1.0  ...     1.0     1.0     1.0     1.0     1.0     1.0     1.0   \n",
       "25%       1.0  ...     1.0     1.0     1.0     1.0     1.0     1.0     1.0   \n",
       "50%       1.0  ...     1.0     1.0     1.0     1.0     1.0     1.0     1.0   \n",
       "75%       1.0  ...     1.0     1.0     1.0     1.0     1.0     1.0     1.0   \n",
       "max       1.0  ...     1.0     1.0     1.0     1.0     1.0     1.0     1.0   \n",
       "\n",
       "         1885    1886    1887  \n",
       "count  1888.0  1888.0  1888.0  \n",
       "mean      1.0     1.0     1.0  \n",
       "std       0.0     0.0     0.0  \n",
       "min       1.0     1.0     1.0  \n",
       "25%       1.0     1.0     1.0  \n",
       "50%       1.0     1.0     1.0  \n",
       "75%       1.0     1.0     1.0  \n",
       "max       1.0     1.0     1.0  \n",
       "\n",
       "[8 rows x 1888 columns]"
      ]
     },
     "execution_count": 14,
     "metadata": {},
     "output_type": "execute_result"
    }
   ],
   "source": [
    "df_B = pd.DataFrame(test_predict_reshaped[:,:,1]) \n",
    "df_B.describe()"
   ]
  },
  {
   "cell_type": "code",
   "execution_count": 15,
   "id": "8775735f",
   "metadata": {},
   "outputs": [],
   "source": [
    "#test_predict_reshaped = test_predict_reshaped*128"
   ]
  },
  {
   "cell_type": "code",
   "execution_count": 16,
   "id": "3e66b748",
   "metadata": {},
   "outputs": [
    {
     "data": {
      "text/plain": [
       "<matplotlib.image.AxesImage at 0x27a80ea2550>"
      ]
     },
     "execution_count": 16,
     "metadata": {},
     "output_type": "execute_result"
    },
    {
     "data": {
      "image/png": "[encoded data removed]",
      "text/plain": [
       "<Figure size 432x288 with 1 Axes>"
      ]
     },
     "metadata": {
      "needs_background": "light"
     },
     "output_type": "display_data"
    }
   ],
   "source": [
    "plt.imshow(test_predict_reshaped[:,:,1])"
   ]
  },
  {
   "cell_type": "code",
   "execution_count": 17,
   "id": "6c3d8c5d",
   "metadata": {},
   "outputs": [],
   "source": [
    "BW_reshaped  = BW[0,:,:,:]"
   ]
  },
  {
   "cell_type": "code",
   "execution_count": 18,
   "id": "1bea59f2",
   "metadata": {
    "scrolled": true
   },
   "outputs": [
    {
     "data": {
      "text/plain": [
       "(1888, 1888, 1)"
      ]
     },
     "execution_count": 18,
     "metadata": {},
     "output_type": "execute_result"
    }
   ],
   "source": [
    "BW_reshaped.shape"
   ]
  },
  {
   "cell_type": "code",
   "execution_count": 19,
   "id": "c789659b",
   "metadata": {},
   "outputs": [
    {
     "name": "stdout",
     "output_type": "stream",
     "text": [
      "0.0018043518 100.0\n"
     ]
    }
   ],
   "source": [
    "print(np.min(BW_reshaped), np.max(BW_reshaped))"
   ]
  },
  {
   "cell_type": "code",
   "execution_count": 20,
   "id": "64097de1",
   "metadata": {},
   "outputs": [
    {
     "data": {
      "text/plain": [
       "<matplotlib.image.AxesImage at 0x27a8103b610>"
      ]
     },
     "execution_count": 20,
     "metadata": {},
     "output_type": "execute_result"
    },
    {
     "data": {
      "image/png": "[encoded data removed]",
      "text/plain": [
       "<Figure size 432x288 with 1 Axes>"
      ]
     },
     "metadata": {
      "needs_background": "light"
     },
     "output_type": "display_data"
    }
   ],
   "source": [
    "plt.imshow(BW_reshaped)"
   ]
  },
  {
   "cell_type": "code",
   "execution_count": 21,
   "id": "de92c6c0",
   "metadata": {},
   "outputs": [],
   "source": [
    "test_merged_LAB = np.dstack((BW_reshaped, test_predict_reshaped))"
   ]
  },
  {
   "cell_type": "code",
   "execution_count": 22,
   "id": "857eb5b7",
   "metadata": {},
   "outputs": [
    {
     "data": {
      "text/plain": [
       "(1888, 1888, 3)"
      ]
     },
     "execution_count": 22,
     "metadata": {},
     "output_type": "execute_result"
    }
   ],
   "source": [
    "test_merged_LAB.shape"
   ]
  },
  {
   "cell_type": "code",
   "execution_count": 23,
   "id": "8c1050ce",
   "metadata": {},
   "outputs": [
    {
     "name": "stdout",
     "output_type": "stream",
     "text": [
      "-1.0 100.0\n"
     ]
    }
   ],
   "source": [
    "print(np.min(test_merged_LAB), np.max(test_merged_LAB))"
   ]
  },
  {
   "cell_type": "code",
   "execution_count": 24,
   "id": "4d954595",
   "metadata": {
    "scrolled": true
   },
   "outputs": [
    {
     "name": "stderr",
     "output_type": "stream",
     "text": [
      "Clipping input data to the valid range for imshow with RGB data ([0..1] for floats or [0..255] for integers).\n"
     ]
    },
    {
     "data": {
      "text/plain": [
       "<matplotlib.image.AxesImage at 0x27a802ceaf0>"
      ]
     },
     "execution_count": 24,
     "metadata": {},
     "output_type": "execute_result"
    },
    {
     "data": {
      "image/png": "[encoded data removed]",
      "text/plain": [
       "<Figure size 432x288 with 1 Axes>"
      ]
     },
     "metadata": {
      "needs_background": "light"
     },
     "output_type": "display_data"
    }
   ],
   "source": [
    "plt.imshow(test_merged_LAB) # show before convert to RGB"
   ]
  },
  {
   "cell_type": "code",
   "execution_count": 25,
   "id": "df1c7d37",
   "metadata": {},
   "outputs": [],
   "source": [
    "#test_merged_LAB= test_merged_LAB*128 # do we need this?"
   ]
  },
  {
   "cell_type": "code",
   "execution_count": 26,
   "id": "0f531ff0",
   "metadata": {},
   "outputs": [],
   "source": [
    "#test_merged_rgb = cv2.cvtColor(test_merged, cv2.COLOR_RGB2Lab) #convert to RGB with cv2\n",
    "test_merged_rgb = color.lab2rgb(test_merged_LAB) # convert to RGB with skimage"
   ]
  },
  {
   "cell_type": "code",
   "execution_count": 27,
   "id": "74b9407c",
   "metadata": {},
   "outputs": [
    {
     "name": "stdout",
     "output_type": "stream",
     "text": [
      "0.0 1.0\n"
     ]
    }
   ],
   "source": [
    "print(np.min(test_merged_rgb), np.max(test_merged_rgb))"
   ]
  },
  {
   "cell_type": "code",
   "execution_count": 28,
   "id": "2876042e",
   "metadata": {
    "scrolled": true
   },
   "outputs": [
    {
     "name": "stderr",
     "output_type": "stream",
     "text": [
      "Clipping input data to the valid range for imshow with RGB data ([0..1] for floats or [0..255] for integers).\n"
     ]
    },
    {
     "data": {
      "text/plain": [
       "<matplotlib.image.AxesImage at 0x27a80467280>"
      ]
     },
     "execution_count": 28,
     "metadata": {},
     "output_type": "execute_result"
    },
    {
     "data": {
      "image/png": "[encoded data removed]",
      "text/plain": [
       "<Figure size 720x720 with 1 Axes>"
      ]
     },
     "metadata": {
      "needs_background": "light"
     },
     "output_type": "display_data"
    }
   ],
   "source": [
    "test_merged_rgb = test_merged_rgb*255\n",
    "plt.figure(figsize=(10, 10))\n",
    "plt.imshow(test_merged_rgb) #need to RGB need to be scaled before showing after converted from LAB"
   ]
  },
  {
   "cell_type": "code",
   "execution_count": 29,
   "id": "05b9d3be",
   "metadata": {},
   "outputs": [
    {
     "name": "stdout",
     "output_type": "stream",
     "text": [
      "0.0 255.0\n"
     ]
    }
   ],
   "source": [
    "print(np.min(test_merged_rgb), np.max(test_merged_rgb))"
   ]
  },
  {
   "cell_type": "code",
   "execution_count": 30,
   "id": "a3b7d230",
   "metadata": {
    "scrolled": true
   },
   "outputs": [
    {
     "name": "stderr",
     "output_type": "stream",
     "text": [
      "Clipping input data to the valid range for imshow with RGB data ([0..1] for floats or [0..255] for integers).\n"
     ]
    },
    {
     "data": {
      "text/plain": [
       "<matplotlib.image.AxesImage at 0x27a80f7ce50>"
      ]
     },
     "execution_count": 30,
     "metadata": {},
     "output_type": "execute_result"
    },
    {
     "data": {
      "image/png": "[encoded data removed]",
      "text/plain": [
       "<Figure size 720x720 with 1 Axes>"
      ]
     },
     "metadata": {
      "needs_background": "light"
     },
     "output_type": "display_data"
    }
   ],
   "source": [
    "plt.figure(figsize=(10, 10))\n",
    "plt.imshow(np.flip(test_merged_rgb, -1))"
   ]
  },
  {
   "cell_type": "code",
   "execution_count": 31,
   "id": "0ae69c56",
   "metadata": {},
   "outputs": [],
   "source": [
    "#for_save = np.float16(test_merged_rgb/255)\n",
    "for_save = np.uint8(test_merged_rgb)\n",
    "#print(np.min(for_save), np.max(for_save))\n",
    "io.imsave('result2_Test_model1.jpg', for_save) #"
   ]
  },
  {
   "cell_type": "code",
   "execution_count": null,
   "id": "b3fd11bf",
   "metadata": {},
   "outputs": [],
   "source": []
  }
 ],
 "metadata": {
  "kernelspec": {
   "display_name": "Python 3",
   "language": "python",
   "name": "python3"
  },
  "language_info": {
   "codemirror_mode": {
    "name": "ipython",
    "version": 3
   },
   "file_extension": ".py",
   "mimetype": "text/x-python",
   "name": "python",
   "nbconvert_exporter": "python",
   "pygments_lexer": "ipython3",
   "version": "3.8.8"
  }
 },
 "nbformat": 4,
 "nbformat_minor": 5
}
