{
 "cells": [
  {
   "cell_type": "markdown",
   "metadata": {},
   "source": [
    "## Variable Definifitions"
   ]
  },
  {
   "cell_type": "code",
   "execution_count": 183,
   "metadata": {},
   "outputs": [],
   "source": [
    "#def init():\n",
    "    #CHANGE THIS TO YOUR TRAIN FOLDER\n",
    "#image_folder = '/Users/yolanda/Desktop/Training_ML' \n",
    "#image_folder = 'C:/Users/danie/Desktop/Training_ML'\n",
    "image_folder = 'C:/Study/Semester2/Machine Learning/smaller2'\n",
    "\n",
    "TOO_SMALL = 200000\n",
    "SMALL = 500000\n",
    "MEDIUM = 1200000\n",
    "LARGE = 2100000\n",
    "    \n",
    "X_train = []\n",
    "Y_train = []\n",
    "counter = 1\n",
    "    \n",
    "img_height = 1888 #Usually 128. this might change depending on Annaya & Danielle's input \n",
    "img_width = 1888 #Usually 128. this might change depending on Annaya & Danielle's input \n",
    "epochs = 10 #Start with 1, and increase to 10, 100, 500, 1000 and 3000. 11 is the recommended number of runs through the training dataset. We will probably have to tune this. \n",
    "#total_training = total number of training data len()\n",
    "batch_size = 1 #test different ones from 1 to 2, 5, 10, etc\n",
    "total_images = 1"
   ]
  },
  {
   "cell_type": "code",
   "execution_count": 184,
   "metadata": {},
   "outputs": [],
   "source": [
    "#pip install opencv-python"
   ]
  },
  {
   "cell_type": "markdown",
   "metadata": {},
   "source": [
    "## Import Packages"
   ]
  },
  {
   "cell_type": "code",
   "execution_count": 185,
   "metadata": {},
   "outputs": [],
   "source": [
    "import tensorflow as tf"
   ]
  },
  {
   "cell_type": "code",
   "execution_count": 186,
   "metadata": {},
   "outputs": [],
   "source": [
    "import numpy as np\n",
    "import tensorflow as tf\n",
    "import matplotlib.pyplot as plt\n",
    "import skimage\n",
    "import cv2\n",
    "import glob\n",
    "import pandas as pd\n",
    "import joblib"
   ]
  },
  {
   "cell_type": "code",
   "execution_count": 187,
   "metadata": {},
   "outputs": [],
   "source": [
    "from tensorflow.keras import layers"
   ]
  },
  {
   "cell_type": "code",
   "execution_count": 188,
   "metadata": {},
   "outputs": [],
   "source": [
    "from tensorflow.keras.datasets import mnist\n",
    "from tensorflow.keras.models import Model\n",
    "from tensorflow.keras.models import Sequential\n",
    "from tensorflow.keras.layers import Dense, Conv2D, Flatten, Dropout, UpSampling2D"
   ]
  },
  {
   "cell_type": "code",
   "execution_count": 189,
   "metadata": {},
   "outputs": [],
   "source": [
    "#pip show tensorflow"
   ]
  },
  {
   "cell_type": "code",
   "execution_count": 190,
   "metadata": {
    "cell_id": "6ba26cc8e50f49b5b9b751f88421f6cc",
    "deepnote_cell_height": 459,
    "deepnote_cell_type": "code",
    "deepnote_to_be_reexecuted": false,
    "execution_millis": 10265,
    "execution_start": 1652547014086,
    "source_hash": "25a5d69b",
    "tags": []
   },
   "outputs": [],
   "source": [
    "from skimage import data, io,color\n",
    "from skimage.io import imread_collection #loads a collection of images\n",
    "from skimage.io import imread, imshow\n",
    "from pathlib import Path\n",
    "\n",
    "from sklearn.decomposition import PCA\n",
    "\n",
    "import matplotlib as mpl\n",
    "import matplotlib.pyplot as plt"
   ]
  },
  {
   "cell_type": "code",
   "execution_count": 191,
   "metadata": {},
   "outputs": [
    {
     "data": {
      "text/plain": [
       "<keras.preprocessing.image.ImageDataGenerator at 0x24402817e50>"
      ]
     },
     "execution_count": 191,
     "metadata": {},
     "output_type": "execute_result"
    }
   ],
   "source": [
    "tf.keras.preprocessing.image.ImageDataGenerator(featurewise_center=False,)"
   ]
  },
  {
   "cell_type": "code",
   "execution_count": 192,
   "metadata": {},
   "outputs": [],
   "source": [
    "#from keras.preprocessing.image import ImageDataGenerator, array_to_img, img_to_array, load_img"
   ]
  },
  {
   "cell_type": "markdown",
   "metadata": {},
   "source": [
    "# Preprocessing"
   ]
  },
  {
   "cell_type": "markdown",
   "metadata": {},
   "source": [
    "## Define Sizes of Images"
   ]
  },
  {
   "cell_type": "code",
   "execution_count": 193,
   "metadata": {
    "cell_id": "5647a315e91e408b8dcdd46d33814f9e",
    "deepnote_cell_height": 477,
    "deepnote_cell_type": "code",
    "deepnote_to_be_reexecuted": false,
    "execution_millis": 1,
    "execution_start": 1652547146694,
    "source_hash": "8fbce57",
    "tags": []
   },
   "outputs": [],
   "source": [
    "#Define sizes of images based on their resolution\n",
    "#Image shape and resolution\n",
    "\n",
    "#TODO make the IMG sizes make sense\n",
    "\n",
    "\n",
    "def shape(img):\n",
    "    size = 0\n",
    "    resolution = img.shape[0] * img.shape[1]\n",
    "    if resolution <= TOO_SMALL:\n",
    "        size = 0\n",
    "    elif resolution <= SMALL:\n",
    "        size = 1\n",
    "    elif resolution <= MEDIUM:\n",
    "        size = 2\n",
    "    elif resolution <= LARGE:\n",
    "        size = 3\n",
    "    else:\n",
    "        size = 6\n",
    "    return size"
   ]
  },
  {
   "cell_type": "markdown",
   "metadata": {},
   "source": [
    "## Create Dataframe of Images"
   ]
  },
  {
   "cell_type": "code",
   "execution_count": 194,
   "metadata": {},
   "outputs": [],
   "source": [
    "def create_dataframe(image_folder):\n",
    "    images = Path(image_folder).glob('*.jpg')\n",
    "\n",
    "    list_of_files = []\n",
    "    for image in images:\n",
    "        list_of_files.append(str(image))\n",
    "\n",
    "    df = pd. DataFrame(list_of_files, columns = [\"image_path\"])\n",
    "    df_length = len(df.index)\n",
    "    print(\"processing\", df_length, \"photos for training\")\n",
    "    \n",
    "    height= []\n",
    "    width = []\n",
    "    resolution = []\n",
    "    \n",
    "    for image_path in df['image_path']:\n",
    "        img = cv2.imread(str(image_path))\n",
    "        height.append(img.shape[0])\n",
    "        width.append(img.shape[1])\n",
    "        \n",
    "    df[\"height\"] = height\n",
    "    df[\"width\"] = width\n",
    "    df[\"resolution\"] = df[\"height\"] * df[\"width\"]\n",
    "    \n",
    "    df = df[df.resolution < LARGE]\n",
    "    \n",
    "    ll = df_length - len(df.index)\n",
    "    print(\"dropped \", ll, \"photos because they were too large to process\")\n",
    "    \n",
    "    df = df[df.resolution > TOO_SMALL]\n",
    "    \n",
    "    ss = df_length - len(df.index) - ll\n",
    "    print(\"dropped \", ss, \"photos because they were too small to process\")\n",
    "    \n",
    "    return df"
   ]
  },
  {
   "cell_type": "markdown",
   "metadata": {},
   "source": [
    "## Principal Component Analysis of Image"
   ]
  },
  {
   "cell_type": "code",
   "execution_count": 195,
   "metadata": {
    "cell_id": "284e594fca804177bb7508f8e816bfa2",
    "deepnote_cell_height": 387,
    "deepnote_cell_type": "code",
    "deepnote_to_be_reexecuted": false,
    "execution_millis": 0,
    "execution_start": 1652547146695,
    "source_hash": "4c92008b",
    "tags": []
   },
   "outputs": [],
   "source": [
    "#PCA rgb then pass to prep_img as an rgb image\n",
    "\n",
    "def pca_rgb(imgBGR, size): #imgRGB, size\n",
    "    b,g,r = cv2.split(imgBGR)\n",
    "    list_channels = [b,g,r]\n",
    "    \n",
    "    #check size first\n",
    "    if size ==1:\n",
    "        inverted_img = []\n",
    "        for c in list_channels:            \n",
    "            pca = PCA(n_components = 100)\n",
    "            transformed = pca.fit_transform(c/255) #r_scaled\n",
    "            inverted = pca.inverse_transform(transformed)\n",
    "            inverted_img.append(inverted)\n",
    "        \n",
    "        tuple(inverted_img)\n",
    "        RGB_compressed = cv2.merge(inverted_img)    \n",
    "\n",
    "    elif size == 2:\n",
    "        inverted_img = []\n",
    "        for c in list_channels:            \n",
    "            pca = PCA(n_components = 300)\n",
    "            transformed = pca.fit_transform(c/255) #r_scaled\n",
    "            inverted = pca.inverse_transform(transformed)\n",
    "            inverted_img.append(inverted)\n",
    "        \n",
    "        tuple(inverted_img)\n",
    "        RGB_compressed = cv2.merge(inverted_img)\n",
    "    else:\n",
    "        inverted_img = []\n",
    "        for c in list_channels:            \n",
    "            pca = PCA(n_components = 500)\n",
    "            transformed = pca.fit_transform(c/255) #r_scaled\n",
    "            inverted = pca.inverse_transform(transformed)\n",
    "            inverted_img.append(inverted)\n",
    "        \n",
    "        tuple(inverted_img)\n",
    "        RGB_compressed = cv2.merge(inverted_img)\n",
    "        \n",
    "    RGB_compressed = np.float32(RGB_compressed)\n",
    "        \n",
    "    return RGB_compressed"
   ]
  },
  {
   "cell_type": "markdown",
   "metadata": {},
   "source": [
    "## Image Padding"
   ]
  },
  {
   "cell_type": "code",
   "execution_count": 196,
   "metadata": {},
   "outputs": [],
   "source": [
    "# image padding\n",
    "\n",
    "def pad(image):\n",
    "    \n",
    "    height = image.shape[0]\n",
    "    width = image.shape[1]\n",
    "\n",
    "    WHITE = [255,255,255]\n",
    "    MAX = 1888\n",
    "    \n",
    "    if height % 2 == 0:\n",
    "        top = int((MAX - height)/ 2)\n",
    "        bottom = int((MAX - height)/ 2)\n",
    "    else: \n",
    "        top = int((MAX - (height-1))/ 2)\n",
    "        bottom = int(((MAX - (height-1))/ 2)-1)\n",
    "\n",
    "    if width % 2 == 0:\n",
    "        left = int((MAX - width)/ 2)\n",
    "        right = int((MAX - width)/ 2)\n",
    "    else: \n",
    "        left = int((MAX - (width-1))/ 2)\n",
    "        right = int(((MAX - (width-1))/2)-1)\n",
    "    \n",
    "    image = cv2.copyMakeBorder(image, top, bottom, left, right,\n",
    "    cv2.BORDER_CONSTANT,value=WHITE)\n",
    "\n",
    "    return image"
   ]
  },
  {
   "cell_type": "markdown",
   "metadata": {},
   "source": [
    "## Image Preprocessing "
   ]
  },
  {
   "cell_type": "code",
   "execution_count": 197,
   "metadata": {
    "cell_id": "6be9a9aec0ee44dab9bb55d664de627f",
    "deepnote_cell_height": 693,
    "deepnote_cell_type": "code",
    "deepnote_to_be_reexecuted": false,
    "execution_millis": 0,
    "execution_start": 1652547146783,
    "source_hash": "c4f5421",
    "tags": []
   },
   "outputs": [],
   "source": [
    "# The function to preprocess image: by check image category, compress, separate color channels, and pad\n",
    "# gives out padded images in 2 groups,which are padded Lambda channel (Black&white) and AB channel(colors)\n",
    "\n",
    "#We can decide to take file path or im collection  or list\n",
    "#note: we are most familiar with controlling list\n",
    "n = 1\n",
    "\n",
    "def prep_img(img_path):\n",
    "    imgRGB = cv2.imread(img_path)\n",
    "    imgBGR = np.flip(imgRGB, -1)\n",
    "    \n",
    "    #check the image category by 'shape' function\n",
    "    image_size_category = shape(imgBGR) #imgRGB\n",
    "    #print(\"image size determined!\")\n",
    "\n",
    "    if image_size_category <1:\n",
    "        raise Exception(\"Your image is too small to be used\")\n",
    "    elif image_size_category >4:\n",
    "        raise Exception(\"Your image is too big to be used\")\n",
    "\n",
    "    #print(\"image PCA started!\")\n",
    "    #image_pca = pca_rgb(imgRGB, image_size_category) \n",
    "    RGB_compressed = pca_rgb(imgBGR, image_size_category) #imgRGB, image_size_category\n",
    "\n",
    "    #image_pca = np.float32((1.0/255)*image_pca) # #The rgb_compressed come out in RGB scaled data already\n",
    "    imgLAB = cv2.cvtColor(RGB_compressed, cv2.COLOR_RGB2Lab) \n",
    "    imgLAB = imgLAB/np.amax(imgLAB) #scaled \n",
    "    imgLAB = np.clip(imgLAB, 0, 1)\n",
    "    \n",
    "    print(\"image converted to LAB\")\n",
    "    padded_image = pad(imgLAB)\n",
    "    \n",
    "    #separate L and AB color channels\n",
    "    Y = padded_image[:, :,1:]\n",
    "    #Y = Y / 128 #comment out when show predicted\n",
    "    #Y = Y.tolist()\n",
    "    X = padded_image[:, :, 0] #.tolist()\n",
    "    \n",
    "    \n",
    "    #this is in sample code and idk why\n",
    "    \n",
    "    X = X.reshape(1, 1888, 1888, 1) #comment out when show predicted\n",
    "    Y = Y.reshape(1, 1888, 1888, 2) #comment out when show predicted\n",
    "    \n",
    "    print(\"image processed\")\n",
    "\n",
    "    return Y, X "
   ]
  },
  {
   "cell_type": "code",
   "execution_count": 198,
   "metadata": {},
   "outputs": [],
   "source": [
    "def prep_dataframe(df):\n",
    "    for index, row in df.iterrows():\n",
    "        Y, X = prep_img(row[\"image_path\"])\n",
    "        Y_train.append(Y)\n",
    "        X_train.append(X)"
   ]
  },
  {
   "cell_type": "markdown",
   "metadata": {},
   "source": [
    "## Exploratory Data Analysis -  Training Images"
   ]
  },
  {
   "cell_type": "code",
   "execution_count": 199,
   "metadata": {},
   "outputs": [
    {
     "ename": "IndexError",
     "evalue": "list index out of range",
     "output_type": "error",
     "traceback": [
      "\u001b[1;31m---------------------------------------------------------------------------\u001b[0m",
      "\u001b[1;31mIndexError\u001b[0m                                Traceback (most recent call last)",
      "\u001b[1;32m<ipython-input-199-3963c2e2eb2a>\u001b[0m in \u001b[0;36m<module>\u001b[1;34m\u001b[0m\n\u001b[1;32m----> 1\u001b[1;33m \u001b[0mX_train\u001b[0m\u001b[1;33m[\u001b[0m\u001b[1;36m0\u001b[0m\u001b[1;33m]\u001b[0m\u001b[1;33m.\u001b[0m\u001b[0mshape\u001b[0m\u001b[1;33m\u001b[0m\u001b[1;33m\u001b[0m\u001b[0m\n\u001b[0m",
      "\u001b[1;31mIndexError\u001b[0m: list index out of range"
     ]
    }
   ],
   "source": [
    "X_train[0].shape"
   ]
  },
  {
   "cell_type": "code",
   "execution_count": 200,
   "metadata": {
    "scrolled": true
   },
   "outputs": [
    {
     "ename": "IndexError",
     "evalue": "list index out of range",
     "output_type": "error",
     "traceback": [
      "\u001b[1;31m---------------------------------------------------------------------------\u001b[0m",
      "\u001b[1;31mIndexError\u001b[0m                                Traceback (most recent call last)",
      "\u001b[1;32m<ipython-input-200-f8c36b9c2ca7>\u001b[0m in \u001b[0;36m<module>\u001b[1;34m\u001b[0m\n\u001b[1;32m----> 1\u001b[1;33m \u001b[0mX_train\u001b[0m\u001b[1;33m[\u001b[0m\u001b[1;36m0\u001b[0m\u001b[1;33m]\u001b[0m\u001b[1;33m.\u001b[0m\u001b[0mndim\u001b[0m\u001b[1;33m\u001b[0m\u001b[1;33m\u001b[0m\u001b[0m\n\u001b[0m",
      "\u001b[1;31mIndexError\u001b[0m: list index out of range"
     ]
    }
   ],
   "source": [
    "X_train[0].ndim"
   ]
  },
  {
   "cell_type": "markdown",
   "metadata": {},
   "source": [
    "Every single observation (i.e. image) in the training dataset is a 4-dimension numpy array with 1888 rows and 1888 columns. In total, our training dataset has 205792 rows and 205792 columns."
   ]
  },
  {
   "cell_type": "code",
   "execution_count": 201,
   "metadata": {},
   "outputs": [
    {
     "data": {
      "text/html": [
       "<div>\n",
       "<style scoped>\n",
       "    .dataframe tbody tr th:only-of-type {\n",
       "        vertical-align: middle;\n",
       "    }\n",
       "\n",
       "    .dataframe tbody tr th {\n",
       "        vertical-align: top;\n",
       "    }\n",
       "\n",
       "    .dataframe thead th {\n",
       "        text-align: right;\n",
       "    }\n",
       "</style>\n",
       "<table border=\"1\" class=\"dataframe\">\n",
       "  <thead>\n",
       "    <tr style=\"text-align: right;\">\n",
       "      <th></th>\n",
       "      <th>image_path</th>\n",
       "      <th>height</th>\n",
       "      <th>width</th>\n",
       "      <th>resolution</th>\n",
       "    </tr>\n",
       "  </thead>\n",
       "  <tbody>\n",
       "  </tbody>\n",
       "</table>\n",
       "</div>"
      ],
      "text/plain": [
       "Empty DataFrame\n",
       "Columns: [image_path, height, width, resolution]\n",
       "Index: []"
      ]
     },
     "execution_count": 201,
     "metadata": {},
     "output_type": "execute_result"
    }
   ],
   "source": [
    "df.head(-10)"
   ]
  },
  {
   "cell_type": "code",
   "execution_count": 202,
   "metadata": {
    "scrolled": true
   },
   "outputs": [
    {
     "name": "stdout",
     "output_type": "stream",
     "text": [
      "<class 'pandas.core.frame.DataFrame'>\n",
      "Int64Index: 2 entries, 0 to 1\n",
      "Data columns (total 4 columns):\n",
      " #   Column      Non-Null Count  Dtype \n",
      "---  ------      --------------  ----- \n",
      " 0   image_path  2 non-null      object\n",
      " 1   height      2 non-null      int64 \n",
      " 2   width       2 non-null      int64 \n",
      " 3   resolution  2 non-null      int64 \n",
      "dtypes: int64(3), object(1)\n",
      "memory usage: 80.0+ bytes\n"
     ]
    }
   ],
   "source": [
    "df.info()"
   ]
  },
  {
   "cell_type": "markdown",
   "metadata": {},
   "source": [
    "We have 109 training images which are non-fabricated and unlabelled.\n",
    "\n",
    "The image path is described as a text variable which makes sense and all other observations in the other features - height, width, and resolution - are integers. Memory usage is 4.3+ KB, which means that we could reduce integer type from int64 to a lower integer type in order to use up less memory. This is important because reducing memory usage may have the positive effect of speeding up the runtime. "
   ]
  },
  {
   "cell_type": "code",
   "execution_count": 60,
   "metadata": {
    "scrolled": false
   },
   "outputs": [],
   "source": [
    "#decrease dtype so that we take up less memory \n",
    "df[\"resolution\"] = df[\"resolution\"].astype(np.int32)\n",
    "df[\"height\"] = df[\"height\"].astype(np.int32)\n",
    "df[\"width\"] = df[\"width\"].astype(np.int32)"
   ]
  },
  {
   "cell_type": "code",
   "execution_count": 61,
   "metadata": {
    "scrolled": false
   },
   "outputs": [
    {
     "name": "stdout",
     "output_type": "stream",
     "text": [
      "<class 'pandas.core.frame.DataFrame'>\n",
      "Int64Index: 2 entries, 0 to 1\n",
      "Data columns (total 4 columns):\n",
      " #   Column      Non-Null Count  Dtype \n",
      "---  ------      --------------  ----- \n",
      " 0   image_path  2 non-null      object\n",
      " 1   height      2 non-null      int32 \n",
      " 2   width       2 non-null      int32 \n",
      " 3   resolution  2 non-null      int32 \n",
      "dtypes: int32(3), object(1)\n",
      "memory usage: 56.0+ bytes\n"
     ]
    }
   ],
   "source": [
    "df.info()"
   ]
  },
  {
   "cell_type": "markdown",
   "metadata": {},
   "source": [
    "Integer type has been reduced from int64 to int32. This was the lowest we could go since int16 altered some of the observations in the resolution column. This simple change uses around 30% less memory than before. \n",
    "\n",
    "The shape of our dataframe remains the same: 109 rows and 4 columns. "
   ]
  },
  {
   "cell_type": "markdown",
   "metadata": {},
   "source": [
    "### Simple Stats "
   ]
  },
  {
   "cell_type": "code",
   "execution_count": 62,
   "metadata": {
    "scrolled": false
   },
   "outputs": [
    {
     "data": {
      "text/html": [
       "<div>\n",
       "<style scoped>\n",
       "    .dataframe tbody tr th:only-of-type {\n",
       "        vertical-align: middle;\n",
       "    }\n",
       "\n",
       "    .dataframe tbody tr th {\n",
       "        vertical-align: top;\n",
       "    }\n",
       "\n",
       "    .dataframe thead th {\n",
       "        text-align: right;\n",
       "    }\n",
       "</style>\n",
       "<table border=\"1\" class=\"dataframe\">\n",
       "  <thead>\n",
       "    <tr style=\"text-align: right;\">\n",
       "      <th></th>\n",
       "      <th>height</th>\n",
       "      <th>width</th>\n",
       "      <th>resolution</th>\n",
       "    </tr>\n",
       "  </thead>\n",
       "  <tbody>\n",
       "    <tr>\n",
       "      <th>count</th>\n",
       "      <td>2.0</td>\n",
       "      <td>2.0</td>\n",
       "      <td>2.0</td>\n",
       "    </tr>\n",
       "    <tr>\n",
       "      <th>mean</th>\n",
       "      <td>750.0</td>\n",
       "      <td>600.0</td>\n",
       "      <td>450000.0</td>\n",
       "    </tr>\n",
       "    <tr>\n",
       "      <th>std</th>\n",
       "      <td>0.0</td>\n",
       "      <td>0.0</td>\n",
       "      <td>0.0</td>\n",
       "    </tr>\n",
       "    <tr>\n",
       "      <th>min</th>\n",
       "      <td>750.0</td>\n",
       "      <td>600.0</td>\n",
       "      <td>450000.0</td>\n",
       "    </tr>\n",
       "    <tr>\n",
       "      <th>25%</th>\n",
       "      <td>750.0</td>\n",
       "      <td>600.0</td>\n",
       "      <td>450000.0</td>\n",
       "    </tr>\n",
       "    <tr>\n",
       "      <th>50%</th>\n",
       "      <td>750.0</td>\n",
       "      <td>600.0</td>\n",
       "      <td>450000.0</td>\n",
       "    </tr>\n",
       "    <tr>\n",
       "      <th>75%</th>\n",
       "      <td>750.0</td>\n",
       "      <td>600.0</td>\n",
       "      <td>450000.0</td>\n",
       "    </tr>\n",
       "    <tr>\n",
       "      <th>max</th>\n",
       "      <td>750.0</td>\n",
       "      <td>600.0</td>\n",
       "      <td>450000.0</td>\n",
       "    </tr>\n",
       "  </tbody>\n",
       "</table>\n",
       "</div>"
      ],
      "text/plain": [
       "       height  width  resolution\n",
       "count     2.0    2.0         2.0\n",
       "mean    750.0  600.0    450000.0\n",
       "std       0.0    0.0         0.0\n",
       "min     750.0  600.0    450000.0\n",
       "25%     750.0  600.0    450000.0\n",
       "50%     750.0  600.0    450000.0\n",
       "75%     750.0  600.0    450000.0\n",
       "max     750.0  600.0    450000.0"
      ]
     },
     "execution_count": 62,
     "metadata": {},
     "output_type": "execute_result"
    }
   ],
   "source": [
    "df[[\"height\", \"width\", \"resolution\"]].describe()"
   ]
  },
  {
   "cell_type": "code",
   "execution_count": 63,
   "metadata": {
    "scrolled": true
   },
   "outputs": [
    {
     "data": {
      "text/plain": [
       "<seaborn.axisgrid.PairGrid at 0x24401079850>"
      ]
     },
     "execution_count": 63,
     "metadata": {},
     "output_type": "execute_result"
    },
    {
     "data": {
      "image/png": "[encoded data removed]",
      "text/plain": [
       "<Figure size 540x540 with 12 Axes>"
      ]
     },
     "metadata": {
      "needs_background": "light"
     },
     "output_type": "display_data"
    }
   ],
   "source": [
    "import seaborn as sns\n",
    "sns.pairplot(df)"
   ]
  },
  {
   "cell_type": "markdown",
   "metadata": {},
   "source": [
    "***Description of images:***\n",
    "\n",
    "**Portrait photographs**: \n",
    "- 120 feature humans\n",
    "- 5 feature animals\n",
    "- 34 are professional portraits \n",
    "- 6 feature vehicles (cars, bikes, military) \n",
    "- 12 pictures from war time \n",
    "- 4 feature JFK \n",
    "\n",
    "**Still life photography**: \n",
    "- 9 have nature backgrounds \n",
    "\n",
    "\n",
    "* Vertical: 65 \n",
    "* Square: 15 \n",
    "* Landscape: 44 "
   ]
  },
  {
   "cell_type": "markdown",
   "metadata": {},
   "source": [
    "# Use the code below to process ALL photos and feed them to the model!!!"
   ]
  },
  {
   "cell_type": "code",
   "execution_count": 64,
   "metadata": {
    "scrolled": true
   },
   "outputs": [
    {
     "name": "stdout",
     "output_type": "stream",
     "text": [
      "processing 2 photos for training\n",
      "dropped  0 photos because they were too large to process\n",
      "dropped  0 photos because they were too small to process\n",
      "image converted to LAB\n",
      "image processed\n",
      "image converted to LAB\n",
      "image processed\n"
     ]
    }
   ],
   "source": [
    "df = create_dataframe(image_folder)\n",
    "prep_dataframe(df)\n",
    "\n",
    "#add padd(image).tolist()\n",
    "#caused TypeError: unsupported operand type(s) for /: 'list' and 'int'\n"
   ]
  },
  {
   "cell_type": "code",
   "execution_count": 65,
   "metadata": {},
   "outputs": [],
   "source": [
    "def mode(): \n",
    "    model1 = Sequential([\n",
    "        #encoder\n",
    "        Conv2D(128, 2, strides = 2, padding = \"same\", activation = \"relu\", input_shape= (img_height, img_width, 1)), #testing shape changes\n",
    "        Conv2D(256, 2, strides = 2, padding = \"same\", activation = \"relu\"), \n",
    "        Conv2D(512, 2, strides = 2, padding = \"same\", activation = \"relu\"), \n",
    "\n",
    "        #decoder\n",
    "        Conv2D(256, 2, padding = \"same\", activation = \"relu\"), \n",
    "        UpSampling2D(2),\n",
    "        Conv2D(128, 2, padding = \"same\", activation = \"relu\"), \n",
    "        UpSampling2D(2), \n",
    "        Conv2D(2, 2, padding = \"same\", activation = \"tanh\"), \n",
    "        UpSampling2D(2),\n",
    "    ]) #softmax\n",
    "    model1.compile(optimizer =\"adam\", loss = \"mse\", metrics = [\"accuracy\"])\n",
    "    return model1"
   ]
  },
  {
   "cell_type": "code",
   "execution_count": 66,
   "metadata": {},
   "outputs": [
    {
     "name": "stdout",
     "output_type": "stream",
     "text": [
      "Model: \"sequential\"\n",
      "_________________________________________________________________\n",
      " Layer (type)                Output Shape              Param #   \n",
      "=================================================================\n",
      " conv2d (Conv2D)             (None, 944, 944, 128)     640       \n",
      "                                                                 \n",
      " conv2d_1 (Conv2D)           (None, 472, 472, 256)     131328    \n",
      "                                                                 \n",
      " conv2d_2 (Conv2D)           (None, 236, 236, 512)     524800    \n",
      "                                                                 \n",
      " conv2d_3 (Conv2D)           (None, 236, 236, 256)     524544    \n",
      "                                                                 \n",
      " up_sampling2d (UpSampling2D  (None, 472, 472, 256)    0         \n",
      " )                                                               \n",
      "                                                                 \n",
      " conv2d_4 (Conv2D)           (None, 472, 472, 128)     131200    \n",
      "                                                                 \n",
      " up_sampling2d_1 (UpSampling  (None, 944, 944, 128)    0         \n",
      " 2D)                                                             \n",
      "                                                                 \n",
      " conv2d_5 (Conv2D)           (None, 944, 944, 2)       1026      \n",
      "                                                                 \n",
      " up_sampling2d_2 (UpSampling  (None, 1888, 1888, 2)    0         \n",
      " 2D)                                                             \n",
      "                                                                 \n",
      "=================================================================\n",
      "Total params: 1,313,538\n",
      "Trainable params: 1,313,538\n",
      "Non-trainable params: 0\n",
      "_________________________________________________________________\n"
     ]
    }
   ],
   "source": [
    "model1 = mode()\n",
    "model1.summary()"
   ]
  },
  {
   "cell_type": "code",
   "execution_count": 67,
   "metadata": {},
   "outputs": [],
   "source": [
    "#train_data = tf.data.Dataset.from_tensor_slices((X_train, Y_train))"
   ]
  },
  {
   "cell_type": "code",
   "execution_count": 68,
   "metadata": {},
   "outputs": [
    {
     "data": {
      "text/plain": [
       "2"
      ]
     },
     "execution_count": 68,
     "metadata": {},
     "output_type": "execute_result"
    }
   ],
   "source": [
    "len(X_train)"
   ]
  },
  {
   "cell_type": "code",
   "execution_count": 69,
   "metadata": {},
   "outputs": [
    {
     "data": {
      "text/plain": [
       "list"
      ]
     },
     "execution_count": 69,
     "metadata": {},
     "output_type": "execute_result"
    }
   ],
   "source": [
    "type(X_train)"
   ]
  },
  {
   "cell_type": "code",
   "execution_count": 70,
   "metadata": {
    "scrolled": true
   },
   "outputs": [
    {
     "data": {
      "text/plain": [
       "numpy.ndarray"
      ]
     },
     "execution_count": 70,
     "metadata": {},
     "output_type": "execute_result"
    }
   ],
   "source": [
    "type(X_train[0])"
   ]
  },
  {
   "cell_type": "code",
   "execution_count": 71,
   "metadata": {},
   "outputs": [
    {
     "name": "stderr",
     "output_type": "stream",
     "text": [
      "C:\\Users\\midyr\\anaconda3\\lib\\site-packages\\skimage\\color\\colorconv.py:1109: UserWarning: Color data out of range: Z < 0 in 3116856 pixels\n",
      "  return xyz2rgb(lab2xyz(lab, illuminant, observer))\n"
     ]
    }
   ],
   "source": [
    "X_train_debug = X_train[0][0,:,:,:]\n",
    "Y_train_debug = Y_train[0]*128\n",
    "Y_train_debug = Y_train_debug[0,:,:,:]\n",
    "debug_merged = np.dstack((X_train_debug, Y_train_debug))\n",
    "debug_converted = color.lab2rgb(debug_merged)"
   ]
  },
  {
   "cell_type": "code",
   "execution_count": 72,
   "metadata": {},
   "outputs": [
    {
     "data": {
      "text/plain": [
       "(1888, 1888, 1)"
      ]
     },
     "execution_count": 72,
     "metadata": {},
     "output_type": "execute_result"
    }
   ],
   "source": [
    "X_train_debug.shape"
   ]
  },
  {
   "cell_type": "code",
   "execution_count": 75,
   "metadata": {},
   "outputs": [
    {
     "data": {
      "text/plain": [
       "(1, 1888, 1888, 1)"
      ]
     },
     "execution_count": 75,
     "metadata": {},
     "output_type": "execute_result"
    }
   ],
   "source": [
    "X_train_re = X_train_debug.reshape(1, img_height, img_width, 1)\n",
    "X_train_re.shape"
   ]
  },
  {
   "cell_type": "code",
   "execution_count": 76,
   "metadata": {},
   "outputs": [
    {
     "data": {
      "text/plain": [
       "(1, 1888, 1888, 2)"
      ]
     },
     "execution_count": 76,
     "metadata": {},
     "output_type": "execute_result"
    }
   ],
   "source": [
    "Y_train_re = Y_train_debug.reshape(1, img_height, img_width, 2)\n",
    "Y_train_re.shape"
   ]
  },
  {
   "cell_type": "code",
   "execution_count": 126,
   "metadata": {},
   "outputs": [],
   "source": [
    "Y_train_re = Y_train_re/128"
   ]
  },
  {
   "cell_type": "code",
   "execution_count": 127,
   "metadata": {},
   "outputs": [
    {
     "name": "stdout",
     "output_type": "stream",
     "text": [
      "0.0 255.0\n"
     ]
    }
   ],
   "source": [
    "print(np.min(Y_train_re[0]), np.max(Y_train_re[0]))"
   ]
  },
  {
   "cell_type": "code",
   "execution_count": 128,
   "metadata": {},
   "outputs": [
    {
     "data": {
      "text/plain": [
       "<matplotlib.image.AxesImage at 0x24402848d90>"
      ]
     },
     "execution_count": 128,
     "metadata": {},
     "output_type": "execute_result"
    },
    {
     "data": {
      "image/png": "[encoded data removed]",
      "text/plain": [
       "<Figure size 432x288 with 1 Axes>"
      ]
     },
     "metadata": {
      "needs_background": "light"
     },
     "output_type": "display_data"
    }
   ],
   "source": [
    "plt.imshow(Y_train_debug[:,:,0])"
   ]
  },
  {
   "cell_type": "code",
   "execution_count": 130,
   "metadata": {},
   "outputs": [
    {
     "data": {
      "text/plain": [
       "<matplotlib.image.AxesImage at 0x244064bea00>"
      ]
     },
     "execution_count": 130,
     "metadata": {},
     "output_type": "execute_result"
    },
    {
     "data": {
      "image/png": "[encoded data removed]",
      "text/plain": [
       "<Figure size 432x288 with 1 Axes>"
      ]
     },
     "metadata": {
      "needs_background": "light"
     },
     "output_type": "display_data"
    }
   ],
   "source": [
    "plt.imshow(debug_converted)"
   ]
  },
  {
   "cell_type": "code",
   "execution_count": 144,
   "metadata": {
    "scrolled": true
   },
   "outputs": [
    {
     "name": "stdout",
     "output_type": "stream",
     "text": [
      "Epoch 1/100\n",
      "1/1 - 4s - loss: 56371.3516 - accuracy: 0.9537 - 4s/epoch - 4s/step\n",
      "Epoch 2/100\n",
      "1/1 - 4s - loss: 56371.3711 - accuracy: 0.9537 - 4s/epoch - 4s/step\n",
      "Epoch 3/100\n",
      "1/1 - 4s - loss: 56371.3867 - accuracy: 0.9537 - 4s/epoch - 4s/step\n",
      "Epoch 4/100\n",
      "1/1 - 4s - loss: 56371.3906 - accuracy: 0.9537 - 4s/epoch - 4s/step\n",
      "Epoch 5/100\n",
      "1/1 - 4s - loss: 56371.3906 - accuracy: 0.9537 - 4s/epoch - 4s/step\n",
      "Epoch 6/100\n",
      "1/1 - 4s - loss: 56371.3906 - accuracy: 0.9537 - 4s/epoch - 4s/step\n",
      "Epoch 7/100\n",
      "1/1 - 4s - loss: 56371.3906 - accuracy: 0.9537 - 4s/epoch - 4s/step\n",
      "Epoch 8/100\n",
      "1/1 - 4s - loss: 56371.3906 - accuracy: 0.9537 - 4s/epoch - 4s/step\n",
      "Epoch 9/100\n",
      "1/1 - 4s - loss: 56371.3906 - accuracy: 0.9537 - 4s/epoch - 4s/step\n",
      "Epoch 10/100\n",
      "1/1 - 4s - loss: 56371.3906 - accuracy: 0.9537 - 4s/epoch - 4s/step\n",
      "Epoch 11/100\n",
      "1/1 - 4s - loss: 56371.3906 - accuracy: 0.9537 - 4s/epoch - 4s/step\n",
      "Epoch 12/100\n",
      "1/1 - 4s - loss: 56371.3906 - accuracy: 0.9537 - 4s/epoch - 4s/step\n",
      "Epoch 13/100\n",
      "1/1 - 4s - loss: 56371.3906 - accuracy: 0.9537 - 4s/epoch - 4s/step\n",
      "Epoch 14/100\n",
      "1/1 - 4s - loss: 56371.3906 - accuracy: 0.9537 - 4s/epoch - 4s/step\n",
      "Epoch 15/100\n",
      "1/1 - 4s - loss: 56371.3906 - accuracy: 0.9537 - 4s/epoch - 4s/step\n",
      "Epoch 16/100\n",
      "1/1 - 4s - loss: 56371.3906 - accuracy: 0.9537 - 4s/epoch - 4s/step\n",
      "Epoch 17/100\n",
      "1/1 - 4s - loss: 56371.3906 - accuracy: 0.9537 - 4s/epoch - 4s/step\n",
      "Epoch 18/100\n",
      "1/1 - 4s - loss: 56371.3906 - accuracy: 0.9537 - 4s/epoch - 4s/step\n",
      "Epoch 19/100\n",
      "1/1 - 4s - loss: 56371.3906 - accuracy: 0.9537 - 4s/epoch - 4s/step\n",
      "Epoch 20/100\n",
      "1/1 - 4s - loss: 56371.3906 - accuracy: 0.9537 - 4s/epoch - 4s/step\n",
      "Epoch 21/100\n",
      "1/1 - 4s - loss: 56371.3906 - accuracy: 0.9537 - 4s/epoch - 4s/step\n",
      "Epoch 22/100\n",
      "1/1 - 4s - loss: 56371.3906 - accuracy: 0.9537 - 4s/epoch - 4s/step\n",
      "Epoch 23/100\n",
      "1/1 - 4s - loss: 56371.3906 - accuracy: 0.9537 - 4s/epoch - 4s/step\n",
      "Epoch 24/100\n",
      "1/1 - 4s - loss: 56371.3906 - accuracy: 0.9537 - 4s/epoch - 4s/step\n",
      "Epoch 25/100\n",
      "1/1 - 4s - loss: 56371.3906 - accuracy: 0.9537 - 4s/epoch - 4s/step\n",
      "Epoch 26/100\n",
      "1/1 - 4s - loss: 56371.3906 - accuracy: 0.9537 - 4s/epoch - 4s/step\n",
      "Epoch 27/100\n",
      "1/1 - 4s - loss: 56371.3867 - accuracy: 0.9537 - 4s/epoch - 4s/step\n",
      "Epoch 28/100\n",
      "1/1 - 4s - loss: 56371.3711 - accuracy: 0.9537 - 4s/epoch - 4s/step\n",
      "Epoch 29/100\n",
      "1/1 - 4s - loss: 56371.3398 - accuracy: 0.9537 - 4s/epoch - 4s/step\n",
      "Epoch 30/100\n",
      "1/1 - 4s - loss: 56371.3242 - accuracy: 0.9537 - 4s/epoch - 4s/step\n",
      "Epoch 31/100\n",
      "1/1 - 4s - loss: 56371.3008 - accuracy: 0.9537 - 4s/epoch - 4s/step\n",
      "Epoch 32/100\n",
      "1/1 - 4s - loss: 56372.1953 - accuracy: 0.9537 - 4s/epoch - 4s/step\n",
      "Epoch 33/100\n",
      "1/1 - 4s - loss: 56371.2891 - accuracy: 0.9537 - 4s/epoch - 4s/step\n",
      "Epoch 34/100\n",
      "1/1 - 4s - loss: 56371.2891 - accuracy: 0.9537 - 4s/epoch - 4s/step\n",
      "Epoch 35/100\n",
      "1/1 - 4s - loss: 56371.2891 - accuracy: 0.9537 - 4s/epoch - 4s/step\n",
      "Epoch 36/100\n",
      "1/1 - 4s - loss: 56371.2891 - accuracy: 0.9537 - 4s/epoch - 4s/step\n",
      "Epoch 37/100\n",
      "1/1 - 4s - loss: 56371.2891 - accuracy: 0.9527 - 4s/epoch - 4s/step\n",
      "Epoch 38/100\n",
      "1/1 - 4s - loss: 56371.2891 - accuracy: 0.9530 - 4s/epoch - 4s/step\n",
      "Epoch 39/100\n",
      "1/1 - 4s - loss: 56371.2891 - accuracy: 0.9666 - 4s/epoch - 4s/step\n",
      "Epoch 40/100\n",
      "1/1 - 4s - loss: 56371.2891 - accuracy: 0.9268 - 4s/epoch - 4s/step\n",
      "Epoch 41/100\n",
      "1/1 - 4s - loss: 56371.2891 - accuracy: 0.9222 - 4s/epoch - 4s/step\n",
      "Epoch 42/100\n",
      "1/1 - 4s - loss: 56371.2891 - accuracy: 0.9221 - 4s/epoch - 4s/step\n",
      "Epoch 43/100\n",
      "1/1 - 4s - loss: 56371.2891 - accuracy: 0.9221 - 4s/epoch - 4s/step\n",
      "Epoch 44/100\n",
      "1/1 - 4s - loss: 56371.2891 - accuracy: 0.9221 - 4s/epoch - 4s/step\n",
      "Epoch 45/100\n",
      "1/1 - 4s - loss: 56371.2891 - accuracy: 0.9221 - 4s/epoch - 4s/step\n",
      "Epoch 46/100\n",
      "1/1 - 4s - loss: 56371.2891 - accuracy: 0.9221 - 4s/epoch - 4s/step\n",
      "Epoch 47/100\n",
      "1/1 - 4s - loss: 56371.2812 - accuracy: 0.9223 - 4s/epoch - 4s/step\n",
      "Epoch 48/100\n",
      "1/1 - 4s - loss: 56371.2812 - accuracy: 0.9250 - 4s/epoch - 4s/step\n",
      "Epoch 49/100\n",
      "1/1 - 4s - loss: 56371.2812 - accuracy: 0.9258 - 4s/epoch - 4s/step\n",
      "Epoch 50/100\n",
      "1/1 - 4s - loss: 56371.2812 - accuracy: 0.9270 - 4s/epoch - 4s/step\n",
      "Epoch 51/100\n",
      "1/1 - 4s - loss: 56371.2812 - accuracy: 0.9256 - 4s/epoch - 4s/step\n",
      "Epoch 52/100\n",
      "1/1 - 4s - loss: 56371.2812 - accuracy: 0.9520 - 4s/epoch - 4s/step\n",
      "Epoch 53/100\n",
      "1/1 - 4s - loss: 56371.2773 - accuracy: 0.9522 - 4s/epoch - 4s/step\n",
      "Epoch 54/100\n",
      "1/1 - 4s - loss: 56371.2812 - accuracy: 0.9499 - 4s/epoch - 4s/step\n",
      "Epoch 55/100\n",
      "1/1 - 4s - loss: 56371.2773 - accuracy: 0.9533 - 4s/epoch - 4s/step\n",
      "Epoch 56/100\n",
      "1/1 - 4s - loss: 56371.2812 - accuracy: 0.9535 - 4s/epoch - 4s/step\n",
      "Epoch 57/100\n",
      "1/1 - 4s - loss: 56371.2812 - accuracy: 0.9518 - 4s/epoch - 4s/step\n",
      "Epoch 58/100\n",
      "1/1 - 4s - loss: 56371.2812 - accuracy: 0.9109 - 4s/epoch - 4s/step\n",
      "Epoch 59/100\n",
      "1/1 - 4s - loss: 56371.2812 - accuracy: 0.9123 - 4s/epoch - 4s/step\n",
      "Epoch 60/100\n",
      "1/1 - 4s - loss: 56371.2812 - accuracy: 0.9209 - 4s/epoch - 4s/step\n",
      "Epoch 61/100\n",
      "1/1 - 4s - loss: 56371.2812 - accuracy: 0.9257 - 4s/epoch - 4s/step\n",
      "Epoch 62/100\n",
      "1/1 - 4s - loss: 56371.2812 - accuracy: 0.9270 - 4s/epoch - 4s/step\n",
      "Epoch 63/100\n",
      "1/1 - 4s - loss: 56371.2812 - accuracy: 0.9273 - 4s/epoch - 4s/step\n",
      "Epoch 64/100\n",
      "1/1 - 4s - loss: 56371.2812 - accuracy: 0.9274 - 4s/epoch - 4s/step\n",
      "Epoch 65/100\n",
      "1/1 - 4s - loss: 56371.2812 - accuracy: 0.9275 - 4s/epoch - 4s/step\n",
      "Epoch 66/100\n",
      "1/1 - 4s - loss: 56371.2812 - accuracy: 0.9275 - 4s/epoch - 4s/step\n",
      "Epoch 67/100\n",
      "1/1 - 4s - loss: 56371.2812 - accuracy: 0.9275 - 4s/epoch - 4s/step\n",
      "Epoch 68/100\n",
      "1/1 - 4s - loss: 56371.2812 - accuracy: 0.9275 - 4s/epoch - 4s/step\n",
      "Epoch 69/100\n",
      "1/1 - 4s - loss: 56371.2812 - accuracy: 0.9275 - 4s/epoch - 4s/step\n",
      "Epoch 70/100\n",
      "1/1 - 4s - loss: 56371.2812 - accuracy: 0.9275 - 4s/epoch - 4s/step\n",
      "Epoch 71/100\n",
      "1/1 - 4s - loss: 56371.2812 - accuracy: 0.9273 - 4s/epoch - 4s/step\n",
      "Epoch 72/100\n",
      "1/1 - 4s - loss: 56371.2812 - accuracy: 0.9267 - 4s/epoch - 4s/step\n",
      "Epoch 73/100\n",
      "1/1 - 4s - loss: 56371.2812 - accuracy: 0.9249 - 4s/epoch - 4s/step\n",
      "Epoch 74/100\n",
      "1/1 - 4s - loss: 56371.2812 - accuracy: 0.9216 - 4s/epoch - 4s/step\n",
      "Epoch 75/100\n",
      "1/1 - 4s - loss: 56371.2812 - accuracy: 0.9186 - 4s/epoch - 4s/step\n",
      "Epoch 76/100\n",
      "1/1 - 4s - loss: 56371.2812 - accuracy: 0.9169 - 4s/epoch - 4s/step\n",
      "Epoch 77/100\n",
      "1/1 - 4s - loss: 56371.2812 - accuracy: 0.9158 - 4s/epoch - 4s/step\n",
      "Epoch 78/100\n",
      "1/1 - 4s - loss: 56371.2812 - accuracy: 0.9156 - 4s/epoch - 4s/step\n",
      "Epoch 79/100\n",
      "1/1 - 4s - loss: 56371.2812 - accuracy: 0.9160 - 4s/epoch - 4s/step\n",
      "Epoch 80/100\n",
      "1/1 - 4s - loss: 56371.2812 - accuracy: 0.9178 - 4s/epoch - 4s/step\n",
      "Epoch 81/100\n",
      "1/1 - 4s - loss: 56371.2812 - accuracy: 0.9206 - 4s/epoch - 4s/step\n",
      "Epoch 82/100\n",
      "1/1 - 4s - loss: 56371.2812 - accuracy: 0.9228 - 4s/epoch - 4s/step\n",
      "Epoch 83/100\n",
      "1/1 - 4s - loss: 56371.2812 - accuracy: 0.9238 - 4s/epoch - 4s/step\n",
      "Epoch 84/100\n",
      "1/1 - 4s - loss: 56371.2812 - accuracy: 0.9187 - 4s/epoch - 4s/step\n",
      "Epoch 85/100\n",
      "1/1 - 4s - loss: 56371.2812 - accuracy: 0.9247 - 4s/epoch - 4s/step\n",
      "Epoch 86/100\n",
      "1/1 - 4s - loss: 56371.2812 - accuracy: 0.9250 - 4s/epoch - 4s/step\n",
      "Epoch 87/100\n",
      "1/1 - 4s - loss: 56371.2812 - accuracy: 0.9245 - 4s/epoch - 4s/step\n",
      "Epoch 88/100\n",
      "1/1 - 4s - loss: 56371.2812 - accuracy: 0.9239 - 4s/epoch - 4s/step\n",
      "Epoch 89/100\n",
      "1/1 - 4s - loss: 56371.2812 - accuracy: 0.9234 - 4s/epoch - 4s/step\n",
      "Epoch 90/100\n",
      "1/1 - 4s - loss: 56371.2812 - accuracy: 0.9215 - 4s/epoch - 4s/step\n",
      "Epoch 91/100\n",
      "1/1 - 4s - loss: 56371.2812 - accuracy: 0.9199 - 4s/epoch - 4s/step\n",
      "Epoch 92/100\n",
      "1/1 - 4s - loss: 56371.2812 - accuracy: 0.9213 - 4s/epoch - 4s/step\n",
      "Epoch 93/100\n",
      "1/1 - 4s - loss: 56371.2812 - accuracy: 0.9230 - 4s/epoch - 4s/step\n",
      "Epoch 94/100\n",
      "1/1 - 4s - loss: 56371.2812 - accuracy: 0.9241 - 4s/epoch - 4s/step\n",
      "Epoch 95/100\n",
      "1/1 - 4s - loss: 56371.2812 - accuracy: 0.9248 - 4s/epoch - 4s/step\n",
      "Epoch 96/100\n",
      "1/1 - 4s - loss: 56371.2812 - accuracy: 0.9252 - 4s/epoch - 4s/step\n",
      "Epoch 97/100\n",
      "1/1 - 4s - loss: 56371.2812 - accuracy: 0.9252 - 4s/epoch - 4s/step\n",
      "Epoch 98/100\n",
      "1/1 - 4s - loss: 56371.2812 - accuracy: 0.9251 - 4s/epoch - 4s/step\n",
      "Epoch 99/100\n",
      "1/1 - 4s - loss: 56371.2812 - accuracy: 0.9249 - 4s/epoch - 4s/step\n",
      "Epoch 100/100\n",
      "1/1 - 4s - loss: 56371.2812 - accuracy: 0.9248 - 4s/epoch - 4s/step\n"
     ]
    }
   ],
   "source": [
    "epochs = 100\n",
    "history = model1.fit(X_train_re, Y_train_re, batch_size = batch_size, epochs = epochs, verbose = 2)  # add validation_split = 0.2\n",
    "#filename = 'finalized_model1_1.sav'\n",
    "#joblib.dump(history, filename)"
   ]
  },
  {
   "cell_type": "code",
   "execution_count": 145,
   "metadata": {},
   "outputs": [],
   "source": [
    "#test_path = \"C:/Study/Semester2/Machine Learning/ML - Yes Photos/1900s_loose_bw_0036_mom.jpg\"\n",
    "test_path = \"C:/Study/Semester2/Machine Learning/smaller2/boy1.jpg\""
   ]
  },
  {
   "cell_type": "code",
   "execution_count": 153,
   "metadata": {},
   "outputs": [
    {
     "name": "stdout",
     "output_type": "stream",
     "text": [
      "image converted to LAB\n",
      "image processed\n"
     ]
    }
   ],
   "source": [
    "Color, BW = prep_img(test_path)"
   ]
  },
  {
   "cell_type": "code",
   "execution_count": 154,
   "metadata": {
    "scrolled": true
   },
   "outputs": [],
   "source": [
    "#test_data = tf.data.Dataset.from_tensor_slices(BW)\n",
    "test_predict = model1.predict(BW) #what shape does the prediction takes?"
   ]
  },
  {
   "cell_type": "code",
   "execution_count": 155,
   "metadata": {
    "scrolled": true
   },
   "outputs": [
    {
     "data": {
      "text/plain": [
       "numpy.ndarray"
      ]
     },
     "execution_count": 155,
     "metadata": {},
     "output_type": "execute_result"
    }
   ],
   "source": [
    "type(test_predict)"
   ]
  },
  {
   "cell_type": "code",
   "execution_count": 156,
   "metadata": {
    "scrolled": false
   },
   "outputs": [
    {
     "data": {
      "text/plain": [
       "(1, 1888, 1888, 2)"
      ]
     },
     "execution_count": 156,
     "metadata": {},
     "output_type": "execute_result"
    }
   ],
   "source": [
    "test_predict.shape"
   ]
  },
  {
   "cell_type": "code",
   "execution_count": 157,
   "metadata": {},
   "outputs": [],
   "source": [
    "test_predict = test_predict[0,:,:,:]"
   ]
  },
  {
   "cell_type": "code",
   "execution_count": 158,
   "metadata": {},
   "outputs": [
    {
     "data": {
      "text/plain": [
       "(1888, 1888, 2)"
      ]
     },
     "execution_count": 158,
     "metadata": {},
     "output_type": "execute_result"
    }
   ],
   "source": [
    "test_predict.shape"
   ]
  },
  {
   "cell_type": "code",
   "execution_count": 159,
   "metadata": {},
   "outputs": [],
   "source": [
    "test_predict = test_predict*128"
   ]
  },
  {
   "cell_type": "code",
   "execution_count": 160,
   "metadata": {},
   "outputs": [
    {
     "data": {
      "text/plain": [
       "128.0"
      ]
     },
     "execution_count": 160,
     "metadata": {},
     "output_type": "execute_result"
    }
   ],
   "source": [
    "np.min(test_predict[0])"
   ]
  },
  {
   "cell_type": "code",
   "execution_count": 161,
   "metadata": {},
   "outputs": [
    {
     "data": {
      "text/plain": [
       "128.0"
      ]
     },
     "execution_count": 161,
     "metadata": {},
     "output_type": "execute_result"
    }
   ],
   "source": [
    "np.max(test_predict[0])"
   ]
  },
  {
   "cell_type": "code",
   "execution_count": 162,
   "metadata": {},
   "outputs": [],
   "source": [
    "BW = BW[0,:,:,:]"
   ]
  },
  {
   "cell_type": "code",
   "execution_count": 163,
   "metadata": {},
   "outputs": [
    {
     "data": {
      "text/plain": [
       "(1888, 1888, 1)"
      ]
     },
     "execution_count": 163,
     "metadata": {},
     "output_type": "execute_result"
    }
   ],
   "source": [
    "BW.shape"
   ]
  },
  {
   "cell_type": "markdown",
   "metadata": {},
   "source": [
    "#### merge with d stack"
   ]
  },
  {
   "cell_type": "code",
   "execution_count": 164,
   "metadata": {},
   "outputs": [],
   "source": [
    "Test_merged = np.dstack((BW, test_predict))"
   ]
  },
  {
   "cell_type": "code",
   "execution_count": 165,
   "metadata": {},
   "outputs": [
    {
     "data": {
      "text/plain": [
       "(1888, 1888, 3)"
      ]
     },
     "execution_count": 165,
     "metadata": {},
     "output_type": "execute_result"
    }
   ],
   "source": [
    "Test_merged.shape"
   ]
  },
  {
   "cell_type": "code",
   "execution_count": 166,
   "metadata": {},
   "outputs": [
    {
     "name": "stderr",
     "output_type": "stream",
     "text": [
      "C:\\Users\\midyr\\anaconda3\\lib\\site-packages\\skimage\\color\\colorconv.py:1109: UserWarning: Color data out of range: Z < 0 in 32684 pixels\n",
      "  return xyz2rgb(lab2xyz(lab, illuminant, observer))\n"
     ]
    }
   ],
   "source": [
    "rgb_converted = color.lab2rgb(Test_merged)"
   ]
  },
  {
   "cell_type": "code",
   "execution_count": 167,
   "metadata": {
    "scrolled": true
   },
   "outputs": [
    {
     "data": {
      "text/plain": [
       "<matplotlib.image.AxesImage at 0x244063fa190>"
      ]
     },
     "execution_count": 167,
     "metadata": {},
     "output_type": "execute_result"
    },
    {
     "data": {
      "image/png": "[encoded data removed]",
      "text/plain": [
       "<Figure size 432x288 with 1 Axes>"
      ]
     },
     "metadata": {
      "needs_background": "light"
     },
     "output_type": "display_data"
    }
   ],
   "source": [
    "plt.imshow(rgb_converted)"
   ]
  },
  {
   "cell_type": "code",
   "execution_count": 168,
   "metadata": {},
   "outputs": [],
   "source": [
    "\n",
    "plt.imsave('result.jpg', rgb_converted)"
   ]
  },
  {
   "cell_type": "markdown",
   "metadata": {},
   "source": [
    "##### a way to merge the prediction"
   ]
  },
  {
   "cell_type": "code",
   "execution_count": 169,
   "metadata": {},
   "outputs": [
    {
     "ename": "IndexError",
     "evalue": "too many indices for array: array is 2-dimensional, but 3 were indexed",
     "output_type": "error",
     "traceback": [
      "\u001b[1;31m---------------------------------------------------------------------------\u001b[0m",
      "\u001b[1;31mIndexError\u001b[0m                                Traceback (most recent call last)",
      "\u001b[1;32m<ipython-input-169-7d92c3bd6dda>\u001b[0m in \u001b[0;36m<module>\u001b[1;34m\u001b[0m\n\u001b[0;32m      1\u001b[0m \u001b[1;31m#pastes predicted AB to RGB blank canvas\u001b[0m\u001b[1;33m\u001b[0m\u001b[1;33m\u001b[0m\u001b[1;33m\u001b[0m\u001b[0m\n\u001b[0;32m      2\u001b[0m \u001b[0mcanvas\u001b[0m \u001b[1;33m=\u001b[0m \u001b[0mnp\u001b[0m\u001b[1;33m.\u001b[0m\u001b[0mzeros\u001b[0m\u001b[1;33m(\u001b[0m\u001b[1;33m(\u001b[0m\u001b[1;36m1888\u001b[0m\u001b[1;33m,\u001b[0m\u001b[1;36m1888\u001b[0m\u001b[1;33m,\u001b[0m\u001b[1;36m3\u001b[0m\u001b[1;33m)\u001b[0m\u001b[1;33m)\u001b[0m\u001b[1;33m\u001b[0m\u001b[1;33m\u001b[0m\u001b[0m\n\u001b[1;32m----> 3\u001b[1;33m \u001b[0mcanvas\u001b[0m\u001b[1;33m[\u001b[0m\u001b[1;33m:\u001b[0m\u001b[1;33m,\u001b[0m\u001b[1;33m:\u001b[0m\u001b[1;33m,\u001b[0m\u001b[1;36m0\u001b[0m\u001b[1;33m]\u001b[0m \u001b[1;33m=\u001b[0m \u001b[0mBW\u001b[0m\u001b[1;33m[\u001b[0m\u001b[1;36m0\u001b[0m\u001b[1;33m]\u001b[0m\u001b[1;33m[\u001b[0m\u001b[1;33m:\u001b[0m\u001b[1;33m,\u001b[0m\u001b[1;33m:\u001b[0m\u001b[1;33m,\u001b[0m\u001b[1;36m0\u001b[0m\u001b[1;33m]\u001b[0m\u001b[1;33m\u001b[0m\u001b[1;33m\u001b[0m\u001b[0m\n\u001b[0m\u001b[0;32m      4\u001b[0m \u001b[0mcanvas\u001b[0m\u001b[1;33m[\u001b[0m\u001b[1;33m:\u001b[0m\u001b[1;33m,\u001b[0m\u001b[1;33m:\u001b[0m\u001b[1;33m,\u001b[0m\u001b[1;36m1\u001b[0m\u001b[1;33m:\u001b[0m\u001b[1;33m]\u001b[0m \u001b[1;33m=\u001b[0m\u001b[0mtest_predict\u001b[0m\u001b[1;33m[\u001b[0m\u001b[1;36m0\u001b[0m\u001b[1;33m]\u001b[0m\u001b[1;33m\u001b[0m\u001b[1;33m\u001b[0m\u001b[0m\n",
      "\u001b[1;31mIndexError\u001b[0m: too many indices for array: array is 2-dimensional, but 3 were indexed"
     ]
    }
   ],
   "source": [
    "#pastes predicted AB to RGB blank canvas\n",
    "canvas = np.zeros((1888,1888,3))\n",
    "canvas[:,:,0] = BW[0][:,:,0]\n",
    "canvas[:,:,1:] =test_predict[0]"
   ]
  },
  {
   "cell_type": "code",
   "execution_count": 170,
   "metadata": {
    "scrolled": true
   },
   "outputs": [],
   "source": [
    "#convert AB (in RGB space) to rgb photo\n",
    "rgb_converted = color.lab2rgb(canvas)"
   ]
  },
  {
   "cell_type": "code",
   "execution_count": 171,
   "metadata": {},
   "outputs": [
    {
     "data": {
      "text/plain": [
       "<matplotlib.image.AxesImage at 0x24401f52970>"
      ]
     },
     "execution_count": 171,
     "metadata": {},
     "output_type": "execute_result"
    },
    {
     "data": {
      "image/png": "[encoded data removed]",
      "text/plain": [
       "<Figure size 432x288 with 1 Axes>"
      ]
     },
     "metadata": {
      "needs_background": "light"
     },
     "output_type": "display_data"
    }
   ],
   "source": [
    "plt.imshow(rgb_converted)"
   ]
  },
  {
   "cell_type": "code",
   "execution_count": 172,
   "metadata": {},
   "outputs": [
    {
     "ename": "error",
     "evalue": "OpenCV(4.5.5) d:\\a\\opencv-python\\opencv-python\\opencv\\modules\\imgproc\\src\\color.simd_helpers.hpp:94: error: (-2:Unspecified error) in function '__cdecl cv::impl::`anonymous-namespace'::CvtHelper<struct cv::impl::`anonymous namespace'::Set<3,4,-1>,struct cv::impl::A0x62bfd855::Set<3,-1,-1>,struct cv::impl::A0x62bfd855::Set<0,5,-1>,2>::CvtHelper(const class cv::_InputArray &,const class cv::_OutputArray &,int)'\n> Unsupported depth of input image:\n>     'VDepth::contains(depth)'\n> where\n>     'depth' is 6 (CV_64F)\n",
     "output_type": "error",
     "traceback": [
      "\u001b[1;31m---------------------------------------------------------------------------\u001b[0m",
      "\u001b[1;31merror\u001b[0m                                     Traceback (most recent call last)",
      "\u001b[1;32m<ipython-input-172-b771010a46fb>\u001b[0m in \u001b[0;36m<module>\u001b[1;34m\u001b[0m\n\u001b[1;32m----> 1\u001b[1;33m \u001b[0mlab_2rgb\u001b[0m \u001b[1;33m=\u001b[0m \u001b[0mcv2\u001b[0m\u001b[1;33m.\u001b[0m\u001b[0mcvtColor\u001b[0m\u001b[1;33m(\u001b[0m\u001b[0mcanvas\u001b[0m\u001b[1;33m,\u001b[0m \u001b[0mcv2\u001b[0m\u001b[1;33m.\u001b[0m\u001b[0mCOLOR_RGB2Lab\u001b[0m\u001b[1;33m)\u001b[0m\u001b[1;33m\u001b[0m\u001b[1;33m\u001b[0m\u001b[0m\n\u001b[0m",
      "\u001b[1;31merror\u001b[0m: OpenCV(4.5.5) d:\\a\\opencv-python\\opencv-python\\opencv\\modules\\imgproc\\src\\color.simd_helpers.hpp:94: error: (-2:Unspecified error) in function '__cdecl cv::impl::`anonymous-namespace'::CvtHelper<struct cv::impl::`anonymous namespace'::Set<3,4,-1>,struct cv::impl::A0x62bfd855::Set<3,-1,-1>,struct cv::impl::A0x62bfd855::Set<0,5,-1>,2>::CvtHelper(const class cv::_InputArray &,const class cv::_OutputArray &,int)'\n> Unsupported depth of input image:\n>     'VDepth::contains(depth)'\n> where\n>     'depth' is 6 (CV_64F)\n"
     ]
    }
   ],
   "source": [
    "lab_2rgb = cv2.cvtColor(canvas, cv2.COLOR_RGB2Lab)"
   ]
  },
  {
   "cell_type": "code",
   "execution_count": 173,
   "metadata": {},
   "outputs": [
    {
     "ename": "SyntaxError",
     "evalue": "invalid syntax (<ipython-input-173-7cfd94be212e>, line 1)",
     "output_type": "error",
     "traceback": [
      "\u001b[1;36m  File \u001b[1;32m\"<ipython-input-173-7cfd94be212e>\"\u001b[1;36m, line \u001b[1;32m1\u001b[0m\n\u001b[1;33m    lab_to =\u001b[0m\n\u001b[1;37m             ^\u001b[0m\n\u001b[1;31mSyntaxError\u001b[0m\u001b[1;31m:\u001b[0m invalid syntax\n"
     ]
    }
   ],
   "source": [
    "lab_to = "
   ]
  },
  {
   "cell_type": "code",
   "execution_count": 174,
   "metadata": {},
   "outputs": [
    {
     "ename": "NameError",
     "evalue": "name 'lab_merge' is not defined",
     "output_type": "error",
     "traceback": [
      "\u001b[1;31m---------------------------------------------------------------------------\u001b[0m",
      "\u001b[1;31mNameError\u001b[0m                                 Traceback (most recent call last)",
      "\u001b[1;32m<ipython-input-174-65fef2cb1c83>\u001b[0m in \u001b[0;36m<module>\u001b[1;34m\u001b[0m\n\u001b[1;32m----> 1\u001b[1;33m \u001b[0mlab_merge\u001b[0m\u001b[1;33m.\u001b[0m\u001b[0mshape\u001b[0m\u001b[1;33m\u001b[0m\u001b[1;33m\u001b[0m\u001b[0m\n\u001b[0m",
      "\u001b[1;31mNameError\u001b[0m: name 'lab_merge' is not defined"
     ]
    }
   ],
   "source": [
    "lab_merge.shape"
   ]
  },
  {
   "cell_type": "code",
   "execution_count": 175,
   "metadata": {},
   "outputs": [
    {
     "data": {
      "text/plain": [
       "<matplotlib.image.AxesImage at 0x24402cc5130>"
      ]
     },
     "execution_count": 175,
     "metadata": {},
     "output_type": "execute_result"
    },
    {
     "data": {
      "image/png": "[encoded data removed]",
      "text/plain": [
       "<Figure size 432x288 with 1 Axes>"
      ]
     },
     "metadata": {
      "needs_background": "light"
     },
     "output_type": "display_data"
    }
   ],
   "source": [
    "plt.imshow(canvas)"
   ]
  },
  {
   "cell_type": "code",
   "execution_count": 176,
   "metadata": {},
   "outputs": [],
   "source": [
    "#Test input array"
   ]
  },
  {
   "cell_type": "code",
   "execution_count": 177,
   "metadata": {
    "scrolled": false
   },
   "outputs": [
    {
     "ename": "AxisError",
     "evalue": "axis -1 is out of bounds for array of dimension 0",
     "output_type": "error",
     "traceback": [
      "\u001b[1;31m---------------------------------------------------------------------------\u001b[0m",
      "\u001b[1;31mAxisError\u001b[0m                                 Traceback (most recent call last)",
      "\u001b[1;32m<ipython-input-177-5987aedb857e>\u001b[0m in \u001b[0;36m<module>\u001b[1;34m\u001b[0m\n\u001b[0;32m      1\u001b[0m \u001b[0mimg_path1\u001b[0m \u001b[1;33m=\u001b[0m \u001b[1;34m'Color, BW = prep_img(test_path)'\u001b[0m\u001b[1;33m\u001b[0m\u001b[1;33m\u001b[0m\u001b[0m\n\u001b[1;32m----> 2\u001b[1;33m \u001b[0mY01\u001b[0m\u001b[1;33m,\u001b[0m \u001b[0mX01\u001b[0m \u001b[1;33m=\u001b[0m \u001b[0mprep_img\u001b[0m\u001b[1;33m(\u001b[0m\u001b[0mimg_path1\u001b[0m\u001b[1;33m)\u001b[0m\u001b[1;33m\u001b[0m\u001b[1;33m\u001b[0m\u001b[0m\n\u001b[0m",
      "\u001b[1;32m<ipython-input-54-249a57aecb84>\u001b[0m in \u001b[0;36mprep_img\u001b[1;34m(img_path)\u001b[0m\n\u001b[0;32m      8\u001b[0m \u001b[1;32mdef\u001b[0m \u001b[0mprep_img\u001b[0m\u001b[1;33m(\u001b[0m\u001b[0mimg_path\u001b[0m\u001b[1;33m)\u001b[0m\u001b[1;33m:\u001b[0m\u001b[1;33m\u001b[0m\u001b[1;33m\u001b[0m\u001b[0m\n\u001b[0;32m      9\u001b[0m     \u001b[0mimgRGB\u001b[0m \u001b[1;33m=\u001b[0m \u001b[0mcv2\u001b[0m\u001b[1;33m.\u001b[0m\u001b[0mimread\u001b[0m\u001b[1;33m(\u001b[0m\u001b[0mimg_path\u001b[0m\u001b[1;33m)\u001b[0m\u001b[1;33m\u001b[0m\u001b[1;33m\u001b[0m\u001b[0m\n\u001b[1;32m---> 10\u001b[1;33m     \u001b[0mimgBGR\u001b[0m \u001b[1;33m=\u001b[0m \u001b[0mnp\u001b[0m\u001b[1;33m.\u001b[0m\u001b[0mflip\u001b[0m\u001b[1;33m(\u001b[0m\u001b[0mimgRGB\u001b[0m\u001b[1;33m,\u001b[0m \u001b[1;33m-\u001b[0m\u001b[1;36m1\u001b[0m\u001b[1;33m)\u001b[0m\u001b[1;33m\u001b[0m\u001b[1;33m\u001b[0m\u001b[0m\n\u001b[0m\u001b[0;32m     11\u001b[0m \u001b[1;33m\u001b[0m\u001b[0m\n\u001b[0;32m     12\u001b[0m     \u001b[1;31m#check the image category by 'shape' function\u001b[0m\u001b[1;33m\u001b[0m\u001b[1;33m\u001b[0m\u001b[1;33m\u001b[0m\u001b[0m\n",
      "\u001b[1;32m<__array_function__ internals>\u001b[0m in \u001b[0;36mflip\u001b[1;34m(*args, **kwargs)\u001b[0m\n",
      "\u001b[1;32m~\\anaconda3\\lib\\site-packages\\numpy\\lib\\function_base.py\u001b[0m in \u001b[0;36mflip\u001b[1;34m(m, axis)\u001b[0m\n\u001b[0;32m    234\u001b[0m         \u001b[0mindexer\u001b[0m \u001b[1;33m=\u001b[0m \u001b[1;33m(\u001b[0m\u001b[0mnp\u001b[0m\u001b[1;33m.\u001b[0m\u001b[0ms_\u001b[0m\u001b[1;33m[\u001b[0m\u001b[1;33m:\u001b[0m\u001b[1;33m:\u001b[0m\u001b[1;33m-\u001b[0m\u001b[1;36m1\u001b[0m\u001b[1;33m]\u001b[0m\u001b[1;33m,\u001b[0m\u001b[1;33m)\u001b[0m \u001b[1;33m*\u001b[0m \u001b[0mm\u001b[0m\u001b[1;33m.\u001b[0m\u001b[0mndim\u001b[0m\u001b[1;33m\u001b[0m\u001b[1;33m\u001b[0m\u001b[0m\n\u001b[0;32m    235\u001b[0m     \u001b[1;32melse\u001b[0m\u001b[1;33m:\u001b[0m\u001b[1;33m\u001b[0m\u001b[1;33m\u001b[0m\u001b[0m\n\u001b[1;32m--> 236\u001b[1;33m         \u001b[0maxis\u001b[0m \u001b[1;33m=\u001b[0m \u001b[0m_nx\u001b[0m\u001b[1;33m.\u001b[0m\u001b[0mnormalize_axis_tuple\u001b[0m\u001b[1;33m(\u001b[0m\u001b[0maxis\u001b[0m\u001b[1;33m,\u001b[0m \u001b[0mm\u001b[0m\u001b[1;33m.\u001b[0m\u001b[0mndim\u001b[0m\u001b[1;33m)\u001b[0m\u001b[1;33m\u001b[0m\u001b[1;33m\u001b[0m\u001b[0m\n\u001b[0m\u001b[0;32m    237\u001b[0m         \u001b[0mindexer\u001b[0m \u001b[1;33m=\u001b[0m \u001b[1;33m[\u001b[0m\u001b[0mnp\u001b[0m\u001b[1;33m.\u001b[0m\u001b[0ms_\u001b[0m\u001b[1;33m[\u001b[0m\u001b[1;33m:\u001b[0m\u001b[1;33m]\u001b[0m\u001b[1;33m]\u001b[0m \u001b[1;33m*\u001b[0m \u001b[0mm\u001b[0m\u001b[1;33m.\u001b[0m\u001b[0mndim\u001b[0m\u001b[1;33m\u001b[0m\u001b[1;33m\u001b[0m\u001b[0m\n\u001b[0;32m    238\u001b[0m         \u001b[1;32mfor\u001b[0m \u001b[0max\u001b[0m \u001b[1;32min\u001b[0m \u001b[0maxis\u001b[0m\u001b[1;33m:\u001b[0m\u001b[1;33m\u001b[0m\u001b[1;33m\u001b[0m\u001b[0m\n",
      "\u001b[1;32m~\\anaconda3\\lib\\site-packages\\numpy\\core\\numeric.py\u001b[0m in \u001b[0;36mnormalize_axis_tuple\u001b[1;34m(axis, ndim, argname, allow_duplicate)\u001b[0m\n\u001b[0;32m   1389\u001b[0m             \u001b[1;32mpass\u001b[0m\u001b[1;33m\u001b[0m\u001b[1;33m\u001b[0m\u001b[0m\n\u001b[0;32m   1390\u001b[0m     \u001b[1;31m# Going via an iterator directly is slower than via list comprehension.\u001b[0m\u001b[1;33m\u001b[0m\u001b[1;33m\u001b[0m\u001b[1;33m\u001b[0m\u001b[0m\n\u001b[1;32m-> 1391\u001b[1;33m     \u001b[0maxis\u001b[0m \u001b[1;33m=\u001b[0m \u001b[0mtuple\u001b[0m\u001b[1;33m(\u001b[0m\u001b[1;33m[\u001b[0m\u001b[0mnormalize_axis_index\u001b[0m\u001b[1;33m(\u001b[0m\u001b[0max\u001b[0m\u001b[1;33m,\u001b[0m \u001b[0mndim\u001b[0m\u001b[1;33m,\u001b[0m \u001b[0margname\u001b[0m\u001b[1;33m)\u001b[0m \u001b[1;32mfor\u001b[0m \u001b[0max\u001b[0m \u001b[1;32min\u001b[0m \u001b[0maxis\u001b[0m\u001b[1;33m]\u001b[0m\u001b[1;33m)\u001b[0m\u001b[1;33m\u001b[0m\u001b[1;33m\u001b[0m\u001b[0m\n\u001b[0m\u001b[0;32m   1392\u001b[0m     \u001b[1;32mif\u001b[0m \u001b[1;32mnot\u001b[0m \u001b[0mallow_duplicate\u001b[0m \u001b[1;32mand\u001b[0m \u001b[0mlen\u001b[0m\u001b[1;33m(\u001b[0m\u001b[0mset\u001b[0m\u001b[1;33m(\u001b[0m\u001b[0maxis\u001b[0m\u001b[1;33m)\u001b[0m\u001b[1;33m)\u001b[0m \u001b[1;33m!=\u001b[0m \u001b[0mlen\u001b[0m\u001b[1;33m(\u001b[0m\u001b[0maxis\u001b[0m\u001b[1;33m)\u001b[0m\u001b[1;33m:\u001b[0m\u001b[1;33m\u001b[0m\u001b[1;33m\u001b[0m\u001b[0m\n\u001b[0;32m   1393\u001b[0m         \u001b[1;32mif\u001b[0m \u001b[0margname\u001b[0m\u001b[1;33m:\u001b[0m\u001b[1;33m\u001b[0m\u001b[1;33m\u001b[0m\u001b[0m\n",
      "\u001b[1;32m~\\anaconda3\\lib\\site-packages\\numpy\\core\\numeric.py\u001b[0m in \u001b[0;36m<listcomp>\u001b[1;34m(.0)\u001b[0m\n\u001b[0;32m   1389\u001b[0m             \u001b[1;32mpass\u001b[0m\u001b[1;33m\u001b[0m\u001b[1;33m\u001b[0m\u001b[0m\n\u001b[0;32m   1390\u001b[0m     \u001b[1;31m# Going via an iterator directly is slower than via list comprehension.\u001b[0m\u001b[1;33m\u001b[0m\u001b[1;33m\u001b[0m\u001b[1;33m\u001b[0m\u001b[0m\n\u001b[1;32m-> 1391\u001b[1;33m     \u001b[0maxis\u001b[0m \u001b[1;33m=\u001b[0m \u001b[0mtuple\u001b[0m\u001b[1;33m(\u001b[0m\u001b[1;33m[\u001b[0m\u001b[0mnormalize_axis_index\u001b[0m\u001b[1;33m(\u001b[0m\u001b[0max\u001b[0m\u001b[1;33m,\u001b[0m \u001b[0mndim\u001b[0m\u001b[1;33m,\u001b[0m \u001b[0margname\u001b[0m\u001b[1;33m)\u001b[0m \u001b[1;32mfor\u001b[0m \u001b[0max\u001b[0m \u001b[1;32min\u001b[0m \u001b[0maxis\u001b[0m\u001b[1;33m]\u001b[0m\u001b[1;33m)\u001b[0m\u001b[1;33m\u001b[0m\u001b[1;33m\u001b[0m\u001b[0m\n\u001b[0m\u001b[0;32m   1392\u001b[0m     \u001b[1;32mif\u001b[0m \u001b[1;32mnot\u001b[0m \u001b[0mallow_duplicate\u001b[0m \u001b[1;32mand\u001b[0m \u001b[0mlen\u001b[0m\u001b[1;33m(\u001b[0m\u001b[0mset\u001b[0m\u001b[1;33m(\u001b[0m\u001b[0maxis\u001b[0m\u001b[1;33m)\u001b[0m\u001b[1;33m)\u001b[0m \u001b[1;33m!=\u001b[0m \u001b[0mlen\u001b[0m\u001b[1;33m(\u001b[0m\u001b[0maxis\u001b[0m\u001b[1;33m)\u001b[0m\u001b[1;33m:\u001b[0m\u001b[1;33m\u001b[0m\u001b[1;33m\u001b[0m\u001b[0m\n\u001b[0;32m   1393\u001b[0m         \u001b[1;32mif\u001b[0m \u001b[0margname\u001b[0m\u001b[1;33m:\u001b[0m\u001b[1;33m\u001b[0m\u001b[1;33m\u001b[0m\u001b[0m\n",
      "\u001b[1;31mAxisError\u001b[0m: axis -1 is out of bounds for array of dimension 0"
     ]
    }
   ],
   "source": [
    "img_path1 = 'Color, BW = prep_img(test_path)'\n",
    "Y01, X01 = prep_img(img_path1)"
   ]
  },
  {
   "cell_type": "code",
   "execution_count": 178,
   "metadata": {},
   "outputs": [
    {
     "data": {
      "text/plain": [
       "numpy.ndarray"
      ]
     },
     "execution_count": 178,
     "metadata": {},
     "output_type": "execute_result"
    }
   ],
   "source": [
    "type(X01[0])"
   ]
  },
  {
   "cell_type": "code",
   "execution_count": 179,
   "metadata": {
    "scrolled": true
   },
   "outputs": [
    {
     "ename": "TypeError",
     "evalue": "Invalid shape (1, 1888, 1888, 1) for image data",
     "output_type": "error",
     "traceback": [
      "\u001b[1;31m---------------------------------------------------------------------------\u001b[0m",
      "\u001b[1;31mTypeError\u001b[0m                                 Traceback (most recent call last)",
      "\u001b[1;32m<ipython-input-179-ffda1ed9aabb>\u001b[0m in \u001b[0;36m<module>\u001b[1;34m\u001b[0m\n\u001b[0;32m      1\u001b[0m \u001b[1;31m#show AB channel of the image\u001b[0m\u001b[1;33m\u001b[0m\u001b[1;33m\u001b[0m\u001b[1;33m\u001b[0m\u001b[0m\n\u001b[1;32m----> 2\u001b[1;33m \u001b[0mplt\u001b[0m\u001b[1;33m.\u001b[0m\u001b[0mimshow\u001b[0m\u001b[1;33m(\u001b[0m\u001b[0mX01\u001b[0m\u001b[1;33m)\u001b[0m \u001b[1;31m#X01[0,:,:,0]\u001b[0m\u001b[1;33m\u001b[0m\u001b[1;33m\u001b[0m\u001b[0m\n\u001b[0m",
      "\u001b[1;32m~\\anaconda3\\lib\\site-packages\\matplotlib\\pyplot.py\u001b[0m in \u001b[0;36mimshow\u001b[1;34m(X, cmap, norm, aspect, interpolation, alpha, vmin, vmax, origin, extent, filternorm, filterrad, resample, url, data, **kwargs)\u001b[0m\n\u001b[0;32m   2722\u001b[0m         \u001b[0mfilternorm\u001b[0m\u001b[1;33m=\u001b[0m\u001b[1;32mTrue\u001b[0m\u001b[1;33m,\u001b[0m \u001b[0mfilterrad\u001b[0m\u001b[1;33m=\u001b[0m\u001b[1;36m4.0\u001b[0m\u001b[1;33m,\u001b[0m \u001b[0mresample\u001b[0m\u001b[1;33m=\u001b[0m\u001b[1;32mNone\u001b[0m\u001b[1;33m,\u001b[0m \u001b[0murl\u001b[0m\u001b[1;33m=\u001b[0m\u001b[1;32mNone\u001b[0m\u001b[1;33m,\u001b[0m\u001b[1;33m\u001b[0m\u001b[1;33m\u001b[0m\u001b[0m\n\u001b[0;32m   2723\u001b[0m         data=None, **kwargs):\n\u001b[1;32m-> 2724\u001b[1;33m     __ret = gca().imshow(\n\u001b[0m\u001b[0;32m   2725\u001b[0m         \u001b[0mX\u001b[0m\u001b[1;33m,\u001b[0m \u001b[0mcmap\u001b[0m\u001b[1;33m=\u001b[0m\u001b[0mcmap\u001b[0m\u001b[1;33m,\u001b[0m \u001b[0mnorm\u001b[0m\u001b[1;33m=\u001b[0m\u001b[0mnorm\u001b[0m\u001b[1;33m,\u001b[0m \u001b[0maspect\u001b[0m\u001b[1;33m=\u001b[0m\u001b[0maspect\u001b[0m\u001b[1;33m,\u001b[0m\u001b[1;33m\u001b[0m\u001b[1;33m\u001b[0m\u001b[0m\n\u001b[0;32m   2726\u001b[0m         \u001b[0minterpolation\u001b[0m\u001b[1;33m=\u001b[0m\u001b[0minterpolation\u001b[0m\u001b[1;33m,\u001b[0m \u001b[0malpha\u001b[0m\u001b[1;33m=\u001b[0m\u001b[0malpha\u001b[0m\u001b[1;33m,\u001b[0m \u001b[0mvmin\u001b[0m\u001b[1;33m=\u001b[0m\u001b[0mvmin\u001b[0m\u001b[1;33m,\u001b[0m\u001b[1;33m\u001b[0m\u001b[1;33m\u001b[0m\u001b[0m\n",
      "\u001b[1;32m~\\anaconda3\\lib\\site-packages\\matplotlib\\__init__.py\u001b[0m in \u001b[0;36minner\u001b[1;34m(ax, data, *args, **kwargs)\u001b[0m\n\u001b[0;32m   1445\u001b[0m     \u001b[1;32mdef\u001b[0m \u001b[0minner\u001b[0m\u001b[1;33m(\u001b[0m\u001b[0max\u001b[0m\u001b[1;33m,\u001b[0m \u001b[1;33m*\u001b[0m\u001b[0margs\u001b[0m\u001b[1;33m,\u001b[0m \u001b[0mdata\u001b[0m\u001b[1;33m=\u001b[0m\u001b[1;32mNone\u001b[0m\u001b[1;33m,\u001b[0m \u001b[1;33m**\u001b[0m\u001b[0mkwargs\u001b[0m\u001b[1;33m)\u001b[0m\u001b[1;33m:\u001b[0m\u001b[1;33m\u001b[0m\u001b[1;33m\u001b[0m\u001b[0m\n\u001b[0;32m   1446\u001b[0m         \u001b[1;32mif\u001b[0m \u001b[0mdata\u001b[0m \u001b[1;32mis\u001b[0m \u001b[1;32mNone\u001b[0m\u001b[1;33m:\u001b[0m\u001b[1;33m\u001b[0m\u001b[1;33m\u001b[0m\u001b[0m\n\u001b[1;32m-> 1447\u001b[1;33m             \u001b[1;32mreturn\u001b[0m \u001b[0mfunc\u001b[0m\u001b[1;33m(\u001b[0m\u001b[0max\u001b[0m\u001b[1;33m,\u001b[0m \u001b[1;33m*\u001b[0m\u001b[0mmap\u001b[0m\u001b[1;33m(\u001b[0m\u001b[0msanitize_sequence\u001b[0m\u001b[1;33m,\u001b[0m \u001b[0margs\u001b[0m\u001b[1;33m)\u001b[0m\u001b[1;33m,\u001b[0m \u001b[1;33m**\u001b[0m\u001b[0mkwargs\u001b[0m\u001b[1;33m)\u001b[0m\u001b[1;33m\u001b[0m\u001b[1;33m\u001b[0m\u001b[0m\n\u001b[0m\u001b[0;32m   1448\u001b[0m \u001b[1;33m\u001b[0m\u001b[0m\n\u001b[0;32m   1449\u001b[0m         \u001b[0mbound\u001b[0m \u001b[1;33m=\u001b[0m \u001b[0mnew_sig\u001b[0m\u001b[1;33m.\u001b[0m\u001b[0mbind\u001b[0m\u001b[1;33m(\u001b[0m\u001b[0max\u001b[0m\u001b[1;33m,\u001b[0m \u001b[1;33m*\u001b[0m\u001b[0margs\u001b[0m\u001b[1;33m,\u001b[0m \u001b[1;33m**\u001b[0m\u001b[0mkwargs\u001b[0m\u001b[1;33m)\u001b[0m\u001b[1;33m\u001b[0m\u001b[1;33m\u001b[0m\u001b[0m\n",
      "\u001b[1;32m~\\anaconda3\\lib\\site-packages\\matplotlib\\axes\\_axes.py\u001b[0m in \u001b[0;36mimshow\u001b[1;34m(self, X, cmap, norm, aspect, interpolation, alpha, vmin, vmax, origin, extent, filternorm, filterrad, resample, url, **kwargs)\u001b[0m\n\u001b[0;32m   5521\u001b[0m                               resample=resample, **kwargs)\n\u001b[0;32m   5522\u001b[0m \u001b[1;33m\u001b[0m\u001b[0m\n\u001b[1;32m-> 5523\u001b[1;33m         \u001b[0mim\u001b[0m\u001b[1;33m.\u001b[0m\u001b[0mset_data\u001b[0m\u001b[1;33m(\u001b[0m\u001b[0mX\u001b[0m\u001b[1;33m)\u001b[0m\u001b[1;33m\u001b[0m\u001b[1;33m\u001b[0m\u001b[0m\n\u001b[0m\u001b[0;32m   5524\u001b[0m         \u001b[0mim\u001b[0m\u001b[1;33m.\u001b[0m\u001b[0mset_alpha\u001b[0m\u001b[1;33m(\u001b[0m\u001b[0malpha\u001b[0m\u001b[1;33m)\u001b[0m\u001b[1;33m\u001b[0m\u001b[1;33m\u001b[0m\u001b[0m\n\u001b[0;32m   5525\u001b[0m         \u001b[1;32mif\u001b[0m \u001b[0mim\u001b[0m\u001b[1;33m.\u001b[0m\u001b[0mget_clip_path\u001b[0m\u001b[1;33m(\u001b[0m\u001b[1;33m)\u001b[0m \u001b[1;32mis\u001b[0m \u001b[1;32mNone\u001b[0m\u001b[1;33m:\u001b[0m\u001b[1;33m\u001b[0m\u001b[1;33m\u001b[0m\u001b[0m\n",
      "\u001b[1;32m~\\anaconda3\\lib\\site-packages\\matplotlib\\image.py\u001b[0m in \u001b[0;36mset_data\u001b[1;34m(self, A)\u001b[0m\n\u001b[0;32m    709\u001b[0m         if not (self._A.ndim == 2\n\u001b[0;32m    710\u001b[0m                 or self._A.ndim == 3 and self._A.shape[-1] in [3, 4]):\n\u001b[1;32m--> 711\u001b[1;33m             raise TypeError(\"Invalid shape {} for image data\"\n\u001b[0m\u001b[0;32m    712\u001b[0m                             .format(self._A.shape))\n\u001b[0;32m    713\u001b[0m \u001b[1;33m\u001b[0m\u001b[0m\n",
      "\u001b[1;31mTypeError\u001b[0m: Invalid shape (1, 1888, 1888, 1) for image data"
     ]
    },
    {
     "data": {
      "image/png": "[encoded data removed]",
      "text/plain": [
       "<Figure size 432x288 with 1 Axes>"
      ]
     },
     "metadata": {
      "needs_background": "light"
     },
     "output_type": "display_data"
    }
   ],
   "source": [
    "#show AB channel of the image\n",
    "plt.imshow(X01) #X01[0,:,:,0]"
   ]
  },
  {
   "cell_type": "code",
   "execution_count": 180,
   "metadata": {},
   "outputs": [],
   "source": [
    "df_X01 = pd.DataFrame(X01[0,:,:,0])"
   ]
  },
  {
   "cell_type": "code",
   "execution_count": 181,
   "metadata": {},
   "outputs": [],
   "source": [
    "df_Y01 = pd.DataFrame(Y01[0,:,:,0])"
   ]
  },
  {
   "cell_type": "code",
   "execution_count": 182,
   "metadata": {},
   "outputs": [
    {
     "data": {
      "text/html": [
       "<div>\n",
       "<style scoped>\n",
       "    .dataframe tbody tr th:only-of-type {\n",
       "        vertical-align: middle;\n",
       "    }\n",
       "\n",
       "    .dataframe tbody tr th {\n",
       "        vertical-align: top;\n",
       "    }\n",
       "\n",
       "    .dataframe thead th {\n",
       "        text-align: right;\n",
       "    }\n",
       "</style>\n",
       "<table border=\"1\" class=\"dataframe\">\n",
       "  <thead>\n",
       "    <tr style=\"text-align: right;\">\n",
       "      <th></th>\n",
       "      <th>0</th>\n",
       "      <th>1</th>\n",
       "      <th>2</th>\n",
       "      <th>3</th>\n",
       "      <th>4</th>\n",
       "      <th>5</th>\n",
       "      <th>6</th>\n",
       "      <th>7</th>\n",
       "      <th>8</th>\n",
       "      <th>9</th>\n",
       "      <th>...</th>\n",
       "      <th>1878</th>\n",
       "      <th>1879</th>\n",
       "      <th>1880</th>\n",
       "      <th>1881</th>\n",
       "      <th>1882</th>\n",
       "      <th>1883</th>\n",
       "      <th>1884</th>\n",
       "      <th>1885</th>\n",
       "      <th>1886</th>\n",
       "      <th>1887</th>\n",
       "    </tr>\n",
       "  </thead>\n",
       "  <tbody>\n",
       "    <tr>\n",
       "      <th>count</th>\n",
       "      <td>1888.0</td>\n",
       "      <td>1888.0</td>\n",
       "      <td>1888.0</td>\n",
       "      <td>1888.0</td>\n",
       "      <td>1888.0</td>\n",
       "      <td>1888.0</td>\n",
       "      <td>1888.0</td>\n",
       "      <td>1888.0</td>\n",
       "      <td>1888.0</td>\n",
       "      <td>1888.0</td>\n",
       "      <td>...</td>\n",
       "      <td>1888.0</td>\n",
       "      <td>1888.0</td>\n",
       "      <td>1888.0</td>\n",
       "      <td>1888.0</td>\n",
       "      <td>1888.0</td>\n",
       "      <td>1888.0</td>\n",
       "      <td>1888.0</td>\n",
       "      <td>1888.0</td>\n",
       "      <td>1888.0</td>\n",
       "      <td>1888.0</td>\n",
       "    </tr>\n",
       "    <tr>\n",
       "      <th>mean</th>\n",
       "      <td>255.0</td>\n",
       "      <td>255.0</td>\n",
       "      <td>255.0</td>\n",
       "      <td>255.0</td>\n",
       "      <td>255.0</td>\n",
       "      <td>255.0</td>\n",
       "      <td>255.0</td>\n",
       "      <td>255.0</td>\n",
       "      <td>255.0</td>\n",
       "      <td>255.0</td>\n",
       "      <td>...</td>\n",
       "      <td>255.0</td>\n",
       "      <td>255.0</td>\n",
       "      <td>255.0</td>\n",
       "      <td>255.0</td>\n",
       "      <td>255.0</td>\n",
       "      <td>255.0</td>\n",
       "      <td>255.0</td>\n",
       "      <td>255.0</td>\n",
       "      <td>255.0</td>\n",
       "      <td>255.0</td>\n",
       "    </tr>\n",
       "    <tr>\n",
       "      <th>std</th>\n",
       "      <td>0.0</td>\n",
       "      <td>0.0</td>\n",
       "      <td>0.0</td>\n",
       "      <td>0.0</td>\n",
       "      <td>0.0</td>\n",
       "      <td>0.0</td>\n",
       "      <td>0.0</td>\n",
       "      <td>0.0</td>\n",
       "      <td>0.0</td>\n",
       "      <td>0.0</td>\n",
       "      <td>...</td>\n",
       "      <td>0.0</td>\n",
       "      <td>0.0</td>\n",
       "      <td>0.0</td>\n",
       "      <td>0.0</td>\n",
       "      <td>0.0</td>\n",
       "      <td>0.0</td>\n",
       "      <td>0.0</td>\n",
       "      <td>0.0</td>\n",
       "      <td>0.0</td>\n",
       "      <td>0.0</td>\n",
       "    </tr>\n",
       "    <tr>\n",
       "      <th>min</th>\n",
       "      <td>255.0</td>\n",
       "      <td>255.0</td>\n",
       "      <td>255.0</td>\n",
       "      <td>255.0</td>\n",
       "      <td>255.0</td>\n",
       "      <td>255.0</td>\n",
       "      <td>255.0</td>\n",
       "      <td>255.0</td>\n",
       "      <td>255.0</td>\n",
       "      <td>255.0</td>\n",
       "      <td>...</td>\n",
       "      <td>255.0</td>\n",
       "      <td>255.0</td>\n",
       "      <td>255.0</td>\n",
       "      <td>255.0</td>\n",
       "      <td>255.0</td>\n",
       "      <td>255.0</td>\n",
       "      <td>255.0</td>\n",
       "      <td>255.0</td>\n",
       "      <td>255.0</td>\n",
       "      <td>255.0</td>\n",
       "    </tr>\n",
       "    <tr>\n",
       "      <th>25%</th>\n",
       "      <td>255.0</td>\n",
       "      <td>255.0</td>\n",
       "      <td>255.0</td>\n",
       "      <td>255.0</td>\n",
       "      <td>255.0</td>\n",
       "      <td>255.0</td>\n",
       "      <td>255.0</td>\n",
       "      <td>255.0</td>\n",
       "      <td>255.0</td>\n",
       "      <td>255.0</td>\n",
       "      <td>...</td>\n",
       "      <td>255.0</td>\n",
       "      <td>255.0</td>\n",
       "      <td>255.0</td>\n",
       "      <td>255.0</td>\n",
       "      <td>255.0</td>\n",
       "      <td>255.0</td>\n",
       "      <td>255.0</td>\n",
       "      <td>255.0</td>\n",
       "      <td>255.0</td>\n",
       "      <td>255.0</td>\n",
       "    </tr>\n",
       "    <tr>\n",
       "      <th>50%</th>\n",
       "      <td>255.0</td>\n",
       "      <td>255.0</td>\n",
       "      <td>255.0</td>\n",
       "      <td>255.0</td>\n",
       "      <td>255.0</td>\n",
       "      <td>255.0</td>\n",
       "      <td>255.0</td>\n",
       "      <td>255.0</td>\n",
       "      <td>255.0</td>\n",
       "      <td>255.0</td>\n",
       "      <td>...</td>\n",
       "      <td>255.0</td>\n",
       "      <td>255.0</td>\n",
       "      <td>255.0</td>\n",
       "      <td>255.0</td>\n",
       "      <td>255.0</td>\n",
       "      <td>255.0</td>\n",
       "      <td>255.0</td>\n",
       "      <td>255.0</td>\n",
       "      <td>255.0</td>\n",
       "      <td>255.0</td>\n",
       "    </tr>\n",
       "    <tr>\n",
       "      <th>75%</th>\n",
       "      <td>255.0</td>\n",
       "      <td>255.0</td>\n",
       "      <td>255.0</td>\n",
       "      <td>255.0</td>\n",
       "      <td>255.0</td>\n",
       "      <td>255.0</td>\n",
       "      <td>255.0</td>\n",
       "      <td>255.0</td>\n",
       "      <td>255.0</td>\n",
       "      <td>255.0</td>\n",
       "      <td>...</td>\n",
       "      <td>255.0</td>\n",
       "      <td>255.0</td>\n",
       "      <td>255.0</td>\n",
       "      <td>255.0</td>\n",
       "      <td>255.0</td>\n",
       "      <td>255.0</td>\n",
       "      <td>255.0</td>\n",
       "      <td>255.0</td>\n",
       "      <td>255.0</td>\n",
       "      <td>255.0</td>\n",
       "    </tr>\n",
       "    <tr>\n",
       "      <th>max</th>\n",
       "      <td>255.0</td>\n",
       "      <td>255.0</td>\n",
       "      <td>255.0</td>\n",
       "      <td>255.0</td>\n",
       "      <td>255.0</td>\n",
       "      <td>255.0</td>\n",
       "      <td>255.0</td>\n",
       "      <td>255.0</td>\n",
       "      <td>255.0</td>\n",
       "      <td>255.0</td>\n",
       "      <td>...</td>\n",
       "      <td>255.0</td>\n",
       "      <td>255.0</td>\n",
       "      <td>255.0</td>\n",
       "      <td>255.0</td>\n",
       "      <td>255.0</td>\n",
       "      <td>255.0</td>\n",
       "      <td>255.0</td>\n",
       "      <td>255.0</td>\n",
       "      <td>255.0</td>\n",
       "      <td>255.0</td>\n",
       "    </tr>\n",
       "  </tbody>\n",
       "</table>\n",
       "<p>8 rows × 1888 columns</p>\n",
       "</div>"
      ],
      "text/plain": [
       "         0       1       2       3       4       5       6       7       8     \\\n",
       "count  1888.0  1888.0  1888.0  1888.0  1888.0  1888.0  1888.0  1888.0  1888.0   \n",
       "mean    255.0   255.0   255.0   255.0   255.0   255.0   255.0   255.0   255.0   \n",
       "std       0.0     0.0     0.0     0.0     0.0     0.0     0.0     0.0     0.0   \n",
       "min     255.0   255.0   255.0   255.0   255.0   255.0   255.0   255.0   255.0   \n",
       "25%     255.0   255.0   255.0   255.0   255.0   255.0   255.0   255.0   255.0   \n",
       "50%     255.0   255.0   255.0   255.0   255.0   255.0   255.0   255.0   255.0   \n",
       "75%     255.0   255.0   255.0   255.0   255.0   255.0   255.0   255.0   255.0   \n",
       "max     255.0   255.0   255.0   255.0   255.0   255.0   255.0   255.0   255.0   \n",
       "\n",
       "         9     ...    1878    1879    1880    1881    1882    1883    1884  \\\n",
       "count  1888.0  ...  1888.0  1888.0  1888.0  1888.0  1888.0  1888.0  1888.0   \n",
       "mean    255.0  ...   255.0   255.0   255.0   255.0   255.0   255.0   255.0   \n",
       "std       0.0  ...     0.0     0.0     0.0     0.0     0.0     0.0     0.0   \n",
       "min     255.0  ...   255.0   255.0   255.0   255.0   255.0   255.0   255.0   \n",
       "25%     255.0  ...   255.0   255.0   255.0   255.0   255.0   255.0   255.0   \n",
       "50%     255.0  ...   255.0   255.0   255.0   255.0   255.0   255.0   255.0   \n",
       "75%     255.0  ...   255.0   255.0   255.0   255.0   255.0   255.0   255.0   \n",
       "max     255.0  ...   255.0   255.0   255.0   255.0   255.0   255.0   255.0   \n",
       "\n",
       "         1885    1886    1887  \n",
       "count  1888.0  1888.0  1888.0  \n",
       "mean    255.0   255.0   255.0  \n",
       "std       0.0     0.0     0.0  \n",
       "min     255.0   255.0   255.0  \n",
       "25%     255.0   255.0   255.0  \n",
       "50%     255.0   255.0   255.0  \n",
       "75%     255.0   255.0   255.0  \n",
       "max     255.0   255.0   255.0  \n",
       "\n",
       "[8 rows x 1888 columns]"
      ]
     },
     "execution_count": 182,
     "metadata": {},
     "output_type": "execute_result"
    }
   ],
   "source": [
    "df_Y01.describe()"
   ]
  }
 ],
 "metadata": {
  "deepnote": {},
  "deepnote_execution_queue": [],
  "deepnote_notebook_id": "db6bc5cd-12ac-4fa4-b95f-4604d6441ef4",
  "kernelspec": {
   "display_name": "Python 3",
   "language": "python",
   "name": "python3"
  },
  "language_info": {
   "codemirror_mode": {
    "name": "ipython",
    "version": 3
   },
   "file_extension": ".py",
   "mimetype": "text/x-python",
   "name": "python",
   "nbconvert_exporter": "python",
   "pygments_lexer": "ipython3",
   "version": "3.8.8"
  }
 },
 "nbformat": 4,
 "nbformat_minor": 2
}
